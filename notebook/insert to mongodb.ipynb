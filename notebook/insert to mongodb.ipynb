{
 "cells": [
  {
   "cell_type": "code",
   "execution_count": 8,
   "metadata": {},
   "outputs": [
    {
     "name": "stderr",
     "output_type": "stream",
     "text": [
      "/workspaces/WildFireSimulation/scripts/db_utils.py:41: UserWarning: You appear to be connected to a CosmosDB cluster. For more information regarding feature compatibility and support please visit https://www.mongodb.com/supportability/cosmosdb\n",
      "  client = MongoClient(mongo_uri)\n"
     ]
    }
   ],
   "source": [
    "from db_utils import insert_data_to_mongodb\n",
    "\n",
    "# Path to your CSV file\n",
    "csv_file_path = '/workspaces/WildFireSimulation/final_engineered_data_tft.csv'\n",
    "\n",
    "# Collection name\n",
    "collection_name = 'wildfire_collection_feature_engineering_final'\n",
    "\n",
    "# Function call to insert data\n",
    "insert_data_to_mongodb(csv_file_path, collection_name)\n",
    "\n",
    "\n",
    "\n"
   ]
  }
 ],
 "metadata": {
  "kernelspec": {
   "display_name": "Python 3",
   "language": "python",
   "name": "python3"
  },
  "language_info": {
   "codemirror_mode": {
    "name": "ipython",
    "version": 3
   },
   "file_extension": ".py",
   "mimetype": "text/x-python",
   "name": "python",
   "nbconvert_exporter": "python",
   "pygments_lexer": "ipython3",
   "version": "3.10.13"
  }
 },
 "nbformat": 4,
 "nbformat_minor": 2
}
