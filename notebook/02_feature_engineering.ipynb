{
  "cells": [
    {
      "cell_type": "code",
      "execution_count": 1,
      "metadata": {
        "colab": {
          "base_uri": "https://localhost:8080/"
        },
        "id": "kNKEJKyDUpCW",
        "outputId": "d60227a1-0cc0-4463-812a-29fbb30c5541"
      },
      "outputs": [],
      "source": [
        "# Import Libraries\n",
        "import os\n",
        "import sys\n",
        "import pandas as pd\n",
        "import numpy as np\n",
        "import seaborn as sns\n",
        "import matplotlib.pyplot as plt\n",
        "import geopandas as gpd\n",
        "from pymongo import MongoClient\n",
        "from dotenv import load_dotenv\n",
        "from sklearn.preprocessing import StandardScaler, OneHotEncoder"
      ]
    },
    {
      "cell_type": "code",
      "execution_count": 2,
      "metadata": {},
      "outputs": [],
      "source": [
        "# Add the 'scripts' directory to the Python path\n",
        "sys.path.append(os.path.abspath(os.path.join('..', 'scripts')))"
      ]
    },
    {
      "cell_type": "code",
      "execution_count": 3,
      "metadata": {},
      "outputs": [],
      "source": [
        "import extract_to_mongodb as etm\n",
        "import db_utils as dbu"
      ]
    },
    {
      "cell_type": "code",
      "execution_count": null,
      "metadata": {},
      "outputs": [],
      "source": [
        "# print(dir(dbu))"
      ]
    },
    {
      "cell_type": "code",
      "execution_count": 4,
      "metadata": {},
      "outputs": [],
      "source": [
        "collection_name = os.getenv('COLLECTION_NAME_CLEANED')\n",
        "naturalearth_lowres = os.getenv('NATURALEARTH_SHAPEFILE_PATH')"
      ]
    },
    {
      "cell_type": "code",
      "execution_count": 5,
      "metadata": {},
      "outputs": [
        {
          "name": "stdout",
          "output_type": "stream",
          "text": [
            "Collection Name: wildfire_cleaned_data\n"
          ]
        }
      ],
      "source": [
        "print(f\"Collection Name: {collection_name}\")"
      ]
    },
    {
      "cell_type": "markdown",
      "metadata": {},
      "source": [
        "Load the Data"
      ]
    },
    {
      "cell_type": "code",
      "execution_count": 7,
      "metadata": {},
      "outputs": [
        {
          "name": "stderr",
          "output_type": "stream",
          "text": [
            "INFO:pymongo.client:You appear to be connected to a CosmosDB cluster. For more information regarding feature compatibility and support please visit https://www.mongodb.com/supportability/cosmosdb\n"
          ]
        },
        {
          "name": "stdout",
          "output_type": "stream",
          "text": [
            "An error occurred: name 'reverse_geocode_nominatim' is not defined\n"
          ]
        }
      ],
      "source": [
        "# Load the cleaned data\n",
        "geo_wfp = dbu.load_data_from_mongodb(collection_name)"
      ]
    },
    {
      "cell_type": "code",
      "execution_count": null,
      "metadata": {},
      "outputs": [],
      "source": [
        "geo_wfp.head(5)"
      ]
    },
    {
      "cell_type": "code",
      "execution_count": null,
      "metadata": {},
      "outputs": [],
      "source": [
        "print(\"\\nDescribe the GeoDataFrame:\")\n",
        "geo_wfp.describe()"
      ]
    },
    {
      "cell_type": "code",
      "execution_count": null,
      "metadata": {},
      "outputs": [],
      "source": [
        "# Check for missing values\n",
        "print(\"\\nMissing values in the GeoDataFrame:\")\n",
        "print(geo_wfp.isnull().sum())"
      ]
    },
    {
      "cell_type": "code",
      "execution_count": null,
      "metadata": {},
      "outputs": [],
      "source": [
        "geo_wfp.drop(columns=['geometry'], inplace=True)\n",
        "geo_wfp.duplicated().sum()"
      ]
    },
    {
      "cell_type": "markdown",
      "metadata": {},
      "source": [
        "Feature Engineering"
      ]
    },
    {
      "cell_type": "code",
      "execution_count": null,
      "metadata": {},
      "outputs": [],
      "source": [
        "import geopandas as gpd\n",
        "import requests"
      ]
    },
    {
      "cell_type": "code",
      "execution_count": null,
      "metadata": {},
      "outputs": [],
      "source": []
    },
    {
      "cell_type": "code",
      "execution_count": null,
      "metadata": {},
      "outputs": [],
      "source": [
        "geo_wfp.head(5)"
      ]
    },
    {
      "cell_type": "code",
      "execution_count": null,
      "metadata": {},
      "outputs": [],
      "source": [
        "# Ensuring 'rep_date' is in datetime format is essential to generating time-based features\n",
        "geo_wfp['rep_date'] = pd.to_datetime(geo_wfp['rep_date'])"
      ]
    },
    {
      "cell_type": "code",
      "execution_count": null,
      "metadata": {},
      "outputs": [],
      "source": [
        "# Generate time-based features\n",
        "geo_wfp['year'] = geo_wfp['rep_date'].dt.year\n",
        "geo_wfp['month'] = geo_wfp['rep_date'].dt.month\n",
        "geo_wfp['day'] = geo_wfp['rep_date'].dt.day\n",
        "geo_wfp['dayofweek'] = geo_wfp['rep_date'].dt.dayofweek\n",
        "geo_wfp['weekofyear'] = geo_wfp['rep_date'].dt.isocalendar().week"
      ]
    },
    {
      "cell_type": "code",
      "execution_count": null,
      "metadata": {},
      "outputs": [],
      "source": [
        "# Drop unnecessary columns\n",
        "columns_to_drop = ['_id', 'rep_date', 'source', 'sensor', 'satellite']\n",
        "geo_wfp.drop(columns=columns_to_drop, inplace=True)"
      ]
    },
    {
      "cell_type": "code",
      "execution_count": null,
      "metadata": {},
      "outputs": [],
      "source": [
        "# Encode categorical variables\n",
        "categorical_cols = ['fuel', 'ecozone']\n",
        "encoder = OneHotEncoder(sparse_output=False, drop='first')\n",
        "encoded_features = encoder.fit_transform(geo_wfp[categorical_cols])\n",
        "encoded_df = pd.DataFrame(encoded_features, columns=encoder.get_feature_names_out(categorical_cols))\n",
        "geo_wfp = pd.concat([geo_wfp.reset_index(drop=True), encoded_df.reset_index(drop=True)], axis=1)\n",
        "geo_wfp.drop(columns=categorical_cols, inplace=True)"
      ]
    },
    {
      "cell_type": "code",
      "execution_count": null,
      "metadata": {},
      "outputs": [],
      "source": [
        "# Lag features are previous values of the target variable that help in capturing temporal dependencies and will be used as predictors in time series forecasting.\n",
        "geo_wfp['cfb_lag1'] = geo_wfp['cfb'].shift(1)\n",
        "geo_wfp['cfb_lag2'] = geo_wfp['cfb'].shift(2)\n",
        "geo_wfp['cfb_lag3'] = geo_wfp['cfb'].shift(3)"
      ]
    },
    {
      "cell_type": "code",
      "execution_count": null,
      "metadata": {},
      "outputs": [],
      "source": [
        "# Get the rolling statistics like mean and standard deviation over a window (e.g., 7 days, 30 days)  to capture trends and seasonality in the data.\n",
        "geo_wfp['cfb_roll_mean_7'] = geo_wfp['cfb'].rolling(window=7).mean()\n",
        "geo_wfp['cfb_roll_std_7'] = geo_wfp['cfb'].rolling(window=7).std()\n",
        "geo_wfp['cfb_roll_mean_30'] = geo_wfp['cfb'].rolling(window=30).mean()\n",
        "geo_wfp['cfb_roll_std_30'] = geo_wfp['cfb'].rolling(window=30).std()"
      ]
    },
    {
      "cell_type": "code",
      "execution_count": null,
      "metadata": {},
      "outputs": [],
      "source": [
        "# Interaction features like 'temp_rh_interaction' capture the combined effect of multiple variables which might be more informative than the individual features.\n",
        "geo_wfp['temp_rh_interaction'] = geo_wfp['temp'] * geo_wfp['rh']"
      ]
    },
    {
      "cell_type": "code",
      "execution_count": null,
      "metadata": {},
      "outputs": [],
      "source": [
        "# Normalize features to ensure that each feature contributes equally\n",
        "\n",
        "features_to_scale = ['temp', 'rh', 'ws', 'cfb_lag1', 'cfb_lag2', 'cfb_lag3', \n",
        "                     'cfb_roll_mean_7', 'cfb_roll_std_7', 'cfb_roll_mean_30', \n",
        "                     'cfb_roll_std_30', 'temp_rh_interaction']\n",
        "\n",
        "scaler = StandardScaler()\n",
        "geo_wfp[features_to_scale] = scaler.fit_transform(geo_wfp[features_to_scale])"
      ]
    },
    {
      "cell_type": "code",
      "execution_count": null,
      "metadata": {},
      "outputs": [],
      "source": [
        "# Transform longitude and latitude into sine and cosine components for cyclical encoding\n",
        "geo_wfp['lat_sin'] = np.sin(np.radians(geo_wfp['lat']))\n",
        "geo_wfp['lat_cos'] = np.cos(np.radians(geo_wfp['lat']))\n",
        "geo_wfp['lon_sin'] = np.sin(np.radians(geo_wfp['lon']))\n",
        "geo_wfp['lon_cos'] = np.cos(np.radians(geo_wfp['lon']))"
      ]
    },
    {
      "cell_type": "code",
      "execution_count": null,
      "metadata": {},
      "outputs": [],
      "source": [
        "# Drop original longitude and latitude columns\n",
        "geo_wfp.drop(columns=['lat', 'lon'], inplace=True)"
      ]
    },
    {
      "cell_type": "code",
      "execution_count": null,
      "metadata": {},
      "outputs": [],
      "source": [
        "# Convert to GeoDataFrame\n",
        "geo_wfp = gpd.GeoDataFrame(geo_wfp, geometry=gpd.points_from_xy(geo_wfp['lon_cos'], geo_wfp['lat_cos']))\n",
        "geo_wfp.set_crs(epsg=4326, inplace=True)"
      ]
    },
    {
      "cell_type": "code",
      "execution_count": null,
      "metadata": {},
      "outputs": [],
      "source": [
        "geo_wfp.head()"
      ]
    },
    {
      "cell_type": "code",
      "execution_count": null,
      "metadata": {},
      "outputs": [],
      "source": [
        "geo_wfp.info()"
      ]
    },
    {
      "cell_type": "code",
      "execution_count": null,
      "metadata": {},
      "outputs": [],
      "source": [
        "geo_wfp.columns"
      ]
    },
    {
      "cell_type": "markdown",
      "metadata": {},
      "source": [
        "## Exploratory Data Analysis"
      ]
    },
    {
      "cell_type": "code",
      "execution_count": null,
      "metadata": {},
      "outputs": [],
      "source": [
        "# Select a subset of relevant columns for correlation heatmap\n",
        "relevant_columns = ['temp', 'rh', 'ws', 'cfb_lag1', 'cfb_lag2', 'cfb_lag3', \n",
        "                    'cfb_roll_mean_7', 'cfb_roll_std_7', 'cfb_roll_mean_30', \n",
        "                    'cfb_roll_std_30', 'temp_rh_interaction', 'cfb']"
      ]
    },
    {
      "cell_type": "code",
      "execution_count": null,
      "metadata": {},
      "outputs": [],
      "source": [
        "# Correlation heatmap\n",
        "plt.figure(figsize=(15, 10))\n",
        "sns.heatmap(geo_wfp[relevant_columns].corr(), annot=True, fmt=\".2f\", cmap='coolwarm')\n",
        "plt.title('Correlation Heatmap')\n",
        "plt.show()"
      ]
    },
    {
      "cell_type": "markdown",
      "metadata": {},
      "source": [
        "Temperature (temp):\n",
        "Correlation with CFB: Positive correlation of 0.25, indicating that as temperature increases, CFB tends to increase.\n",
        "Correlation with RH: Negative correlation of -0.35, suggesting that higher temperatures are often associated with lower relative humidity.\n",
        "\n",
        "Relative Humidity (rh):\n",
        "Correlation with CFB: Negative correlation of -0.32, indicating that lower humidity levels are associated with higher CFB values.\n",
        "Correlation with Temperature: As mentioned, there is a negative correlation with temperature.\n",
        "\n",
        "Wind Speed (ws):\n",
        "Correlation with CFB: Weak positive correlation of 0.06, indicating minimal direct impact on CFB.\n",
        "\n",
        "Lag Features (cfb_lag1, cfb_lag2, cfb_lag3):\n",
        "Correlation with CFB: Positive correlations (0.37, 0.32, 0.30), indicating that previous CFB values are good predictors of current CFB values.\n",
        "Inter-Correlation: Strong inter-correlation among lag features, especially between adjacent lags.\n",
        "\n",
        "Rolling Mean Features (cfb_roll_mean_7, cfb_roll_mean_30):\n",
        "Correlation with CFB: Strong positive correlations (0.63 and 0.52 respectively). These features effectively capture the trend and are important for forecasting.\n",
        "\n",
        "Rolling Standard Deviation Features (cfb_roll_std_7, cfb_roll_std_30):\n",
        "Correlation with CFB: Moderate correlations (0.26 and 0.23), suggesting that variability over these periods has some predictive power.\n",
        "\n",
        "Interaction Feature (temp_rh_interaction):\n",
        "Correlation with CFB: Weak negative correlation (-0.12), indicating that the interaction between temperature and humidity has a small inverse relationship with CFB.\n",
        "Correlation with Individual Features: Strong positive correlation with temperature (0.43) and relative humidity (0.63), as expected from the interaction."
      ]
    },
    {
      "cell_type": "code",
      "execution_count": null,
      "metadata": {},
      "outputs": [],
      "source": [
        "# Boxplots of significant features\n",
        "columns_to_visualize = ['ws', 'pcp', 'dmc', 'dc', 'ros', 'hfi', 'cfl', 'tfc0']\n",
        "\n",
        "fig, axes = plt.subplots(len(columns_to_visualize), 1, figsize=(12, 8))\n",
        "for i, column in enumerate(columns_to_visualize):\n",
        "    sns.boxplot(x=geo_wfp[column], ax=axes[i], color='skyblue')\n",
        "    axes[i].set_title(f'Boxplot of {column}')\n",
        "plt.tight_layout()\n",
        "plt.show()"
      ]
    },
    {
      "cell_type": "markdown",
      "metadata": {},
      "source": [
        "Wind Speed (ws): Directly influences fire spread.\n",
        "Precipitation (pcp): Affects fuel moisture and ignition likelihood.\n",
        "Duff Moisture Code (dmc): Indicates moisture content in organic materials.\n",
        "Drought Code (dc): Long-term indicator of dry conditions.\n",
        "Rate of Spread (ros): Critical for understanding fire dynamics.\n",
        "Head Fire Intensity (hfi): Measures energy release from the fire.\n",
        "Crown Fraction Burned (cfl): Assesses impact on forest structure.\n",
        "Total Fuel Consumption (tfc0): Provides insights into fire intensity."
      ]
    },
    {
      "cell_type": "code",
      "execution_count": null,
      "metadata": {},
      "outputs": [],
      "source": [
        "# Create a 'year_month' column for grouping\n",
        "geo_wfp['year_month'] = geo_wfp['year'].astype(str) + '-' + geo_wfp['month'].astype(str)"
      ]
    },
    {
      "cell_type": "code",
      "execution_count": null,
      "metadata": {},
      "outputs": [],
      "source": [
        "# Calculate the mean 'cfb' for each 'year_month'\n",
        "monthly_avg_cfb = geo_wfp.groupby('year_month')['cfb'].mean()"
      ]
    },
    {
      "cell_type": "code",
      "execution_count": null,
      "metadata": {},
      "outputs": [],
      "source": [
        "# Generate all month labels\n",
        "all_months = pd.date_range(start='2020-01-01', end='2023-12-31', freq='M').strftime('%Y-%m')"
      ]
    },
    {
      "cell_type": "code",
      "execution_count": null,
      "metadata": {},
      "outputs": [],
      "source": [
        "# Plot the time series\n",
        "plt.figure(figsize=(15, 5))\n",
        "monthly_avg_cfb.plot()\n",
        "plt.title('Time Series of CFB by Month')\n",
        "plt.xlabel('Date')\n",
        "plt.ylabel('CFB')\n",
        "plt.xticks(ticks=range(len(all_months)), labels=all_months, rotation=90)  # Set all month labels\n",
        "plt.show()"
      ]
    },
    {
      "cell_type": "markdown",
      "metadata": {},
      "source": [
        "Peaks during certain months, particularly in the summer (June, July). Indicates a seasonal trend where wildfires are more severe in summer months."
      ]
    },
    {
      "cell_type": "code",
      "execution_count": null,
      "metadata": {},
      "outputs": [],
      "source": [
        "# Plot time series of CFB by year\n",
        "plt.figure(figsize=(15, 5))\n",
        "annual_avg_cfb = geo_wfp.groupby('year')['cfb'].mean().reset_index()\n",
        "plt.plot(annual_avg_cfb['year'], annual_avg_cfb['cfb'], marker='o')\n",
        "plt.title('Time Series of CFB by Year')\n",
        "plt.xlabel('Year')\n",
        "plt.ylabel('CFB')\n",
        "plt.grid(True)\n",
        "plt.xticks(annual_avg_cfb['year'])\n",
        "plt.show()"
      ]
    },
    {
      "cell_type": "code",
      "execution_count": null,
      "metadata": {},
      "outputs": [],
      "source": [
        "# Pairplot to visualize relationships between features and the target\n",
        "sns.pairplot(geo_wfp, vars=columns_to_visualize + ['cfb'])\n",
        "plt.show()"
      ]
    },
    {
      "cell_type": "markdown",
      "metadata": {},
      "source": [
        "Temperature (temp) vs. cfb:\n",
        "\n",
        "A positive relationship where higher temperatures generally correlate with higher cfb values.\n",
        "This confirms the importance of temperature in influencing wildfire severity.\n",
        "Relative Humidity (rh) vs. cfb:\n",
        "\n",
        "A negative relationship where lower humidity levels correlate with higher cfb values.\n",
        "Highlights the role of dry conditions in exacerbating wildfires.\n",
        "Wind Speed (ws) vs. cfb:\n",
        "\n",
        "The relationship is less clear, with cfb values spread across different wind speeds.\n",
        "Wind speed might have an indirect or situational impact rather than a direct one.\n",
        "Drought Code (dc) vs. cfb:\n",
        "\n",
        "Higher dc values (indicating severe drought conditions) show a spread across higher cfb values.\n",
        "Suggests that drought conditions contribute significantly to wildfire severity.\n",
        "Rate of Spread (ros) vs. cfb:\n",
        "\n",
        "Positive correlation where higher ros values (faster spreading fires) are associated with higher cfb values.\n",
        "Indicates that fast-spreading fires are likely more severe.\n",
        "Historical Fire Data (Lag Features) vs. cfb:\n",
        "\n",
        "Positive correlations with previous cfb values, particularly cfb_lag1, cfb_lag2, and cfb_lag3.\n",
        "Shows the importance of historical fire activity in predicting current fire severity.\n",
        "Rolling Statistics:\n",
        "\n",
        "cfb_roll_mean_7 and cfb_roll_mean_30 show strong positive correlations with cfb.\n",
        "Indicates that smoothed trends over time are valuable predictors of current fire severity."
      ]
    },
    {
      "cell_type": "code",
      "execution_count": null,
      "metadata": {},
      "outputs": [],
      "source": [
        "# Wildfire Incidents by Month\n",
        "monthly_incidents = geo_wfp.groupby(['year', 'month']).size().reset_index(name='count')\n",
        "monthly_incidents['date'] = pd.to_datetime(monthly_incidents[['year', 'month']].assign(day=1))\n",
        "\n",
        "plt.figure(figsize=(15, 5))\n",
        "sns.lineplot(x='date', y='count', data=monthly_incidents, marker='o')\n",
        "plt.title('Wildfire Incidents by Month')\n",
        "plt.xlabel('Date')\n",
        "plt.ylabel('Number of Incidents')\n",
        "plt.grid(True)\n",
        "plt.show()"
      ]
    },
    {
      "cell_type": "code",
      "execution_count": null,
      "metadata": {},
      "outputs": [],
      "source": [
        "# Group the data by year and count the number of incidents per year\n",
        "wildfire_incidents_by_year = geo_wfp.groupby('year').size()\n",
        "\n",
        "# Plot the yearly count of wildfire incidents\n",
        "plt.figure(figsize=(12, 6))\n",
        "wildfire_incidents_by_year.plot(kind='bar', color='firebrick', alpha=0.7)\n",
        "plt.title('Wildfire Incidents by Year')\n",
        "plt.xlabel('Year')\n",
        "plt.ylabel('Number of Incidents')\n",
        "plt.xticks(rotation=45)\n",
        "plt.show()"
      ]
    },
    {
      "cell_type": "markdown",
      "metadata": {},
      "source": [
        "Based on these insights, the features below will help capture the temporal dependencies and environmental conditions influencing wildfire severity\n",
        "\n",
        "1. Lag Features: cfb_lag1, cfb_lag2, cfb_lag3\n",
        "\n",
        "2. Rolling Statistics: cfb_roll_mean_7, cfb_roll_mean_30\n",
        "\n",
        "3. Weather Variables: temp, rh, ws\n",
        "\n",
        "4. Interaction Terms: temp_rh_interaction\n",
        "\n",
        "5. Time-Based Features: year, month, day, dayofweek, weekofyear\n",
        "\n",
        "6. Encoded Categorical Variables: Encoded fuel, ecozone, and agency\n"
      ]
    },
    {
      "cell_type": "markdown",
      "metadata": {},
      "source": [
        "# Features to Keep\n",
        "Target Variable: cfb (to predict the wildfire severity)\n",
        "\n",
        "Time-based Features:\n",
        "year\n",
        "month\n",
        "day\n",
        "\n",
        "Weather Conditions:\n",
        "temp (Temperature)\n",
        "rh (Relative Humidity)\n",
        "ws (Wind Speed)\n",
        "pcp (Precipitation)\n",
        "\n",
        "Fire Weather Index System Components:\n",
        "ffmc (Fine Fuel Moisture Code)\n",
        "dmc (Duff Moisture Code)\n",
        "dc (Drought Code)\n",
        "isi (Initial Spread Index)\n",
        "bui (Build-Up Index)\n",
        "fwi (Fire Weather Index)\n",
        "\n",
        "Topography and Vegetation:\n",
        "elev (Elevation)\n",
        "sfc (Surface Fuel Consumption)\n",
        "tfc (Total Fuel Consumption)\n",
        "sfc0 (Surface Fuel Consumption at Initial Spread)\n",
        "cfl (Crown Fraction Burned)\n",
        "tfc0 (Total Fuel Consumption at Initial Spread)\n",
        "\n",
        "Latitude and Longitude (Cyclical Encoding):\n",
        "lat_sin, lat_cos, lon_sin, lon_cos"
      ]
    },
    {
      "cell_type": "markdown",
      "metadata": {},
      "source": [
        "# Features to Drop\n",
        "\n",
        "agency\n",
        "\n",
        "Categorical Variables After Encoding:\n",
        "Original fuel, ecozone columns after encoding\n",
        "\n",
        "Geospatial Data:\n",
        "Original lat, lon\n",
        "\n",
        "Lag Features and Rolling Statistics:\n",
        "cfb_lag1, cfb_lag2, cfb_lag3\n",
        "cfb_roll_mean_7, cfb_roll_std_7, cfb_roll_mean_30, cfb_roll_std_30\n",
        "\n",
        "temp_rh_interaction\n",
        "\n",
        "dayofweek\n",
        "weekofyear"
      ]
    },
    {
      "cell_type": "code",
      "execution_count": null,
      "metadata": {},
      "outputs": [],
      "source": [
        "# Define the columns to drop based on the current DataFrame\n",
        "columns_to_drop_final = [\n",
        "    'fuel_C2', 'fuel_C3', 'fuel_C4', 'fuel_C5', 'fuel_C6', 'fuel_C7', 'fuel_D1',\n",
        "    'fuel_D2', 'fuel_M1_25', 'fuel_M1_35', 'fuel_M1_50', 'fuel_M1_65',\n",
        "    'fuel_M1_75', 'fuel_M2_25', 'fuel_M2_35', 'fuel_M2_50', 'fuel_M2_65',\n",
        "    'fuel_M2_75', 'fuel_O1a', 'fuel_O1b', 'fuel_S1', 'fuel_S2', 'fuel_bog',\n",
        "    'fuel_farm', 'fuel_low_veg', 'fuel_non_fuel', 'fuel_unknown',\n",
        "    'fuel_urban', 'fuel_water', 'ecozone_1', 'ecozone_10', 'ecozone_11',\n",
        "    'ecozone_12', 'ecozone_13', 'ecozone_14', 'ecozone_15', 'ecozone_2',\n",
        "    'ecozone_3', 'ecozone_4', 'ecozone_5', 'ecozone_5a', 'ecozone_5b',\n",
        "    'ecozone_6', 'ecozone_6a', 'ecozone_6b', 'ecozone_7', 'ecozone_8',\n",
        "    'ecozone_9', 'geometry', 'agency', 'fuel', 'ecozone', 'cfb_lag1', 'cfb_lag2', 'cfb_lag3',\n",
        "    'cfb_roll_mean_7', 'cfb_roll_std_7', 'cfb_roll_mean_30', 'cfb_roll_std_30',\n",
        "    'temp_rh_interaction', 'dayofweek', 'weekofyear'\n",
        "]\n",
        "\n",
        "# Filter the list to only include columns that exist in the DataFrame\n",
        "columns_to_drop_final = [col for col in columns_to_drop_final if col in geo_wfp.columns]\n",
        "\n",
        "# Drop the redundant or irrelevant features\n",
        "geo_wfp.drop(columns=columns_to_drop_final, inplace=True)"
      ]
    },
    {
      "cell_type": "code",
      "execution_count": null,
      "metadata": {},
      "outputs": [],
      "source": [
        "# Print the final columns of the DataFrame\n",
        "print(\"Final columns of the DataFrame:\")\n",
        "print(geo_wfp.columns)"
      ]
    },
    {
      "cell_type": "code",
      "execution_count": null,
      "metadata": {},
      "outputs": [],
      "source": [
        "geo_wfp.info()"
      ]
    },
    {
      "cell_type": "code",
      "execution_count": null,
      "metadata": {},
      "outputs": [],
      "source": [
        "from geopy.geocoders import Nominatim\n",
        "import math"
      ]
    },
    {
      "cell_type": "code",
      "execution_count": null,
      "metadata": {},
      "outputs": [],
      "source": [
        "#analysis only, this part can be removed\n",
        "geo_wfp.to_csv('engineered_wildfire_data.csv', index=False)"
      ]
    },
    {
      "cell_type": "code",
      "execution_count": null,
      "metadata": {},
      "outputs": [],
      "source": [
        "# Save the csv featured engineering data to mongodb\n",
        "# dbu.insert_data_to_mongodb('engineered_wildfire_data.csv', os.getenv('COLLECTION_NAME_FEATUREENGINEERED'))\n"
      ]
    },
    {
      "cell_type": "code",
      "execution_count": null,
      "metadata": {},
      "outputs": [],
      "source": [
        "# Save the dataframe -  featured engineering data to mongodb\n",
        "# dbu.insert_df_only_to_mongodb(geo_wfp, os.getenv('COLLECTION_NAME_FEATUREENGINEERED'))"
      ]
    }
  ],
  "metadata": {
    "colab": {
      "provenance": []
    },
    "kernelspec": {
      "display_name": "Python 3",
      "name": "python3"
    },
    "language_info": {
      "codemirror_mode": {
        "name": "ipython",
        "version": 3
      },
      "file_extension": ".py",
      "mimetype": "text/x-python",
      "name": "python",
      "nbconvert_exporter": "python",
      "pygments_lexer": "ipython3",
      "version": "3.10.13"
    }
  },
  "nbformat": 4,
  "nbformat_minor": 0
}
