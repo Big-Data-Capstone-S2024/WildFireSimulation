{
  "cells": [
    {
      "cell_type": "code",
      "execution_count": 1,
      "metadata": {
        "colab": {
          "base_uri": "https://localhost:8080/"
        },
        "id": "kNKEJKyDUpCW",
        "outputId": "d60227a1-0cc0-4463-812a-29fbb30c5541"
      },
      "outputs": [],
      "source": [
        "# Import Libraries\n",
        "import os\n",
        "import sys\n",
        "import pandas as pd\n",
        "import numpy as np\n",
        "import seaborn as sns\n",
        "import matplotlib.pyplot as plt\n",
        "import geopandas as gpd\n",
        "from pymongo import MongoClient\n",
        "from dotenv import load_dotenv\n",
        "from sklearn.preprocessing import StandardScaler, OneHotEncoder\n",
        "import requests"
      ]
    },
    {
      "cell_type": "code",
      "execution_count": 2,
      "metadata": {},
      "outputs": [],
      "source": [
        "# Add the 'scripts' directory to the Python path\n",
        "sys.path.append(os.path.abspath(os.path.join('..', 'scripts')))"
      ]
    },
    {
      "cell_type": "code",
      "execution_count": 3,
      "metadata": {},
      "outputs": [],
      "source": [
        "import extract_to_mongodb as etm\n",
        "import db_utils as dbu"
      ]
    },
    {
      "cell_type": "code",
      "execution_count": null,
      "metadata": {},
      "outputs": [],
      "source": [
        "# print(dir(dbu))"
      ]
    },
    {
      "cell_type": "code",
      "execution_count": 4,
      "metadata": {},
      "outputs": [],
      "source": [
        "collection_name = os.getenv('COLLECTION_NAME_FEATUREENGINEERED')\n",
        "naturalearth_lowres = os.getenv('NATURALEARTH_SHAPEFILE_PATH')"
      ]
    },
    {
      "cell_type": "code",
      "execution_count": 5,
      "metadata": {},
      "outputs": [
        {
          "name": "stdout",
          "output_type": "stream",
          "text": [
            "Collection Name: wildfire_feature_engineered_data\n"
          ]
        }
      ],
      "source": [
        "print(f\"Collection Name: {collection_name}\")"
      ]
    },
    {
      "cell_type": "markdown",
      "metadata": {},
      "source": [
        "Load the Data"
      ]
    },
    {
      "cell_type": "code",
      "execution_count": 6,
      "metadata": {},
      "outputs": [
        {
          "name": "stderr",
          "output_type": "stream",
          "text": [
            "INFO:pymongo.client:You appear to be connected to a CosmosDB cluster. For more information regarding feature compatibility and support please visit https://www.mongodb.com/supportability/cosmosdb\n"
          ]
        },
        {
          "name": "stdout",
          "output_type": "stream",
          "text": [
            "An error occurred: 'DataFrame' object has no attribute 'lon'\n"
          ]
        }
      ],
      "source": [
        "# Load the cleaned data\n",
        "geo_wfp = dbu.load_data_from_mongodb(collection_name)"
      ]
    },
    {
      "cell_type": "code",
      "execution_count": 7,
      "metadata": {},
      "outputs": [
        {
          "ename": "AttributeError",
          "evalue": "'NoneType' object has no attribute 'head'",
          "output_type": "error",
          "traceback": [
            "\u001b[0;31m---------------------------------------------------------------------------\u001b[0m",
            "\u001b[0;31mAttributeError\u001b[0m                            Traceback (most recent call last)",
            "Cell \u001b[0;32mIn[7], line 1\u001b[0m\n\u001b[0;32m----> 1\u001b[0m \u001b[43mgeo_wfp\u001b[49m\u001b[38;5;241;43m.\u001b[39;49m\u001b[43mhead\u001b[49m(\u001b[38;5;241m5\u001b[39m)\n",
            "\u001b[0;31mAttributeError\u001b[0m: 'NoneType' object has no attribute 'head'"
          ]
        }
      ],
      "source": [
        "geo_wfp.head(5)"
      ]
    },
    {
      "cell_type": "code",
      "execution_count": null,
      "metadata": {},
      "outputs": [],
      "source": [
        "app_name = os.getenv('APP_NAME')\n",
        "contact_email = os.getenv('CONTACT_EMAIL')"
      ]
    },
    {
      "cell_type": "code",
      "execution_count": null,
      "metadata": {},
      "outputs": [],
      "source": [
        "def reverse_geocode_nominatim(lat, lon):\n",
        "    url = 'https://nominatim.openstreetmap.org/reverse'\n",
        "    params = {\n",
        "        'format': 'json',\n",
        "        'lat': lat,\n",
        "        'lon': lon,\n",
        "        'zoom': 10,\n",
        "        'addressdetails': 1\n",
        "    }\n",
        "    headers = {\n",
        "        'User-Agent': f'{app_name} ({contact_email})'\n",
        "    }\n",
        "    response = requests.get(url, params=params, headers=headers)\n",
        "    if response.status_code == 200:\n",
        "        data = response.json()\n",
        "        address = data.get('address', {})\n",
        "        city = address.get('city', None)\n",
        "        if not city:\n",
        "            city = address.get('town', None)\n",
        "        if not city:\n",
        "            city = address.get('village', None)\n",
        "        if not city:\n",
        "            city = address.get('county', None)\n",
        "        return city\n",
        "    else:\n",
        "        print(f\"Error: {response.status_code}\")\n",
        "        return None"
      ]
    },
    {
      "cell_type": "code",
      "execution_count": null,
      "metadata": {},
      "outputs": [],
      "source": [
        "# Calculate latitude and longitude from sine and cosine values\n",
        "def calculate_lat_lon(row):\n",
        "    lat = np.arcsin(row.lat_sin) * 180 / np.pi\n",
        "    lon = np.arctan2(row.lon_sin, row.lon_cos) * 180 / np.pi\n",
        "    return lat, lon\n",
        "\n",
        "\n"
      ]
    },
    {
      "cell_type": "code",
      "execution_count": null,
      "metadata": {},
      "outputs": [],
      "source": [
        "# Apply reverse geocoding to the first 5 records using computed latitude and longitude\n",
        "geo_wfp_first_5 = geo_wfp.iloc[:5].copy()\n",
        "geo_wfp_first_5['lat'], geo_wfp_first_5['lon'] = zip(*geo_wfp_first_5.apply(calculate_lat_lon, axis=1))\n",
        "geo_wfp_first_5['city'] = geo_wfp_first_5.apply(lambda row: reverse_geocode_nominatim(row.lat, row.lon), axis=1)\n",
        "\n",
        "# Print the first 5 records with the city column\n",
        "print(geo_wfp_first_5[['lat', 'lon', 'city']])"
      ]
    },
    {
      "cell_type": "code",
      "execution_count": null,
      "metadata": {},
      "outputs": [],
      "source": [
        "# # Apply reverse geocoding to the first 5 records using longitude and latitude\n",
        "# geo_wfp_first_5 = geo_wfp.iloc[:5].copy()\n",
        "# geo_wfp_first_5['city'] = geo_wfp_first_5.apply(lambda row: reverse_geocode_nominatim(row.lat, row.lon), axis=1)\n",
        "\n",
        "# # Merge the city data back into the original DataFrame\n",
        "# geo_wfp = geo_wfp.merge(geo_wfp_first_5[['city']], left_index=True, right_index=True, how='left')\n",
        "\n",
        "# Apply reverse geocoding to all records using longitude and latitude\n",
        "# Apply reverse geocoding to all records using computed latitude and longitude\n",
        "geo_wfp['lat'], geo_wfp['lon'] = zip(*geo_wfp.apply(calculate_lat_lon, axis=1))\n",
        "geo_wfp['city'] = geo_wfp.apply(lambda row: reverse_geocode_nominatim(row.lat, row.lon), axis=1)\n"
      ]
    },
    {
      "cell_type": "code",
      "execution_count": null,
      "metadata": {},
      "outputs": [],
      "source": [
        "#analysis only, this part can be removed\n",
        "#geo_wfp.to_csv('engineered_wildfire_data.csv', index=False)"
      ]
    },
    {
      "cell_type": "code",
      "execution_count": null,
      "metadata": {},
      "outputs": [],
      "source": [
        "# Save the csv featured engineering data to mongodb\n",
        "#dbu.insert_data_to_mongodb('engineered_wildfire_data.csv', os.getenv('COLLECTION_NAME_FEATUREENGINEERED'))\n"
      ]
    },
    {
      "cell_type": "code",
      "execution_count": null,
      "metadata": {},
      "outputs": [],
      "source": [
        "# Save the dataframe -  featured engineering data to mongodb\n",
        "dbu.insert_df_only_to_mongodb(geo_wfp, os.getenv('COLLECTION_NAME_FEATUREENGINEERED_WITH_CITY'))"
      ]
    }
  ],
  "metadata": {
    "colab": {
      "provenance": []
    },
    "kernelspec": {
      "display_name": "Python 3",
      "name": "python3"
    },
    "language_info": {
      "codemirror_mode": {
        "name": "ipython",
        "version": 3
      },
      "file_extension": ".py",
      "mimetype": "text/x-python",
      "name": "python",
      "nbconvert_exporter": "python",
      "pygments_lexer": "ipython3",
      "version": "3.10.13"
    }
  },
  "nbformat": 4,
  "nbformat_minor": 0
}
