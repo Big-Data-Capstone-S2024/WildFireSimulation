{
  "cells": [
    {
      "cell_type": "code",
      "execution_count": 1,
      "metadata": {
        "colab": {
          "base_uri": "https://localhost:8080/"
        },
        "id": "kNKEJKyDUpCW",
        "outputId": "d60227a1-0cc0-4463-812a-29fbb30c5541"
      },
      "outputs": [],
      "source": [
        "# Import Libraries\n",
        "import os\n",
        "import sys\n",
        "import pandas as pd\n",
        "import numpy as np\n",
        "import seaborn as sns\n",
        "import matplotlib.pyplot as plt\n",
        "import geopandas as gpd\n",
        "from pymongo import MongoClient\n",
        "from dotenv import load_dotenv\n",
        "from sklearn.preprocessing import StandardScaler, OneHotEncoder\n",
        "import requests"
      ]
    },
    {
      "cell_type": "code",
      "execution_count": 2,
      "metadata": {},
      "outputs": [],
      "source": [
        "# Add the 'scripts' directory to the Python path\n",
        "sys.path.append(os.path.abspath(os.path.join('..', 'scripts')))"
      ]
    },
    {
      "cell_type": "code",
      "execution_count": 3,
      "metadata": {},
      "outputs": [],
      "source": [
        "import extract_to_mongodb as etm\n",
        "import db_utils as dbu\n",
        "import pickle\n",
        "import time\n",
        "from tqdm import tqdm"
      ]
    },
    {
      "cell_type": "code",
      "execution_count": null,
      "metadata": {},
      "outputs": [],
      "source": [
        "# print(dir(dbu))"
      ]
    },
    {
      "cell_type": "code",
      "execution_count": 4,
      "metadata": {},
      "outputs": [],
      "source": [
        "collection_name = os.getenv('COLLECTION_NAME_CLEANED')\n",
        "naturalearth_lowres = os.getenv('NATURALEARTH_SHAPEFILE_PATH')\n",
        "CACHE_FILE = 'geocode_cache.pkl'"
      ]
    },
    {
      "cell_type": "code",
      "execution_count": 5,
      "metadata": {},
      "outputs": [
        {
          "name": "stdout",
          "output_type": "stream",
          "text": [
            "Collection Name: wildfire_feature_engineered_data\n"
          ]
        }
      ],
      "source": [
        "print(f\"Collection Name: {collection_name}\")"
      ]
    },
    {
      "cell_type": "markdown",
      "metadata": {},
      "source": [
        "Load the Data"
      ]
    },
    {
      "cell_type": "code",
      "execution_count": 7,
      "metadata": {},
      "outputs": [],
      "source": [
        "# Load the cleaned data\n",
        "geo_wfp = dbu.load_all_data_from_mongodb(collection_name)"
      ]
    },
    {
      "cell_type": "code",
      "execution_count": 8,
      "metadata": {},
      "outputs": [
        {
          "data": {
            "text/html": [
              "<div>\n",
              "<style scoped>\n",
              "    .dataframe tbody tr th:only-of-type {\n",
              "        vertical-align: middle;\n",
              "    }\n",
              "\n",
              "    .dataframe tbody tr th {\n",
              "        vertical-align: top;\n",
              "    }\n",
              "\n",
              "    .dataframe thead th {\n",
              "        text-align: right;\n",
              "    }\n",
              "</style>\n",
              "<table border=\"1\" class=\"dataframe\">\n",
              "  <thead>\n",
              "    <tr style=\"text-align: right;\">\n",
              "      <th></th>\n",
              "      <th>_id</th>\n",
              "      <th>temp</th>\n",
              "      <th>rh</th>\n",
              "      <th>ws</th>\n",
              "      <th>wd</th>\n",
              "      <th>pcp</th>\n",
              "      <th>ffmc</th>\n",
              "      <th>dmc</th>\n",
              "      <th>dc</th>\n",
              "      <th>isi</th>\n",
              "      <th>...</th>\n",
              "      <th>tfc0</th>\n",
              "      <th>sfc0</th>\n",
              "      <th>year</th>\n",
              "      <th>month</th>\n",
              "      <th>day</th>\n",
              "      <th>lat_sin</th>\n",
              "      <th>lat_cos</th>\n",
              "      <th>lon_sin</th>\n",
              "      <th>lon_cos</th>\n",
              "      <th>year_month</th>\n",
              "    </tr>\n",
              "  </thead>\n",
              "  <tbody>\n",
              "    <tr>\n",
              "      <th>0</th>\n",
              "      <td>66846cd755d3554c96b02c66</td>\n",
              "      <td>-1.006741</td>\n",
              "      <td>2.094934</td>\n",
              "      <td>-0.649149</td>\n",
              "      <td>320</td>\n",
              "      <td>0.430</td>\n",
              "      <td>82.976</td>\n",
              "      <td>30.078</td>\n",
              "      <td>161.161</td>\n",
              "      <td>2.680</td>\n",
              "      <td>...</td>\n",
              "      <td>0.35</td>\n",
              "      <td>0.35</td>\n",
              "      <td>2020</td>\n",
              "      <td>6</td>\n",
              "      <td>2</td>\n",
              "      <td>0.883899</td>\n",
              "      <td>0.467678</td>\n",
              "      <td>-0.311904</td>\n",
              "      <td>-0.950114</td>\n",
              "      <td>2020-6</td>\n",
              "    </tr>\n",
              "    <tr>\n",
              "      <th>1</th>\n",
              "      <td>66846cd755d3554c96b02c67</td>\n",
              "      <td>0.423696</td>\n",
              "      <td>0.992790</td>\n",
              "      <td>-0.700308</td>\n",
              "      <td>145</td>\n",
              "      <td>1.237</td>\n",
              "      <td>68.466</td>\n",
              "      <td>0.000</td>\n",
              "      <td>294.020</td>\n",
              "      <td>0.977</td>\n",
              "      <td>...</td>\n",
              "      <td>0.10</td>\n",
              "      <td>0.10</td>\n",
              "      <td>2020</td>\n",
              "      <td>6</td>\n",
              "      <td>11</td>\n",
              "      <td>0.879890</td>\n",
              "      <td>0.475177</td>\n",
              "      <td>-0.268096</td>\n",
              "      <td>-0.963392</td>\n",
              "      <td>2020-6</td>\n",
              "    </tr>\n",
              "    <tr>\n",
              "      <th>2</th>\n",
              "      <td>66846cd755d3554c96b02c68</td>\n",
              "      <td>0.226618</td>\n",
              "      <td>1.122454</td>\n",
              "      <td>-0.867970</td>\n",
              "      <td>30</td>\n",
              "      <td>0.591</td>\n",
              "      <td>88.685</td>\n",
              "      <td>55.743</td>\n",
              "      <td>202.448</td>\n",
              "      <td>5.536</td>\n",
              "      <td>...</td>\n",
              "      <td>1.36</td>\n",
              "      <td>1.36</td>\n",
              "      <td>2020</td>\n",
              "      <td>6</td>\n",
              "      <td>20</td>\n",
              "      <td>0.736971</td>\n",
              "      <td>0.675925</td>\n",
              "      <td>-0.939322</td>\n",
              "      <td>0.343037</td>\n",
              "      <td>2020-6</td>\n",
              "    </tr>\n",
              "    <tr>\n",
              "      <th>3</th>\n",
              "      <td>66846cd755d3554c96b02c69</td>\n",
              "      <td>1.366794</td>\n",
              "      <td>-1.665321</td>\n",
              "      <td>-0.843150</td>\n",
              "      <td>271</td>\n",
              "      <td>0.000</td>\n",
              "      <td>98.652</td>\n",
              "      <td>290.568</td>\n",
              "      <td>841.230</td>\n",
              "      <td>22.181</td>\n",
              "      <td>...</td>\n",
              "      <td>0.35</td>\n",
              "      <td>0.35</td>\n",
              "      <td>2020</td>\n",
              "      <td>6</td>\n",
              "      <td>22</td>\n",
              "      <td>0.535709</td>\n",
              "      <td>0.844403</td>\n",
              "      <td>-0.934801</td>\n",
              "      <td>-0.355172</td>\n",
              "      <td>2020-6</td>\n",
              "    </tr>\n",
              "    <tr>\n",
              "      <th>4</th>\n",
              "      <td>66846cd755d3554c96b02c6a</td>\n",
              "      <td>1.170139</td>\n",
              "      <td>0.020311</td>\n",
              "      <td>-0.000958</td>\n",
              "      <td>50</td>\n",
              "      <td>0.001</td>\n",
              "      <td>91.660</td>\n",
              "      <td>18.664</td>\n",
              "      <td>102.620</td>\n",
              "      <td>10.972</td>\n",
              "      <td>...</td>\n",
              "      <td>0.35</td>\n",
              "      <td>0.35</td>\n",
              "      <td>2020</td>\n",
              "      <td>6</td>\n",
              "      <td>13</td>\n",
              "      <td>0.551529</td>\n",
              "      <td>0.834155</td>\n",
              "      <td>-0.999729</td>\n",
              "      <td>-0.023267</td>\n",
              "      <td>2020-6</td>\n",
              "    </tr>\n",
              "  </tbody>\n",
              "</table>\n",
              "<p>5 rows × 33 columns</p>\n",
              "</div>"
            ],
            "text/plain": [
              "                        _id      temp        rh        ws   wd    pcp    ffmc  \\\n",
              "0  66846cd755d3554c96b02c66 -1.006741  2.094934 -0.649149  320  0.430  82.976   \n",
              "1  66846cd755d3554c96b02c67  0.423696  0.992790 -0.700308  145  1.237  68.466   \n",
              "2  66846cd755d3554c96b02c68  0.226618  1.122454 -0.867970   30  0.591  88.685   \n",
              "3  66846cd755d3554c96b02c69  1.366794 -1.665321 -0.843150  271  0.000  98.652   \n",
              "4  66846cd755d3554c96b02c6a  1.170139  0.020311 -0.000958   50  0.001  91.660   \n",
              "\n",
              "       dmc       dc     isi  ...  tfc0  sfc0  year  month  day   lat_sin  \\\n",
              "0   30.078  161.161   2.680  ...  0.35  0.35  2020      6    2  0.883899   \n",
              "1    0.000  294.020   0.977  ...  0.10  0.10  2020      6   11  0.879890   \n",
              "2   55.743  202.448   5.536  ...  1.36  1.36  2020      6   20  0.736971   \n",
              "3  290.568  841.230  22.181  ...  0.35  0.35  2020      6   22  0.535709   \n",
              "4   18.664  102.620  10.972  ...  0.35  0.35  2020      6   13  0.551529   \n",
              "\n",
              "    lat_cos   lon_sin   lon_cos  year_month  \n",
              "0  0.467678 -0.311904 -0.950114      2020-6  \n",
              "1  0.475177 -0.268096 -0.963392      2020-6  \n",
              "2  0.675925 -0.939322  0.343037      2020-6  \n",
              "3  0.844403 -0.934801 -0.355172      2020-6  \n",
              "4  0.834155 -0.999729 -0.023267      2020-6  \n",
              "\n",
              "[5 rows x 33 columns]"
            ]
          },
          "execution_count": 8,
          "metadata": {},
          "output_type": "execute_result"
        }
      ],
      "source": [
        "geo_wfp.head(5)"
      ]
    },
    {
      "cell_type": "code",
      "execution_count": 9,
      "metadata": {},
      "outputs": [],
      "source": [
        "app_name = os.getenv('APP_NAME')\n",
        "contact_email = os.getenv('CONTACT_EMAIL')"
      ]
    },
    {
      "cell_type": "code",
      "execution_count": null,
      "metadata": {},
      "outputs": [],
      "source": [
        "class RateLimiter:\n",
        "    def __init__(self, max_calls, time_frame):\n",
        "        self.max_calls = max_calls\n",
        "        self.time_frame = time_frame\n",
        "        self.calls = []\n",
        "\n",
        "    def wait(self):\n",
        "        now = time.time()\n",
        "        self.calls = [call for call in self.calls if now - call < self.time_frame]\n",
        "        if len(self.calls) >= self.max_calls:\n",
        "            sleep_time = self.time_frame - (now - self.calls[0])\n",
        "            time.sleep(sleep_time)\n",
        "        self.calls.append(time.time())\n",
        "\n",
        "class GeocodingCache:\n",
        "    def __init__(self, cache_file):\n",
        "        self.cache_file = cache_file\n",
        "        self.cache = self.load_cache()\n",
        "        self.rate_limiter = RateLimiter(max_calls=1, time_frame=1)\n",
        "\n",
        "    def load_cache(self):\n",
        "        if os.path.exists(self.cache_file):\n",
        "            print(f\"Loading existing cache from {self.cache_file}\")\n",
        "            with open(self.cache_file, 'rb') as f:\n",
        "                return pickle.load(f)\n",
        "        print(f\"Cache file {self.cache_file} not found. Creating a new cache.\")\n",
        "        return {}\n",
        "\n",
        "    def save_cache(self):\n",
        "        with open(self.cache_file, 'wb') as f:\n",
        "            pickle.dump(self.cache, f)\n",
        "\n",
        "    def get_location_info(self, lat, lon):\n",
        "        key = f\"{lat},{lon}\"\n",
        "        if key in self.cache:\n",
        "            return self.cache[key]\n",
        "\n",
        "        self.rate_limiter.wait()\n",
        "        result = self.reverse_geocode_nominatim(lat, lon)\n",
        "        self.cache[key] = result\n",
        "        self.save_cache()\n",
        "        return result\n",
        "\n",
        "    def reverse_geocode_nominatim(self, lat, lon):\n",
        "        url = 'https://nominatim.openstreetmap.org/reverse'\n",
        "        params = {\n",
        "            'format': 'json',\n",
        "            'lat': lat,\n",
        "            'lon': lon,\n",
        "            'zoom': 18,\n",
        "            'addressdetails': 1\n",
        "        }\n",
        "        headers = {\n",
        "            'User-Agent': f'{APP_NAME} ({CONTACT_EMAIL})'\n",
        "        }\n",
        "        \n",
        "        try:\n",
        "            response = requests.get(url, params=params, headers=headers, timeout=5)\n",
        "            response.raise_for_status()\n",
        "            data = response.json()\n",
        "            address = data.get('address', {})\n",
        "            \n",
        "            city = None\n",
        "            for key in ['city', 'town', 'village', 'hamlet', 'municipality', 'county']:\n",
        "                if address.get(key):\n",
        "                    city = address[key]\n",
        "                    break\n",
        "            \n",
        "            postal_code = address.get('postcode')\n",
        "            \n",
        "            return city, postal_code\n",
        "        except Exception as e:\n",
        "            print(f\"Error geocoding {lat}, {lon}: {e}\")\n",
        "            return None, None"
      ]
    },
    {
      "cell_type": "code",
      "execution_count": null,
      "metadata": {},
      "outputs": [],
      "source": [
        "def process_dataframe(df, cache):\n",
        "    def apply_geocoding(row):\n",
        "        return cache.get_location_info(row['latitude'], row['longitude'])\n",
        "\n",
        "    tqdm.pandas(desc=\"Geocoding\")\n",
        "    df[['city', 'postal_code']] = df.progress_apply(apply_geocoding, axis=1, result_type='expand')\n",
        "    return df"
      ]
    },
    {
      "cell_type": "code",
      "execution_count": null,
      "metadata": {},
      "outputs": [],
      "source": [
        "# Initialize the cache\n",
        "cache = GeocodingCache(CACHE_FILE)\n",
        "\n",
        "# Process the DataFrame\n",
        "start_time = time.time()\n",
        "result_df = process_dataframe(geo_wfp, cache)\n",
        "end_time = time.time()\n",
        "\n",
        "print(f\"Processing completed in {end_time - start_time} seconds\")\n",
        "\n"
      ]
    },
    {
      "cell_type": "code",
      "execution_count": null,
      "metadata": {},
      "outputs": [],
      "source": [
        "#analysis only, this part can be removed\n",
        "#geo_wfp.to_csv('engineered_wildfire_data.csv', index=False)"
      ]
    },
    {
      "cell_type": "code",
      "execution_count": null,
      "metadata": {},
      "outputs": [],
      "source": [
        "# Save the csv featured engineering data to mongodb\n",
        "#dbu.insert_data_to_mongodb('engineered_wildfire_data.csv', os.getenv('COLLECTION_NAME_FEATUREENGINEERED'))\n"
      ]
    },
    {
      "cell_type": "code",
      "execution_count": null,
      "metadata": {},
      "outputs": [],
      "source": [
        "# Save the dataframe -  featured engineering data to mongodb\n",
        "dbu.insert_df_only_to_mongodb(geo_wfp, os.getenv('COLLECTION_NAME_CLEANED_WITH_CITY'))"
      ]
    }
  ],
  "metadata": {
    "colab": {
      "provenance": []
    },
    "kernelspec": {
      "display_name": "Python 3",
      "name": "python3"
    },
    "language_info": {
      "codemirror_mode": {
        "name": "ipython",
        "version": 3
      },
      "file_extension": ".py",
      "mimetype": "text/x-python",
      "name": "python",
      "nbconvert_exporter": "python",
      "pygments_lexer": "ipython3",
      "version": "3.11.3"
    }
  },
  "nbformat": 4,
  "nbformat_minor": 0
}
