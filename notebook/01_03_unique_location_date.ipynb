{
  "cells": [
    {
      "cell_type": "code",
      "execution_count": 1,
      "metadata": {
        "colab": {
          "base_uri": "https://localhost:8080/"
        },
        "id": "kNKEJKyDUpCW",
        "outputId": "d60227a1-0cc0-4463-812a-29fbb30c5541"
      },
      "outputs": [],
      "source": [
        "# Import Libraries\n",
        "import os\n",
        "import sys\n",
        "import pandas as pd\n",
        "import numpy as np\n",
        "import seaborn as sns\n",
        "import matplotlib.pyplot as plt\n",
        "import geopandas as gpd\n",
        "from pymongo import MongoClient\n",
        "from dotenv import load_dotenv\n",
        "from sklearn.preprocessing import StandardScaler, OneHotEncoder\n",
        "import math"
      ]
    },
    {
      "cell_type": "code",
      "execution_count": 2,
      "metadata": {},
      "outputs": [],
      "source": [
        "# Add the 'scripts' directory to the Python path\n",
        "sys.path.append(os.path.abspath(os.path.join('..', 'scripts')))"
      ]
    },
    {
      "cell_type": "code",
      "execution_count": 3,
      "metadata": {},
      "outputs": [],
      "source": [
        "import extract_to_mongodb as etm\n",
        "import db_utils as dbu\n",
        "import pickle\n",
        "import time\n",
        "from tqdm import tqdm"
      ]
    },
    {
      "cell_type": "code",
      "execution_count": 4,
      "metadata": {},
      "outputs": [],
      "source": [
        "collection_name = os.getenv('COLLECTION_NAME_CLEANED')\n",
        "naturalearth_lowres = os.getenv('NATURALEARTH_SHAPEFILE_PATH')\n",
        "# CACHE_FILE = 'geocodecache.pkl'"
      ]
    },
    {
      "cell_type": "code",
      "execution_count": 5,
      "metadata": {},
      "outputs": [
        {
          "name": "stdout",
          "output_type": "stream",
          "text": [
            "Collection Name: wildfire_cleaned_data\n"
          ]
        }
      ],
      "source": [
        "print(f\"Collection Name: {collection_name}\")"
      ]
    },
    {
      "cell_type": "markdown",
      "metadata": {},
      "source": [
        "Load the Data"
      ]
    },
    {
      "cell_type": "code",
      "execution_count": 6,
      "metadata": {},
      "outputs": [],
      "source": [
        "# Load the cleaned data\n",
        "geo_wfp = dbu.load_all_data_from_mongodb(collection_name)"
      ]
    },
    {
      "cell_type": "code",
      "execution_count": null,
      "metadata": {},
      "outputs": [
        {
          "data": {
            "text/plain": [
              "(450342, 35)"
            ]
          },
          "execution_count": 15,
          "metadata": {},
          "output_type": "execute_result"
        }
      ],
      "source": [
        "geo_wfp.shape"
      ]
    },
    {
      "cell_type": "code",
      "execution_count": null,
      "metadata": {},
      "outputs": [
        {
          "data": {
            "text/html": [
              "<div>\n",
              "<style scoped>\n",
              "    .dataframe tbody tr th:only-of-type {\n",
              "        vertical-align: middle;\n",
              "    }\n",
              "\n",
              "    .dataframe tbody tr th {\n",
              "        vertical-align: top;\n",
              "    }\n",
              "\n",
              "    .dataframe thead th {\n",
              "        text-align: right;\n",
              "    }\n",
              "</style>\n",
              "<table border=\"1\" class=\"dataframe\">\n",
              "  <thead>\n",
              "    <tr style=\"text-align: right;\">\n",
              "      <th></th>\n",
              "      <th>_id</th>\n",
              "      <th>lat</th>\n",
              "      <th>lon</th>\n",
              "      <th>rep_date</th>\n",
              "      <th>source</th>\n",
              "      <th>sensor</th>\n",
              "      <th>satellite</th>\n",
              "      <th>agency</th>\n",
              "      <th>temp</th>\n",
              "      <th>rh</th>\n",
              "      <th>...</th>\n",
              "      <th>cfb</th>\n",
              "      <th>pcuring</th>\n",
              "      <th>greenup</th>\n",
              "      <th>elev</th>\n",
              "      <th>sfl</th>\n",
              "      <th>cfl</th>\n",
              "      <th>tfc0</th>\n",
              "      <th>ecozone</th>\n",
              "      <th>sfc0</th>\n",
              "      <th>geometry</th>\n",
              "    </tr>\n",
              "  </thead>\n",
              "  <tbody>\n",
              "    <tr>\n",
              "      <th>0</th>\n",
              "      <td>6669b15b44a41007063ba9da</td>\n",
              "      <td>62.1163</td>\n",
              "      <td>-161.8260</td>\n",
              "      <td>2020/06/02 12:54:00.000</td>\n",
              "      <td>NASA4</td>\n",
              "      <td>IBAND</td>\n",
              "      <td>S-NPP</td>\n",
              "      <td>UAK</td>\n",
              "      <td>15.917</td>\n",
              "      <td>69</td>\n",
              "      <td>...</td>\n",
              "      <td>0.0</td>\n",
              "      <td>50.0</td>\n",
              "      <td>1.0</td>\n",
              "      <td>90</td>\n",
              "      <td>1.011450</td>\n",
              "      <td>0.000000</td>\n",
              "      <td>0.35</td>\n",
              "      <td>2</td>\n",
              "      <td>0.35</td>\n",
              "      <td>{'type': 'Point', 'coordinates': [-161.826, 62...</td>\n",
              "    </tr>\n",
              "    <tr>\n",
              "      <th>1</th>\n",
              "      <td>6669b15e44a41007063ba9db</td>\n",
              "      <td>61.6291</td>\n",
              "      <td>-164.4490</td>\n",
              "      <td>2020/06/11 12:36:00.000</td>\n",
              "      <td>NASA5</td>\n",
              "      <td>IBAND</td>\n",
              "      <td>NOAA-20</td>\n",
              "      <td>UAK</td>\n",
              "      <td>26.064</td>\n",
              "      <td>52</td>\n",
              "      <td>...</td>\n",
              "      <td>0.0</td>\n",
              "      <td>50.0</td>\n",
              "      <td>1.0</td>\n",
              "      <td>24</td>\n",
              "      <td>0.435360</td>\n",
              "      <td>0.000000</td>\n",
              "      <td>0.10</td>\n",
              "      <td>2</td>\n",
              "      <td>0.10</td>\n",
              "      <td>{'type': 'Point', 'coordinates': [-164.449, 61...</td>\n",
              "    </tr>\n",
              "    <tr>\n",
              "      <th>2</th>\n",
              "      <td>6669b15e44a41007063ba9dc</td>\n",
              "      <td>47.4740</td>\n",
              "      <td>-69.9380</td>\n",
              "      <td>2020/06/20 06:30:00.000</td>\n",
              "      <td>USFS</td>\n",
              "      <td>IBAND</td>\n",
              "      <td>JPSS1</td>\n",
              "      <td>QC</td>\n",
              "      <td>24.666</td>\n",
              "      <td>54</td>\n",
              "      <td>...</td>\n",
              "      <td>0.0</td>\n",
              "      <td>29.0</td>\n",
              "      <td>1.0</td>\n",
              "      <td>27</td>\n",
              "      <td>-1.000000</td>\n",
              "      <td>0.000000</td>\n",
              "      <td>1.36</td>\n",
              "      <td></td>\n",
              "      <td>1.36</td>\n",
              "      <td>{'type': 'Point', 'coordinates': [-69.938, 47....</td>\n",
              "    </tr>\n",
              "    <tr>\n",
              "      <th>3</th>\n",
              "      <td>6669b15e44a41007063ba9dd</td>\n",
              "      <td>32.3920</td>\n",
              "      <td>-110.8040</td>\n",
              "      <td>2020/06/22 08:24:00.000</td>\n",
              "      <td>NASA6</td>\n",
              "      <td>IBAND</td>\n",
              "      <td>S-NPP</td>\n",
              "      <td>UAZ</td>\n",
              "      <td>32.754</td>\n",
              "      <td>11</td>\n",
              "      <td>...</td>\n",
              "      <td>0.0</td>\n",
              "      <td>50.0</td>\n",
              "      <td>1.0</td>\n",
              "      <td>1534</td>\n",
              "      <td>0.212800</td>\n",
              "      <td>0.000530</td>\n",
              "      <td>0.35</td>\n",
              "      <td>12</td>\n",
              "      <td>0.35</td>\n",
              "      <td>{'type': 'Point', 'coordinates': [-110.804, 32...</td>\n",
              "    </tr>\n",
              "    <tr>\n",
              "      <th>4</th>\n",
              "      <td>6669b15e44a41007063ba9de</td>\n",
              "      <td>33.4720</td>\n",
              "      <td>-91.3332</td>\n",
              "      <td>2020/06/13 07:06:00.000</td>\n",
              "      <td>NASA7</td>\n",
              "      <td>IBAND</td>\n",
              "      <td>NOAA-20</td>\n",
              "      <td>UAR</td>\n",
              "      <td>31.359</td>\n",
              "      <td>37</td>\n",
              "      <td>...</td>\n",
              "      <td>0.0</td>\n",
              "      <td>50.0</td>\n",
              "      <td>1.0</td>\n",
              "      <td>38</td>\n",
              "      <td>0.102444</td>\n",
              "      <td>0.000499</td>\n",
              "      <td>0.35</td>\n",
              "      <td>8</td>\n",
              "      <td>0.35</td>\n",
              "      <td>{'type': 'Point', 'coordinates': [-91.3332, 33...</td>\n",
              "    </tr>\n",
              "  </tbody>\n",
              "</table>\n",
              "<p>5 rows × 35 columns</p>\n",
              "</div>"
            ],
            "text/plain": [
              "                        _id      lat       lon                 rep_date  \\\n",
              "0  6669b15b44a41007063ba9da  62.1163 -161.8260  2020/06/02 12:54:00.000   \n",
              "1  6669b15e44a41007063ba9db  61.6291 -164.4490  2020/06/11 12:36:00.000   \n",
              "2  6669b15e44a41007063ba9dc  47.4740  -69.9380  2020/06/20 06:30:00.000   \n",
              "3  6669b15e44a41007063ba9dd  32.3920 -110.8040  2020/06/22 08:24:00.000   \n",
              "4  6669b15e44a41007063ba9de  33.4720  -91.3332  2020/06/13 07:06:00.000   \n",
              "\n",
              "  source sensor satellite agency    temp  rh  ...  cfb  pcuring  greenup  \\\n",
              "0  NASA4  IBAND     S-NPP    UAK  15.917  69  ...  0.0     50.0      1.0   \n",
              "1  NASA5  IBAND   NOAA-20    UAK  26.064  52  ...  0.0     50.0      1.0   \n",
              "2   USFS  IBAND     JPSS1     QC  24.666  54  ...  0.0     29.0      1.0   \n",
              "3  NASA6  IBAND     S-NPP    UAZ  32.754  11  ...  0.0     50.0      1.0   \n",
              "4  NASA7  IBAND   NOAA-20    UAR  31.359  37  ...  0.0     50.0      1.0   \n",
              "\n",
              "   elev       sfl       cfl  tfc0  ecozone  sfc0  \\\n",
              "0    90  1.011450  0.000000  0.35        2  0.35   \n",
              "1    24  0.435360  0.000000  0.10        2  0.10   \n",
              "2    27 -1.000000  0.000000  1.36           1.36   \n",
              "3  1534  0.212800  0.000530  0.35       12  0.35   \n",
              "4    38  0.102444  0.000499  0.35        8  0.35   \n",
              "\n",
              "                                            geometry  \n",
              "0  {'type': 'Point', 'coordinates': [-161.826, 62...  \n",
              "1  {'type': 'Point', 'coordinates': [-164.449, 61...  \n",
              "2  {'type': 'Point', 'coordinates': [-69.938, 47....  \n",
              "3  {'type': 'Point', 'coordinates': [-110.804, 32...  \n",
              "4  {'type': 'Point', 'coordinates': [-91.3332, 33...  \n",
              "\n",
              "[5 rows x 35 columns]"
            ]
          },
          "execution_count": 16,
          "metadata": {},
          "output_type": "execute_result"
        }
      ],
      "source": [
        "geo_wfp.head(5)"
      ]
    },
    {
      "cell_type": "code",
      "execution_count": null,
      "metadata": {},
      "outputs": [
        {
          "name": "stdout",
          "output_type": "stream",
          "text": [
            "<class 'pandas.core.frame.DataFrame'>\n",
            "RangeIndex: 450342 entries, 0 to 450341\n",
            "Data columns (total 35 columns):\n",
            " #   Column     Non-Null Count   Dtype  \n",
            "---  ------     --------------   -----  \n",
            " 0   _id        450342 non-null  object \n",
            " 1   lat        450342 non-null  float64\n",
            " 2   lon        450342 non-null  float64\n",
            " 3   rep_date   450342 non-null  object \n",
            " 4   source     450342 non-null  object \n",
            " 5   sensor     450342 non-null  object \n",
            " 6   satellite  450342 non-null  object \n",
            " 7   agency     450342 non-null  object \n",
            " 8   temp       450342 non-null  float64\n",
            " 9   rh         450342 non-null  int64  \n",
            " 10  ws         450342 non-null  float64\n",
            " 11  wd         450342 non-null  int64  \n",
            " 12  pcp        450342 non-null  float64\n",
            " 13  ffmc       450342 non-null  float64\n",
            " 14  dmc        450342 non-null  float64\n",
            " 15  dc         450342 non-null  float64\n",
            " 16  isi        450342 non-null  float64\n",
            " 17  bui        450342 non-null  float64\n",
            " 18  fwi        450342 non-null  float64\n",
            " 19  fuel       450342 non-null  object \n",
            " 20  ros        450339 non-null  float64\n",
            " 21  sfc        450339 non-null  float64\n",
            " 22  tfc        450339 non-null  float64\n",
            " 23  bfc        239132 non-null  float64\n",
            " 24  hfi        450339 non-null  float64\n",
            " 25  cfb        450339 non-null  float64\n",
            " 26  pcuring    425990 non-null  float64\n",
            " 27  greenup    425990 non-null  float64\n",
            " 28  elev       450342 non-null  int64  \n",
            " 29  sfl        450342 non-null  float64\n",
            " 30  cfl        450342 non-null  float64\n",
            " 31  tfc0       450339 non-null  float64\n",
            " 32  ecozone    450342 non-null  object \n",
            " 33  sfc0       450339 non-null  float64\n",
            " 34  geometry   450342 non-null  object \n",
            "dtypes: float64(23), int64(3), object(9)\n",
            "memory usage: 120.3+ MB\n"
          ]
        }
      ],
      "source": [
        "geo_wfp.info()"
      ]
    },
    {
      "cell_type": "code",
      "execution_count": null,
      "metadata": {},
      "outputs": [],
      "source": [
        "# Normalize the data to ensure consistency\n",
        "geo_wfp['rep_date'] = pd.to_datetime(geo_wfp['rep_date']).dt.strftime('%Y-%m-%d')"
      ]
    },
    {
      "cell_type": "code",
      "execution_count": null,
      "metadata": {},
      "outputs": [],
      "source": [
        "# Normalize the data to ensure consistency\n",
        "geo_wfp['rep_date'] = pd.to_datetime(geo_wfp['rep_date']).dt.strftime('%Y-%m-%d')\n",
        "\n",
        "# Drop duplicates based on 'lat', 'lon', and 'rep_date' and keep only the first occurrence\n",
        "unique_geo_wfp = geo_wfp.drop_duplicates(subset=['lat', 'lon', 'rep_date'], keep='first')"
      ]
    },
    {
      "cell_type": "code",
      "execution_count": null,
      "metadata": {},
      "outputs": [
        {
          "data": {
            "text/plain": [
              "(449139, 35)"
            ]
          },
          "execution_count": 23,
          "metadata": {},
          "output_type": "execute_result"
        }
      ],
      "source": [
        "unique_geo_wfp.shape"
      ]
    },
    {
      "cell_type": "code",
      "execution_count": null,
      "metadata": {},
      "outputs": [],
      "source": [
        "unique_geo_wfp.to_csv('unique_geo_wfp.csv', index=False)"
      ]
    },
    {
      "cell_type": "code",
      "execution_count": null,
      "metadata": {},
      "outputs": [
        {
          "name": "stdout",
          "output_type": "stream",
          "text": [
            "An error occurred: 'dict' object has no attribute '__geo_interface__'\n",
            "Connection closed.\n"
          ]
        }
      ],
      "source": [
        "# Save the cleaned data to mongodb\n",
        "dbu.insert_dataframe_to_mongodb(unique_geo_wfp, 'wildfire_cleaned_data_unique_geo_wfp')"
      ]
    },
    {
      "cell_type": "code",
      "execution_count": null,
      "metadata": {},
      "outputs": [],
      "source": [
        "\n",
        "# Calculate number of chunks (30,000 records per chunk)\n",
        "chunk_size = 30000\n",
        "num_chunks = math.ceil(len(unique_geo_wfp) / chunk_size)\n",
        "\n",
        "# Split the data into chunks\n",
        "for i in range(num_chunks):\n",
        "    start = i * chunk_size\n",
        "    end = (i + 1) * chunk_size\n",
        "    chunk = unique_geo_wfp[start:end]\n",
        "    chunk.to_csv(f'../data/chunks_unique_geolocation/geocoding_chunk_{i}.csv', index=False)\n",
        "\n",
        "print(f\"Created {num_chunks} chunks of approximately 30,000 records each.\")\n",
        "print(\"Distribute these files to your team members.\")\n",
        "\n"
      ]
    }
  ],
  "metadata": {
    "colab": {
      "provenance": []
    },
    "kernelspec": {
      "display_name": "Python 3",
      "name": "python3"
    },
    "language_info": {
      "codemirror_mode": {
        "name": "ipython",
        "version": 3
      },
      "file_extension": ".py",
      "mimetype": "text/x-python",
      "name": "python",
      "nbconvert_exporter": "python",
      "pygments_lexer": "ipython3",
      "version": "3.11.3"
    }
  },
  "nbformat": 4,
  "nbformat_minor": 0
}
