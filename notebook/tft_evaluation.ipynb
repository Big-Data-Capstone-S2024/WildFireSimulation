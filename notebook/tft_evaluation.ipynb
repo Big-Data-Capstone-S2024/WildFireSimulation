{
 "cells": [
  {
   "cell_type": "code",
   "execution_count": 1,
   "id": "c689c9be",
   "metadata": {
    "_cell_guid": "38b1caed-514e-4a6d-8fee-30fabb137b4a",
    "_uuid": "aa8de603-cbd8-4751-a7be-ea5f9aaaf6f7",
    "collapsed": false,
    "execution": {
     "iopub.execute_input": "2024-08-08T02:42:29.999227Z",
     "iopub.status.busy": "2024-08-08T02:42:29.998342Z",
     "iopub.status.idle": "2024-08-08T02:42:30.710141Z",
     "shell.execute_reply": "2024-08-08T02:42:30.709191Z"
    },
    "jupyter": {
     "outputs_hidden": false
    },
    "papermill": {
     "duration": 0.732501,
     "end_time": "2024-08-08T02:42:30.712372",
     "exception": false,
     "start_time": "2024-08-08T02:42:29.979871",
     "status": "completed"
    },
    "tags": []
   },
   "outputs": [],
   "source": [
    "import pandas as pd\n",
    "import numpy as np\n",
    "import matplotlib.pyplot as plt"
   ]
  },
  {
   "cell_type": "code",
   "execution_count": 2,
   "id": "c06e50c8",
   "metadata": {
    "_cell_guid": "a3332b1c-a5b7-41e0-baa9-3e962a2d9f54",
    "_uuid": "9831e3b8-b08e-44be-ab4b-d67e55212354",
    "collapsed": false,
    "execution": {
     "iopub.execute_input": "2024-08-08T02:42:30.748057Z",
     "iopub.status.busy": "2024-08-08T02:42:30.747672Z",
     "iopub.status.idle": "2024-08-08T02:42:55.204308Z",
     "shell.execute_reply": "2024-08-08T02:42:55.203423Z"
    },
    "jupyter": {
     "outputs_hidden": false
    },
    "papermill": {
     "duration": 24.476836,
     "end_time": "2024-08-08T02:42:55.206744",
     "exception": false,
     "start_time": "2024-08-08T02:42:30.729908",
     "status": "completed"
    },
    "tags": []
   },
   "outputs": [],
   "source": [
    "df = pd.read_json('/kaggle/input/wildfiredata/wildfire_collection_feature_engineering_final.json')"
   ]
  },
  {
   "cell_type": "code",
   "execution_count": 3,
   "id": "2f8de8fd",
   "metadata": {
    "_cell_guid": "bcef6513-2d35-454d-a2dd-615b7f502997",
    "_uuid": "4d431cf1-2bb6-4001-828d-cb9857c51622",
    "collapsed": false,
    "execution": {
     "iopub.execute_input": "2024-08-08T02:42:55.242862Z",
     "iopub.status.busy": "2024-08-08T02:42:55.242586Z",
     "iopub.status.idle": "2024-08-08T02:42:55.587906Z",
     "shell.execute_reply": "2024-08-08T02:42:55.586484Z"
    },
    "jupyter": {
     "outputs_hidden": false
    },
    "papermill": {
     "duration": 0.365862,
     "end_time": "2024-08-08T02:42:55.590730",
     "exception": false,
     "start_time": "2024-08-08T02:42:55.224868",
     "status": "completed"
    },
    "tags": []
   },
   "outputs": [
    {
     "name": "stdout",
     "output_type": "stream",
     "text": [
      "<class 'pandas.core.frame.DataFrame'>\n",
      "RangeIndex: 659376 entries, 0 to 659375\n",
      "Data columns (total 32 columns):\n",
      " #   Column    Non-Null Count   Dtype  \n",
      "---  ------    --------------   -----  \n",
      " 0   _id       659376 non-null  object \n",
      " 1   cfb       659376 non-null  int64  \n",
      " 2   locality  659376 non-null  object \n",
      " 3   rep_date  659376 non-null  object \n",
      " 4   lat       659376 non-null  float64\n",
      " 5   lon       659376 non-null  float64\n",
      " 6   temp      659376 non-null  float64\n",
      " 7   wd        659376 non-null  int64  \n",
      " 8   elev      659376 non-null  int64  \n",
      " 9   rh        659376 non-null  int64  \n",
      " 10  pcuring   659376 non-null  int64  \n",
      " 11  day       659376 non-null  int64  \n",
      " 12  ros       659376 non-null  float64\n",
      " 13  year      659376 non-null  int64  \n",
      " 14  month     659376 non-null  int64  \n",
      " 15  hfi       659376 non-null  int64  \n",
      " 16  tfc0      659376 non-null  float64\n",
      " 17  sfl       659376 non-null  float64\n",
      " 18  bui_lag2  659376 non-null  float64\n",
      " 19  bui       659376 non-null  float64\n",
      " 20  cfl       659376 non-null  float64\n",
      " 21  sfc0      659376 non-null  float64\n",
      " 22  dmc_lag5  659376 non-null  float64\n",
      " 23  dmc       659376 non-null  float64\n",
      " 24  sfc       659376 non-null  float64\n",
      " 25  dmc_lag7  659376 non-null  float64\n",
      " 26  bui_lag4  659376 non-null  float64\n",
      " 27  bfc       659376 non-null  float64\n",
      " 28  tfc       659376 non-null  float64\n",
      " 29  isi       659376 non-null  float64\n",
      " 30  bui_lag5  659376 non-null  float64\n",
      " 31  fwi_lag7  659376 non-null  float64\n",
      "dtypes: float64(20), int64(9), object(3)\n",
      "memory usage: 161.0+ MB\n"
     ]
    }
   ],
   "source": [
    "df.info()"
   ]
  },
  {
   "cell_type": "code",
   "execution_count": 4,
   "id": "98232427",
   "metadata": {
    "_cell_guid": "24c68fa7-75d3-4ac0-aabf-91abaa2e28c0",
    "_uuid": "ac6682f7-245f-4a0a-b4cf-892d1f44a8b1",
    "execution": {
     "iopub.execute_input": "2024-08-08T02:42:55.632818Z",
     "iopub.status.busy": "2024-08-08T02:42:55.632523Z",
     "iopub.status.idle": "2024-08-08T02:42:55.872071Z",
     "shell.execute_reply": "2024-08-08T02:42:55.871062Z"
    },
    "papermill": {
     "duration": 0.263258,
     "end_time": "2024-08-08T02:42:55.874395",
     "exception": false,
     "start_time": "2024-08-08T02:42:55.611137",
     "status": "completed"
    },
    "tags": []
   },
   "outputs": [],
   "source": [
    "df.drop(columns='_id', inplace=True)"
   ]
  },
  {
   "cell_type": "code",
   "execution_count": 5,
   "id": "c230befe",
   "metadata": {
    "_cell_guid": "c1612bee-bc5c-4882-bdc1-661f94aa74c5",
    "_uuid": "9fb941ca-e790-45f5-bc0e-f7d740a1009f",
    "collapsed": false,
    "execution": {
     "iopub.execute_input": "2024-08-08T02:42:55.910857Z",
     "iopub.status.busy": "2024-08-08T02:42:55.910146Z",
     "iopub.status.idle": "2024-08-08T02:43:06.418967Z",
     "shell.execute_reply": "2024-08-08T02:43:06.417991Z"
    },
    "jupyter": {
     "outputs_hidden": false
    },
    "papermill": {
     "duration": 10.529208,
     "end_time": "2024-08-08T02:43:06.421039",
     "exception": false,
     "start_time": "2024-08-08T02:42:55.891831",
     "status": "completed"
    },
    "tags": []
   },
   "outputs": [
    {
     "data": {
      "text/html": [
       "<div>\n",
       "<style scoped>\n",
       "    .dataframe tbody tr th:only-of-type {\n",
       "        vertical-align: middle;\n",
       "    }\n",
       "\n",
       "    .dataframe tbody tr th {\n",
       "        vertical-align: top;\n",
       "    }\n",
       "\n",
       "    .dataframe thead th {\n",
       "        text-align: right;\n",
       "    }\n",
       "</style>\n",
       "<table border=\"1\" class=\"dataframe\">\n",
       "  <thead>\n",
       "    <tr style=\"text-align: right;\">\n",
       "      <th></th>\n",
       "      <th>cfb</th>\n",
       "      <th>locality</th>\n",
       "      <th>rep_date</th>\n",
       "      <th>lat</th>\n",
       "      <th>lon</th>\n",
       "      <th>temp</th>\n",
       "      <th>wd</th>\n",
       "      <th>elev</th>\n",
       "      <th>rh</th>\n",
       "      <th>pcuring</th>\n",
       "      <th>...</th>\n",
       "      <th>dmc_lag5</th>\n",
       "      <th>dmc</th>\n",
       "      <th>sfc</th>\n",
       "      <th>dmc_lag7</th>\n",
       "      <th>bui_lag4</th>\n",
       "      <th>bfc</th>\n",
       "      <th>tfc</th>\n",
       "      <th>isi</th>\n",
       "      <th>bui_lag5</th>\n",
       "      <th>fwi_lag7</th>\n",
       "    </tr>\n",
       "  </thead>\n",
       "  <tbody>\n",
       "    <tr>\n",
       "      <th>0</th>\n",
       "      <td>0</td>\n",
       "      <td>100 Mile House</td>\n",
       "      <td>2021-01-09</td>\n",
       "      <td>51.627403</td>\n",
       "      <td>-121.285294</td>\n",
       "      <td>-0.926</td>\n",
       "      <td>328</td>\n",
       "      <td>917</td>\n",
       "      <td>78</td>\n",
       "      <td>94</td>\n",
       "      <td>...</td>\n",
       "      <td>1.331</td>\n",
       "      <td>1.331</td>\n",
       "      <td>0.07</td>\n",
       "      <td>1.331</td>\n",
       "      <td>2.53</td>\n",
       "      <td>2.180375</td>\n",
       "      <td>0.07</td>\n",
       "      <td>0.046</td>\n",
       "      <td>2.53</td>\n",
       "      <td>0.015</td>\n",
       "    </tr>\n",
       "    <tr>\n",
       "      <th>1</th>\n",
       "      <td>0</td>\n",
       "      <td>100 Mile House</td>\n",
       "      <td>2021-01-10</td>\n",
       "      <td>51.547768</td>\n",
       "      <td>-121.402448</td>\n",
       "      <td>-0.926</td>\n",
       "      <td>328</td>\n",
       "      <td>917</td>\n",
       "      <td>78</td>\n",
       "      <td>94</td>\n",
       "      <td>...</td>\n",
       "      <td>1.331</td>\n",
       "      <td>1.331</td>\n",
       "      <td>0.07</td>\n",
       "      <td>1.331</td>\n",
       "      <td>2.53</td>\n",
       "      <td>2.180375</td>\n",
       "      <td>0.07</td>\n",
       "      <td>0.046</td>\n",
       "      <td>2.53</td>\n",
       "      <td>0.015</td>\n",
       "    </tr>\n",
       "    <tr>\n",
       "      <th>2</th>\n",
       "      <td>0</td>\n",
       "      <td>100 Mile House</td>\n",
       "      <td>2021-01-11</td>\n",
       "      <td>51.547768</td>\n",
       "      <td>-121.402448</td>\n",
       "      <td>-0.926</td>\n",
       "      <td>328</td>\n",
       "      <td>917</td>\n",
       "      <td>78</td>\n",
       "      <td>94</td>\n",
       "      <td>...</td>\n",
       "      <td>1.331</td>\n",
       "      <td>1.331</td>\n",
       "      <td>0.07</td>\n",
       "      <td>1.331</td>\n",
       "      <td>2.53</td>\n",
       "      <td>2.180375</td>\n",
       "      <td>0.07</td>\n",
       "      <td>0.046</td>\n",
       "      <td>2.53</td>\n",
       "      <td>0.015</td>\n",
       "    </tr>\n",
       "    <tr>\n",
       "      <th>3</th>\n",
       "      <td>0</td>\n",
       "      <td>100 Mile House</td>\n",
       "      <td>2021-01-12</td>\n",
       "      <td>51.547768</td>\n",
       "      <td>-121.402448</td>\n",
       "      <td>-0.926</td>\n",
       "      <td>328</td>\n",
       "      <td>917</td>\n",
       "      <td>78</td>\n",
       "      <td>94</td>\n",
       "      <td>...</td>\n",
       "      <td>1.331</td>\n",
       "      <td>1.331</td>\n",
       "      <td>0.07</td>\n",
       "      <td>1.331</td>\n",
       "      <td>2.53</td>\n",
       "      <td>2.180375</td>\n",
       "      <td>0.07</td>\n",
       "      <td>0.046</td>\n",
       "      <td>2.53</td>\n",
       "      <td>0.015</td>\n",
       "    </tr>\n",
       "    <tr>\n",
       "      <th>4</th>\n",
       "      <td>0</td>\n",
       "      <td>100 Mile House</td>\n",
       "      <td>2021-01-13</td>\n",
       "      <td>51.547768</td>\n",
       "      <td>-121.402448</td>\n",
       "      <td>-0.926</td>\n",
       "      <td>328</td>\n",
       "      <td>917</td>\n",
       "      <td>78</td>\n",
       "      <td>94</td>\n",
       "      <td>...</td>\n",
       "      <td>1.331</td>\n",
       "      <td>1.331</td>\n",
       "      <td>0.07</td>\n",
       "      <td>1.331</td>\n",
       "      <td>2.53</td>\n",
       "      <td>2.180375</td>\n",
       "      <td>0.07</td>\n",
       "      <td>0.046</td>\n",
       "      <td>2.53</td>\n",
       "      <td>0.015</td>\n",
       "    </tr>\n",
       "  </tbody>\n",
       "</table>\n",
       "<p>5 rows × 31 columns</p>\n",
       "</div>"
      ],
      "text/plain": [
       "   cfb        locality    rep_date        lat         lon   temp   wd  elev  \\\n",
       "0    0  100 Mile House  2021-01-09  51.627403 -121.285294 -0.926  328   917   \n",
       "1    0  100 Mile House  2021-01-10  51.547768 -121.402448 -0.926  328   917   \n",
       "2    0  100 Mile House  2021-01-11  51.547768 -121.402448 -0.926  328   917   \n",
       "3    0  100 Mile House  2021-01-12  51.547768 -121.402448 -0.926  328   917   \n",
       "4    0  100 Mile House  2021-01-13  51.547768 -121.402448 -0.926  328   917   \n",
       "\n",
       "   rh  pcuring  ...  dmc_lag5    dmc   sfc  dmc_lag7  bui_lag4       bfc  \\\n",
       "0  78       94  ...     1.331  1.331  0.07     1.331      2.53  2.180375   \n",
       "1  78       94  ...     1.331  1.331  0.07     1.331      2.53  2.180375   \n",
       "2  78       94  ...     1.331  1.331  0.07     1.331      2.53  2.180375   \n",
       "3  78       94  ...     1.331  1.331  0.07     1.331      2.53  2.180375   \n",
       "4  78       94  ...     1.331  1.331  0.07     1.331      2.53  2.180375   \n",
       "\n",
       "    tfc    isi  bui_lag5  fwi_lag7  \n",
       "0  0.07  0.046      2.53     0.015  \n",
       "1  0.07  0.046      2.53     0.015  \n",
       "2  0.07  0.046      2.53     0.015  \n",
       "3  0.07  0.046      2.53     0.015  \n",
       "4  0.07  0.046      2.53     0.015  \n",
       "\n",
       "[5 rows x 31 columns]"
      ]
     },
     "execution_count": 5,
     "metadata": {},
     "output_type": "execute_result"
    }
   ],
   "source": [
    "from datetime import datetime\n",
    "\n",
    "def return_date(date_string):\n",
    "    #date_dict = eval(date_string)  # Convert the string to a dictionary\n",
    "    date_value = date_string['$date']  # Get the value of the '$date' key\n",
    "    return datetime.strptime(date_value, \"%Y-%m-%dT%H:%M:%S.%fZ\").date()  # Convert the string to a date object\n",
    "\n",
    "df['rep_date'] = df['rep_date'].apply(return_date)\n",
    "df.head()"
   ]
  },
  {
   "cell_type": "code",
   "execution_count": 6,
   "id": "6305a0a1",
   "metadata": {
    "_cell_guid": "6c92182a-11b9-46ca-a4e3-14f0710cb022",
    "_uuid": "ba142660-19b6-44b6-bf5d-a93685eb27f7",
    "collapsed": false,
    "execution": {
     "iopub.execute_input": "2024-08-08T02:43:06.458192Z",
     "iopub.status.busy": "2024-08-08T02:43:06.457906Z",
     "iopub.status.idle": "2024-08-08T02:43:06.464266Z",
     "shell.execute_reply": "2024-08-08T02:43:06.463448Z"
    },
    "jupyter": {
     "outputs_hidden": false
    },
    "papermill": {
     "duration": 0.027751,
     "end_time": "2024-08-08T02:43:06.466603",
     "exception": false,
     "start_time": "2024-08-08T02:43:06.438852",
     "status": "completed"
    },
    "tags": []
   },
   "outputs": [],
   "source": [
    "df['cfb'] = df['cfb'].astype(float)"
   ]
  },
  {
   "cell_type": "code",
   "execution_count": 7,
   "id": "a77d26ff",
   "metadata": {
    "execution": {
     "iopub.execute_input": "2024-08-08T02:43:06.506750Z",
     "iopub.status.busy": "2024-08-08T02:43:06.505972Z",
     "iopub.status.idle": "2024-08-08T02:43:07.016436Z",
     "shell.execute_reply": "2024-08-08T02:43:07.015653Z"
    },
    "papermill": {
     "duration": 0.531401,
     "end_time": "2024-08-08T02:43:07.018699",
     "exception": false,
     "start_time": "2024-08-08T02:43:06.487298",
     "status": "completed"
    },
    "tags": []
   },
   "outputs": [],
   "source": [
    "def create_lagged_features(df, features, lags):\n",
    "    for feature in features:\n",
    "        for lag in lags:\n",
    "            df[f'{feature}_lag{lag}'] = df[feature].shift(lag)\n",
    "    return df\n",
    "\n",
    "# Define lag features\n",
    "features_to_lag = ['cfb', 'dmc', 'temp', 'tfc', 'ros', 'pcuring', 'bfc', 'hfi']\n",
    "lags = [1, 2, 3, 5, 6, 7]\n",
    "\n",
    "# Create lagged features\n",
    "df = create_lagged_features(df, features_to_lag, lags)\n",
    "\n",
    "# Drop rows with NaN values created by lagging\n",
    "df.dropna(inplace=True)"
   ]
  },
  {
   "cell_type": "markdown",
   "id": "c4d0a2e7",
   "metadata": {
    "_cell_guid": "97f1d933-39f2-4f05-8b4d-0a81afb1c07f",
    "_uuid": "0749ee02-aa27-44a6-81ff-f45ae90f3df6",
    "papermill": {
     "duration": 0.017218,
     "end_time": "2024-08-08T02:43:07.053551",
     "exception": false,
     "start_time": "2024-08-08T02:43:07.036333",
     "status": "completed"
    },
    "tags": []
   },
   "source": [
    "Split train and test data"
   ]
  },
  {
   "cell_type": "code",
   "execution_count": 8,
   "id": "7d5be75e",
   "metadata": {
    "_cell_guid": "2c1cac77-c071-44da-b172-04c5298a238c",
    "_uuid": "9d2527f3-0087-4ea7-b860-0e3f0a8ce5a1",
    "collapsed": false,
    "execution": {
     "iopub.execute_input": "2024-08-08T02:43:07.089356Z",
     "iopub.status.busy": "2024-08-08T02:43:07.088847Z",
     "iopub.status.idle": "2024-08-08T02:43:07.500550Z",
     "shell.execute_reply": "2024-08-08T02:43:07.499558Z"
    },
    "jupyter": {
     "outputs_hidden": false
    },
    "papermill": {
     "duration": 0.432376,
     "end_time": "2024-08-08T02:43:07.503082",
     "exception": false,
     "start_time": "2024-08-08T02:43:07.070706",
     "status": "completed"
    },
    "tags": []
   },
   "outputs": [],
   "source": [
    "import datetime\n",
    "\n",
    "split_date = datetime.date(2023, 7, 1)\n",
    "train_data = df[df['rep_date'] < split_date]\n",
    "test_data = df[df['rep_date'] >= split_date]"
   ]
  },
  {
   "cell_type": "code",
   "execution_count": 9,
   "id": "3a83ac76",
   "metadata": {
    "_cell_guid": "23f1c27c-3dc0-401c-9377-0bb7c2f625f9",
    "_uuid": "81def122-8c7d-412c-b324-aa5cedbb48ca",
    "collapsed": false,
    "execution": {
     "iopub.execute_input": "2024-08-08T02:43:07.540360Z",
     "iopub.status.busy": "2024-08-08T02:43:07.540071Z",
     "iopub.status.idle": "2024-08-08T02:43:08.625790Z",
     "shell.execute_reply": "2024-08-08T02:43:08.624958Z"
    },
    "jupyter": {
     "outputs_hidden": false
    },
    "papermill": {
     "duration": 1.106562,
     "end_time": "2024-08-08T02:43:08.628162",
     "exception": false,
     "start_time": "2024-08-08T02:43:07.521600",
     "status": "completed"
    },
    "tags": []
   },
   "outputs": [],
   "source": [
    "train = train_data.reset_index()\n",
    "train = (train.merge((train[['rep_date']].drop_duplicates(ignore_index=True).rename_axis('time_idx'))\\\n",
    "                     .reset_index(), on = ['rep_date'])).drop(\"rep_date\", axis=1)"
   ]
  },
  {
   "cell_type": "code",
   "execution_count": 10,
   "id": "02b45253",
   "metadata": {
    "_cell_guid": "0de6a706-5bcb-47b4-bcf5-1ec7dc7027f6",
    "_uuid": "4bdceaf6-438b-41a7-afdc-b9ec6f131c6b",
    "collapsed": false,
    "execution": {
     "iopub.execute_input": "2024-08-08T02:43:08.664315Z",
     "iopub.status.busy": "2024-08-08T02:43:08.664023Z",
     "iopub.status.idle": "2024-08-08T02:43:08.968042Z",
     "shell.execute_reply": "2024-08-08T02:43:08.967151Z"
    },
    "jupyter": {
     "outputs_hidden": false
    },
    "papermill": {
     "duration": 0.324381,
     "end_time": "2024-08-08T02:43:08.970073",
     "exception": false,
     "start_time": "2024-08-08T02:43:08.645692",
     "status": "completed"
    },
    "tags": []
   },
   "outputs": [
    {
     "name": "stdout",
     "output_type": "stream",
     "text": [
      "Duplicate rows:\n",
      "         index   cfb        locality        lat         lon       temp   wd  \\\n",
      "193        200  63.0  100 Mile House  51.542999 -121.434998  26.851000  177   \n",
      "194        201   0.0  100 Mile House  51.526001 -121.428001  26.940001  177   \n",
      "195        202   0.0  100 Mile House  51.530998 -121.410004  26.900000  177   \n",
      "196        203   0.0  100 Mile House  51.530998 -121.411003  25.910000  353   \n",
      "197        204  35.0  100 Mile House  51.528999 -121.422997  25.934000  353   \n",
      "...        ...   ...             ...        ...         ...        ...  ...   \n",
      "658166  659367   0.0           Zhoda  49.299700  -96.576300  24.204000  152   \n",
      "658167  659368   0.0           Zhoda  49.298000  -96.568900  24.204000  152   \n",
      "658172  659373   0.0           Zhoda  49.282500  -96.587500  28.539000  103   \n",
      "658173  659374   0.0           Zhoda  49.291300  -96.580100  28.561000  103   \n",
      "658174  659375   0.0           Zhoda  49.279000  -96.578000  28.538000  103   \n",
      "\n",
      "        elev  rh  pcuring  ...  bfc_lag5  bfc_lag6  bfc_lag7  hfi_lag1  \\\n",
      "193     1219  23       43  ...  6.149034  6.149034  6.149034    1903.0   \n",
      "194     1193  23       45  ...  6.149034  6.149034  6.149034    8154.0   \n",
      "195     1200  23       46  ...  6.461496  6.149034  6.149034    7717.0   \n",
      "196     1200  29       30  ...  6.461496  6.461496  6.149034    3178.0   \n",
      "197     1200  29       29  ...  6.461496  6.461496  6.461496    9020.0   \n",
      "...      ...  ..      ...  ...       ...       ...       ...       ...   \n",
      "658166   298  78       23  ...  1.171960  1.177690  1.173120      10.0   \n",
      "658167   300  78       22  ...  1.166460  1.171960  1.177690      10.0   \n",
      "658172   295  41       31  ...  1.171880  1.177040  1.169420      53.0   \n",
      "658173   298  41       33  ...  1.171880  1.171880  1.177040      49.0   \n",
      "658174   295  41       32  ...  1.171880  1.171880  1.171880      49.0   \n",
      "\n",
      "        hfi_lag2  hfi_lag3  hfi_lag5  hfi_lag6  hfi_lag7  time_idx  \n",
      "193       1903.0    1903.0   10833.0   10833.0   10833.0       193  \n",
      "194       1903.0    1903.0   10833.0   10833.0   10833.0       193  \n",
      "195       8154.0    1903.0    1903.0   10833.0   10833.0       193  \n",
      "196       7717.0    8154.0    1903.0    1903.0   10833.0       194  \n",
      "197       3178.0    7717.0    1903.0    1903.0    1903.0       194  \n",
      "...          ...       ...       ...       ...       ...       ...  \n",
      "658166      10.0      10.0      10.0      10.0      10.0       955  \n",
      "658167      10.0      10.0      10.0      10.0      10.0       955  \n",
      "658172      10.0      10.0      10.0      10.0      10.0       960  \n",
      "658173      53.0      10.0      10.0      10.0      10.0       960  \n",
      "658174      49.0      53.0      10.0      10.0      10.0       960  \n",
      "\n",
      "[194033 rows x 78 columns]\n"
     ]
    }
   ],
   "source": [
    "# Check for duplicates\n",
    "duplicates = train[train.duplicated(['locality', 'time_idx'], keep=False)]\n",
    "print(\"Duplicate rows:\")\n",
    "print(duplicates)"
   ]
  },
  {
   "cell_type": "code",
   "execution_count": 11,
   "id": "575a3e8c",
   "metadata": {
    "_cell_guid": "8ae3b62f-e91c-4d22-b41d-2092c84a59b8",
    "_uuid": "3172f6db-1e8c-4984-a982-f33cae12a498",
    "collapsed": false,
    "execution": {
     "iopub.execute_input": "2024-08-08T02:43:09.006673Z",
     "iopub.status.busy": "2024-08-08T02:43:09.006344Z",
     "iopub.status.idle": "2024-08-08T02:43:11.257720Z",
     "shell.execute_reply": "2024-08-08T02:43:11.256926Z"
    },
    "jupyter": {
     "outputs_hidden": false
    },
    "papermill": {
     "duration": 2.272185,
     "end_time": "2024-08-08T02:43:11.259949",
     "exception": false,
     "start_time": "2024-08-08T02:43:08.987764",
     "status": "completed"
    },
    "tags": []
   },
   "outputs": [],
   "source": [
    "# Aggregate duplicate rows (using mean as an example)\n",
    "train_unique = train.groupby(['locality', 'time_idx']).mean().reset_index()\n",
    "\n",
    "# Verify that we now have unique combinations\n",
    "assert train_unique.duplicated(['locality', 'time_idx']).sum() == 0, \"Still have duplicates after aggregation\""
   ]
  },
  {
   "cell_type": "code",
   "execution_count": 12,
   "id": "b76d43ad",
   "metadata": {
    "_cell_guid": "97d3e4cd-6d3c-487a-9ecb-b4246ec94434",
    "_uuid": "df62a20d-97cc-4f28-8069-28d63a26e9f7",
    "collapsed": false,
    "execution": {
     "iopub.execute_input": "2024-08-08T02:43:11.296594Z",
     "iopub.status.busy": "2024-08-08T02:43:11.296224Z",
     "iopub.status.idle": "2024-08-08T02:43:14.888528Z",
     "shell.execute_reply": "2024-08-08T02:43:14.887583Z"
    },
    "jupyter": {
     "outputs_hidden": false
    },
    "papermill": {
     "duration": 3.613075,
     "end_time": "2024-08-08T02:43:14.890817",
     "exception": false,
     "start_time": "2024-08-08T02:43:11.277742",
     "status": "completed"
    },
    "tags": []
   },
   "outputs": [
    {
     "name": "stdout",
     "output_type": "stream",
     "text": [
      "Index(['locality', 'time_idx', 'index', 'cfb', 'lat', 'lon', 'temp', 'wd',\n",
      "       'elev', 'rh', 'pcuring', 'day', 'ros', 'year', 'month', 'hfi', 'tfc0',\n",
      "       'sfl', 'bui_lag2', 'bui', 'cfl', 'sfc0', 'dmc_lag5', 'dmc', 'sfc',\n",
      "       'dmc_lag7', 'bui_lag4', 'bfc', 'tfc', 'isi', 'bui_lag5', 'fwi_lag7',\n",
      "       'cfb_lag1', 'cfb_lag2', 'cfb_lag3', 'cfb_lag5', 'cfb_lag6', 'cfb_lag7',\n",
      "       'dmc_lag1', 'dmc_lag2', 'dmc_lag3', 'dmc_lag6', 'temp_lag1',\n",
      "       'temp_lag2', 'temp_lag3', 'temp_lag5', 'temp_lag6', 'temp_lag7',\n",
      "       'tfc_lag1', 'tfc_lag2', 'tfc_lag3', 'tfc_lag5', 'tfc_lag6', 'tfc_lag7',\n",
      "       'ros_lag1', 'ros_lag2', 'ros_lag3', 'ros_lag5', 'ros_lag6', 'ros_lag7',\n",
      "       'pcuring_lag1', 'pcuring_lag2', 'pcuring_lag3', 'pcuring_lag5',\n",
      "       'pcuring_lag6', 'pcuring_lag7', 'bfc_lag1', 'bfc_lag2', 'bfc_lag3',\n",
      "       'bfc_lag5', 'bfc_lag6', 'bfc_lag7', 'hfi_lag1', 'hfi_lag2', 'hfi_lag3',\n",
      "       'hfi_lag5', 'hfi_lag6', 'hfi_lag7'],\n",
      "      dtype='object')\n",
      "              locality  time_idx     index  cfb        lat         lon  \\\n",
      "0       100 Mile House         0       7.0  0.0  51.547768 -121.402448   \n",
      "1       100 Mile House         1       8.0  0.0  51.547768 -121.402448   \n",
      "2       100 Mile House         2       9.0  0.0  51.547768 -121.402448   \n",
      "3       100 Mile House         3      10.0  0.0  51.547768 -121.402448   \n",
      "4       100 Mile House         4      11.0  0.0  51.547768 -121.402448   \n",
      "...                ...       ...       ...  ...        ...         ...   \n",
      "994335           Zhoda      1193  659374.0  0.0  49.284267  -96.581867   \n",
      "994336           Zhoda      1194  659374.0  0.0  49.284267  -96.581867   \n",
      "994337           Zhoda      1195  659374.0  0.0  49.284267  -96.581867   \n",
      "994338           Zhoda      1196  659374.0  0.0  49.284267  -96.581867   \n",
      "994339           Zhoda      1197  659374.0  0.0  49.284267  -96.581867   \n",
      "\n",
      "          temp     wd   elev    rh  ...  bfc_lag3  bfc_lag5  bfc_lag6  \\\n",
      "0       -0.926  328.0  917.0  78.0  ...  2.180375  2.180375  2.180375   \n",
      "1       -0.926  328.0  917.0  78.0  ...  2.180375  2.180375  2.180375   \n",
      "2       -0.926  328.0  917.0  78.0  ...  2.180375  2.180375  2.180375   \n",
      "3       -0.926  328.0  917.0  78.0  ...  2.180375  2.180375  2.180375   \n",
      "4       -0.926  328.0  917.0  78.0  ...  2.180375  2.180375  2.180375   \n",
      "...        ...    ...    ...   ...  ...       ...       ...       ...   \n",
      "994335  28.546  103.0  296.0  41.0  ...  1.329710  1.171880  1.173600   \n",
      "994336  28.546  103.0  296.0  41.0  ...  1.329710  1.171880  1.173600   \n",
      "994337  28.546  103.0  296.0  41.0  ...  1.329710  1.171880  1.173600   \n",
      "994338  28.546  103.0  296.0  41.0  ...  1.329710  1.171880  1.173600   \n",
      "994339  28.546  103.0  296.0  41.0  ...  1.329710  1.171880  1.173600   \n",
      "\n",
      "        bfc_lag7   hfi_lag1   hfi_lag2   hfi_lag3  hfi_lag5  hfi_lag6  \\\n",
      "0       2.180375   0.000000   0.000000   0.000000       0.0       0.0   \n",
      "1       2.180375   0.000000   0.000000   0.000000       0.0       0.0   \n",
      "2       2.180375   0.000000   0.000000   0.000000       0.0       0.0   \n",
      "3       2.180375   0.000000   0.000000   0.000000       0.0       0.0   \n",
      "4       2.180375   0.000000   0.000000   0.000000       0.0       0.0   \n",
      "...          ...        ...        ...        ...       ...       ...   \n",
      "994335  1.172780  50.333333  37.333333  24.333333      10.0      10.0   \n",
      "994336  1.172780  50.333333  37.333333  24.333333      10.0      10.0   \n",
      "994337  1.172780  50.333333  37.333333  24.333333      10.0      10.0   \n",
      "994338  1.172780  50.333333  37.333333  24.333333      10.0      10.0   \n",
      "994339  1.172780  50.333333  37.333333  24.333333      10.0      10.0   \n",
      "\n",
      "        hfi_lag7  \n",
      "0            0.0  \n",
      "1            0.0  \n",
      "2            0.0  \n",
      "3            0.0  \n",
      "4            0.0  \n",
      "...          ...  \n",
      "994335      10.0  \n",
      "994336      10.0  \n",
      "994337      10.0  \n",
      "994338      10.0  \n",
      "994339      10.0  \n",
      "\n",
      "[994340 rows x 78 columns]\n"
     ]
    }
   ],
   "source": [
    "# Create a complete time series for each locality\n",
    "full_index = pd.MultiIndex.from_product(\n",
    "    [train_unique['locality'].unique(), \n",
    "     range(train_unique['time_idx'].min(), train_unique['time_idx'].max() + 1)],\n",
    "    names=['locality', 'time_idx']\n",
    ")\n",
    "\n",
    "# Reindex the dataframe and reset index to reintroduce locality and time_idx as columns\n",
    "train_filled = train_unique.set_index(['locality', 'time_idx']).reindex(full_index).reset_index()\n",
    "\n",
    "# Check the presence of 'locality' column\n",
    "print(train_filled.columns)\n",
    "\n",
    "# Forward fill the missing values within each group, but keep locality and time_idx intact\n",
    "train_filled.update(train_filled.groupby('locality').ffill())\n",
    "\n",
    "# If needed, backward fill remaining NaN values after forward fill\n",
    "train_filled.update(train_filled.groupby('locality').bfill())\n",
    "\n",
    "# Resulting DataFrame\n",
    "print(train_filled)"
   ]
  },
  {
   "cell_type": "code",
   "execution_count": 13,
   "id": "b8a3e4ae",
   "metadata": {
    "_cell_guid": "7a6dd0bb-5d25-40a5-b9a9-bf2dacf809e1",
    "_uuid": "3d99af5e-9d42-4866-846f-0f0985d60337",
    "collapsed": false,
    "execution": {
     "iopub.execute_input": "2024-08-08T02:43:14.927648Z",
     "iopub.status.busy": "2024-08-08T02:43:14.927351Z",
     "iopub.status.idle": "2024-08-08T02:43:15.156160Z",
     "shell.execute_reply": "2024-08-08T02:43:15.155264Z"
    },
    "jupyter": {
     "outputs_hidden": false
    },
    "papermill": {
     "duration": 0.249617,
     "end_time": "2024-08-08T02:43:15.158440",
     "exception": false,
     "start_time": "2024-08-08T02:43:14.908823",
     "status": "completed"
    },
    "tags": []
   },
   "outputs": [
    {
     "name": "stdout",
     "output_type": "stream",
     "text": [
      "<class 'pandas.core.frame.DataFrame'>\n",
      "RangeIndex: 994340 entries, 0 to 994339\n",
      "Data columns (total 78 columns):\n",
      " #   Column        Non-Null Count   Dtype  \n",
      "---  ------        --------------   -----  \n",
      " 0   locality      994340 non-null  object \n",
      " 1   time_idx      994340 non-null  int64  \n",
      " 2   index         994340 non-null  float64\n",
      " 3   cfb           994340 non-null  float64\n",
      " 4   lat           994340 non-null  float64\n",
      " 5   lon           994340 non-null  float64\n",
      " 6   temp          994340 non-null  float64\n",
      " 7   wd            994340 non-null  float64\n",
      " 8   elev          994340 non-null  float64\n",
      " 9   rh            994340 non-null  float64\n",
      " 10  pcuring       994340 non-null  float64\n",
      " 11  day           994340 non-null  float64\n",
      " 12  ros           994340 non-null  float64\n",
      " 13  year          994340 non-null  float64\n",
      " 14  month         994340 non-null  float64\n",
      " 15  hfi           994340 non-null  float64\n",
      " 16  tfc0          994340 non-null  float64\n",
      " 17  sfl           994340 non-null  float64\n",
      " 18  bui_lag2      994340 non-null  float64\n",
      " 19  bui           994340 non-null  float64\n",
      " 20  cfl           994340 non-null  float64\n",
      " 21  sfc0          994340 non-null  float64\n",
      " 22  dmc_lag5      994340 non-null  float64\n",
      " 23  dmc           994340 non-null  float64\n",
      " 24  sfc           994340 non-null  float64\n",
      " 25  dmc_lag7      994340 non-null  float64\n",
      " 26  bui_lag4      994340 non-null  float64\n",
      " 27  bfc           994340 non-null  float64\n",
      " 28  tfc           994340 non-null  float64\n",
      " 29  isi           994340 non-null  float64\n",
      " 30  bui_lag5      994340 non-null  float64\n",
      " 31  fwi_lag7      994340 non-null  float64\n",
      " 32  cfb_lag1      994340 non-null  float64\n",
      " 33  cfb_lag2      994340 non-null  float64\n",
      " 34  cfb_lag3      994340 non-null  float64\n",
      " 35  cfb_lag5      994340 non-null  float64\n",
      " 36  cfb_lag6      994340 non-null  float64\n",
      " 37  cfb_lag7      994340 non-null  float64\n",
      " 38  dmc_lag1      994340 non-null  float64\n",
      " 39  dmc_lag2      994340 non-null  float64\n",
      " 40  dmc_lag3      994340 non-null  float64\n",
      " 41  dmc_lag6      994340 non-null  float64\n",
      " 42  temp_lag1     994340 non-null  float64\n",
      " 43  temp_lag2     994340 non-null  float64\n",
      " 44  temp_lag3     994340 non-null  float64\n",
      " 45  temp_lag5     994340 non-null  float64\n",
      " 46  temp_lag6     994340 non-null  float64\n",
      " 47  temp_lag7     994340 non-null  float64\n",
      " 48  tfc_lag1      994340 non-null  float64\n",
      " 49  tfc_lag2      994340 non-null  float64\n",
      " 50  tfc_lag3      994340 non-null  float64\n",
      " 51  tfc_lag5      994340 non-null  float64\n",
      " 52  tfc_lag6      994340 non-null  float64\n",
      " 53  tfc_lag7      994340 non-null  float64\n",
      " 54  ros_lag1      994340 non-null  float64\n",
      " 55  ros_lag2      994340 non-null  float64\n",
      " 56  ros_lag3      994340 non-null  float64\n",
      " 57  ros_lag5      994340 non-null  float64\n",
      " 58  ros_lag6      994340 non-null  float64\n",
      " 59  ros_lag7      994340 non-null  float64\n",
      " 60  pcuring_lag1  994340 non-null  float64\n",
      " 61  pcuring_lag2  994340 non-null  float64\n",
      " 62  pcuring_lag3  994340 non-null  float64\n",
      " 63  pcuring_lag5  994340 non-null  float64\n",
      " 64  pcuring_lag6  994340 non-null  float64\n",
      " 65  pcuring_lag7  994340 non-null  float64\n",
      " 66  bfc_lag1      994340 non-null  float64\n",
      " 67  bfc_lag2      994340 non-null  float64\n",
      " 68  bfc_lag3      994340 non-null  float64\n",
      " 69  bfc_lag5      994340 non-null  float64\n",
      " 70  bfc_lag6      994340 non-null  float64\n",
      " 71  bfc_lag7      994340 non-null  float64\n",
      " 72  hfi_lag1      994340 non-null  float64\n",
      " 73  hfi_lag2      994340 non-null  float64\n",
      " 74  hfi_lag3      994340 non-null  float64\n",
      " 75  hfi_lag5      994340 non-null  float64\n",
      " 76  hfi_lag6      994340 non-null  float64\n",
      " 77  hfi_lag7      994340 non-null  float64\n",
      "dtypes: float64(76), int64(1), object(1)\n",
      "memory usage: 591.7+ MB\n"
     ]
    }
   ],
   "source": [
    "train_filled.info()"
   ]
  },
  {
   "cell_type": "markdown",
   "id": "e608b1f5",
   "metadata": {
    "_cell_guid": "1ed589bf-3eba-49f2-9094-1ac80d227d55",
    "_uuid": "3e7d0faf-fa3e-4d44-b614-5e86c1ac4628",
    "papermill": {
     "duration": 0.018229,
     "end_time": "2024-08-08T02:43:15.195185",
     "exception": false,
     "start_time": "2024-08-08T02:43:15.176956",
     "status": "completed"
    },
    "tags": []
   },
   "source": [
    "### Transform Dataset to TimeSeriesDataset of Pytorch"
   ]
  },
  {
   "cell_type": "code",
   "execution_count": 14,
   "id": "6d7ae7f3",
   "metadata": {
    "_cell_guid": "82c4b518-8d14-4957-99d3-3ce6da2db8b7",
    "_uuid": "94127380-4a5a-4217-806d-bd534d7b2e89",
    "collapsed": false,
    "execution": {
     "iopub.execute_input": "2024-08-08T02:43:15.232713Z",
     "iopub.status.busy": "2024-08-08T02:43:15.232317Z",
     "iopub.status.idle": "2024-08-08T02:43:15.243416Z",
     "shell.execute_reply": "2024-08-08T02:43:15.242584Z"
    },
    "jupyter": {
     "outputs_hidden": false
    },
    "papermill": {
     "duration": 0.031975,
     "end_time": "2024-08-08T02:43:15.245367",
     "exception": false,
     "start_time": "2024-08-08T02:43:15.213392",
     "status": "completed"
    },
    "tags": []
   },
   "outputs": [
    {
     "data": {
      "text/plain": [
       "1198"
      ]
     },
     "execution_count": 14,
     "metadata": {},
     "output_type": "execute_result"
    }
   ],
   "source": [
    "train_filled['time_idx'].nunique()"
   ]
  },
  {
   "cell_type": "code",
   "execution_count": 15,
   "id": "d4617ec8",
   "metadata": {
    "_cell_guid": "02d179be-4822-4849-91ae-bec92070de43",
    "_uuid": "dca6bf3b-f0e9-4819-883c-5238176c923b",
    "collapsed": false,
    "execution": {
     "iopub.execute_input": "2024-08-08T02:43:15.283232Z",
     "iopub.status.busy": "2024-08-08T02:43:15.282983Z",
     "iopub.status.idle": "2024-08-08T02:43:15.287922Z",
     "shell.execute_reply": "2024-08-08T02:43:15.287055Z"
    },
    "jupyter": {
     "outputs_hidden": false
    },
    "papermill": {
     "duration": 0.025904,
     "end_time": "2024-08-08T02:43:15.289883",
     "exception": false,
     "start_time": "2024-08-08T02:43:15.263979",
     "status": "completed"
    },
    "tags": []
   },
   "outputs": [],
   "source": [
    "all_features = ['cfb', 'locality', 'temp', 'wd',\n",
    "       'elev', 'rh', 'pcuring', 'day', 'ros', 'year', 'month', 'hfi', 'tfc0',\n",
    "       'sfl', 'bui_lag2', 'bui', 'cfl', 'sfc0', 'dmc_lag5', 'dmc', 'sfc',    \n",
    "       'dmc_lag7', 'bui_lag4', 'bfc', 'tfc', 'isi', 'bui_lag5', 'fwi_lag7']"
   ]
  },
  {
   "cell_type": "code",
   "execution_count": 16,
   "id": "8dc8ce46",
   "metadata": {
    "_cell_guid": "0536fe3e-67e0-4118-b8fb-1084356cb41a",
    "_uuid": "8e97956d-4519-4296-a043-03984d9890c7",
    "collapsed": false,
    "execution": {
     "iopub.execute_input": "2024-08-08T02:43:15.327183Z",
     "iopub.status.busy": "2024-08-08T02:43:15.326934Z",
     "iopub.status.idle": "2024-08-08T02:43:15.334468Z",
     "shell.execute_reply": "2024-08-08T02:43:15.333648Z"
    },
    "jupyter": {
     "outputs_hidden": false
    },
    "papermill": {
     "duration": 0.02855,
     "end_time": "2024-08-08T02:43:15.336484",
     "exception": false,
     "start_time": "2024-08-08T02:43:15.307934",
     "status": "completed"
    },
    "tags": []
   },
   "outputs": [
    {
     "data": {
      "text/plain": [
       "658175"
      ]
     },
     "execution_count": 16,
     "metadata": {},
     "output_type": "execute_result"
    }
   ],
   "source": [
    "train.index.nunique()"
   ]
  },
  {
   "cell_type": "code",
   "execution_count": 17,
   "id": "aef01879",
   "metadata": {
    "_cell_guid": "8f1b77d4-9cf2-454b-b348-0a4445fbe79d",
    "_uuid": "7a26fcc8-4181-40fb-8dfd-c618ea7abec3",
    "collapsed": false,
    "execution": {
     "iopub.execute_input": "2024-08-08T02:43:15.376082Z",
     "iopub.status.busy": "2024-08-08T02:43:15.375360Z",
     "iopub.status.idle": "2024-08-08T02:43:15.889653Z",
     "shell.execute_reply": "2024-08-08T02:43:15.888833Z"
    },
    "jupyter": {
     "outputs_hidden": false
    },
    "papermill": {
     "duration": 0.536154,
     "end_time": "2024-08-08T02:43:15.891663",
     "exception": false,
     "start_time": "2024-08-08T02:43:15.355509",
     "status": "completed"
    },
    "tags": []
   },
   "outputs": [],
   "source": [
    "lags = ['bui_lag2',  'dmc_lag5', 'dmc_lag7', 'bui_lag4', 'bui_lag5', 'fwi_lag7']\n",
    "lag_values = {lag: df[lag].values for lag in lags}\n",
    "for keys, values in lag_values.items():\n",
    "    if min(values) > 0:\n",
    "        print('negative lag')"
   ]
  },
  {
   "cell_type": "code",
   "execution_count": 18,
   "id": "a49ce4f9",
   "metadata": {
    "_cell_guid": "00e197bc-c939-457c-b80e-5e092e05029e",
    "_uuid": "488415c8-55f5-4c69-bf99-8c5e8ee27177",
    "collapsed": false,
    "execution": {
     "iopub.execute_input": "2024-08-08T02:43:15.929364Z",
     "iopub.status.busy": "2024-08-08T02:43:15.929076Z",
     "iopub.status.idle": "2024-08-08T02:43:31.981103Z",
     "shell.execute_reply": "2024-08-08T02:43:31.979959Z"
    },
    "jupyter": {
     "outputs_hidden": false
    },
    "papermill": {
     "duration": 16.073376,
     "end_time": "2024-08-08T02:43:31.983543",
     "exception": false,
     "start_time": "2024-08-08T02:43:15.910167",
     "status": "completed"
    },
    "tags": []
   },
   "outputs": [
    {
     "name": "stdout",
     "output_type": "stream",
     "text": [
      "Collecting pytorch-forecasting\r\n",
      "  Downloading pytorch_forecasting-1.0.0-py3-none-any.whl.metadata (11 kB)\r\n",
      "Requirement already satisfied: fastapi>=0.80 in /opt/conda/lib/python3.10/site-packages (from pytorch-forecasting) (0.108.0)\r\n",
      "Collecting lightning<3.0.0,>=2.0.0 (from pytorch-forecasting)\r\n",
      "  Downloading lightning-2.4.0-py3-none-any.whl.metadata (38 kB)\r\n",
      "Requirement already satisfied: matplotlib in /opt/conda/lib/python3.10/site-packages (from pytorch-forecasting) (3.7.5)\r\n",
      "Requirement already satisfied: optuna<4.0.0,>=3.1.0 in /opt/conda/lib/python3.10/site-packages (from pytorch-forecasting) (3.6.1)\r\n",
      "Requirement already satisfied: pandas<=3.0.0,>=1.3.0 in /opt/conda/lib/python3.10/site-packages (from pytorch-forecasting) (2.2.2)\r\n",
      "Collecting pytorch-optimizer<3.0.0,>=2.5.1 (from pytorch-forecasting)\r\n",
      "  Downloading pytorch_optimizer-2.12.0-py3-none-any.whl.metadata (46 kB)\r\n",
      "\u001b[2K     \u001b[90m━━━━━━━━━━━━━━━━━━━━━━━━━━━━━━━━━━━━━━━━\u001b[0m \u001b[32m46.1/46.1 kB\u001b[0m \u001b[31m2.7 MB/s\u001b[0m eta \u001b[36m0:00:00\u001b[0m\r\n",
      "\u001b[?25hRequirement already satisfied: scikit-learn<2.0,>=1.2 in /opt/conda/lib/python3.10/site-packages (from pytorch-forecasting) (1.2.2)\r\n",
      "Requirement already satisfied: scipy<2.0,>=1.8 in /opt/conda/lib/python3.10/site-packages (from pytorch-forecasting) (1.11.4)\r\n",
      "Requirement already satisfied: statsmodels in /opt/conda/lib/python3.10/site-packages (from pytorch-forecasting) (0.14.1)\r\n",
      "Requirement already satisfied: torch<3.0.0,>=2.0.0 in /opt/conda/lib/python3.10/site-packages (from pytorch-forecasting) (2.1.2)\r\n",
      "Requirement already satisfied: pydantic!=1.8,!=1.8.1,!=2.0.0,!=2.0.1,!=2.1.0,<3.0.0,>=1.7.4 in /opt/conda/lib/python3.10/site-packages (from fastapi>=0.80->pytorch-forecasting) (2.5.3)\r\n",
      "Requirement already satisfied: starlette<0.33.0,>=0.29.0 in /opt/conda/lib/python3.10/site-packages (from fastapi>=0.80->pytorch-forecasting) (0.32.0.post1)\r\n",
      "Requirement already satisfied: typing-extensions>=4.8.0 in /opt/conda/lib/python3.10/site-packages (from fastapi>=0.80->pytorch-forecasting) (4.9.0)\r\n",
      "Requirement already satisfied: PyYAML<8.0,>=5.4 in /opt/conda/lib/python3.10/site-packages (from lightning<3.0.0,>=2.0.0->pytorch-forecasting) (6.0.1)\r\n",
      "Requirement already satisfied: fsspec<2026.0,>=2022.5.0 in /opt/conda/lib/python3.10/site-packages (from fsspec[http]<2026.0,>=2022.5.0->lightning<3.0.0,>=2.0.0->pytorch-forecasting) (2024.5.0)\r\n",
      "Requirement already satisfied: lightning-utilities<2.0,>=0.10.0 in /opt/conda/lib/python3.10/site-packages (from lightning<3.0.0,>=2.0.0->pytorch-forecasting) (0.11.3.post0)\r\n",
      "Requirement already satisfied: packaging<25.0,>=20.0 in /opt/conda/lib/python3.10/site-packages (from lightning<3.0.0,>=2.0.0->pytorch-forecasting) (21.3)\r\n",
      "Requirement already satisfied: torchmetrics<3.0,>=0.7.0 in /opt/conda/lib/python3.10/site-packages (from lightning<3.0.0,>=2.0.0->pytorch-forecasting) (1.4.0.post0)\r\n",
      "Requirement already satisfied: tqdm<6.0,>=4.57.0 in /opt/conda/lib/python3.10/site-packages (from lightning<3.0.0,>=2.0.0->pytorch-forecasting) (4.66.4)\r\n",
      "Requirement already satisfied: pytorch-lightning in /opt/conda/lib/python3.10/site-packages (from lightning<3.0.0,>=2.0.0->pytorch-forecasting) (2.3.3)\r\n",
      "Requirement already satisfied: alembic>=1.5.0 in /opt/conda/lib/python3.10/site-packages (from optuna<4.0.0,>=3.1.0->pytorch-forecasting) (1.13.2)\r\n",
      "Requirement already satisfied: colorlog in /opt/conda/lib/python3.10/site-packages (from optuna<4.0.0,>=3.1.0->pytorch-forecasting) (6.8.2)\r\n",
      "Requirement already satisfied: numpy in /opt/conda/lib/python3.10/site-packages (from optuna<4.0.0,>=3.1.0->pytorch-forecasting) (1.26.4)\r\n",
      "Requirement already satisfied: sqlalchemy>=1.3.0 in /opt/conda/lib/python3.10/site-packages (from optuna<4.0.0,>=3.1.0->pytorch-forecasting) (2.0.25)\r\n",
      "Requirement already satisfied: python-dateutil>=2.8.2 in /opt/conda/lib/python3.10/site-packages (from pandas<=3.0.0,>=1.3.0->pytorch-forecasting) (2.9.0.post0)\r\n",
      "Requirement already satisfied: pytz>=2020.1 in /opt/conda/lib/python3.10/site-packages (from pandas<=3.0.0,>=1.3.0->pytorch-forecasting) (2023.3.post1)\r\n",
      "Requirement already satisfied: tzdata>=2022.7 in /opt/conda/lib/python3.10/site-packages (from pandas<=3.0.0,>=1.3.0->pytorch-forecasting) (2023.4)\r\n",
      "Requirement already satisfied: joblib>=1.1.1 in /opt/conda/lib/python3.10/site-packages (from scikit-learn<2.0,>=1.2->pytorch-forecasting) (1.4.2)\r\n",
      "Requirement already satisfied: threadpoolctl>=2.0.0 in /opt/conda/lib/python3.10/site-packages (from scikit-learn<2.0,>=1.2->pytorch-forecasting) (3.2.0)\r\n",
      "Requirement already satisfied: filelock in /opt/conda/lib/python3.10/site-packages (from torch<3.0.0,>=2.0.0->pytorch-forecasting) (3.13.1)\r\n",
      "Requirement already satisfied: sympy in /opt/conda/lib/python3.10/site-packages (from torch<3.0.0,>=2.0.0->pytorch-forecasting) (1.13.0)\r\n",
      "Requirement already satisfied: networkx in /opt/conda/lib/python3.10/site-packages (from torch<3.0.0,>=2.0.0->pytorch-forecasting) (3.2.1)\r\n",
      "Requirement already satisfied: jinja2 in /opt/conda/lib/python3.10/site-packages (from torch<3.0.0,>=2.0.0->pytorch-forecasting) (3.1.2)\r\n",
      "Requirement already satisfied: contourpy>=1.0.1 in /opt/conda/lib/python3.10/site-packages (from matplotlib->pytorch-forecasting) (1.2.0)\r\n",
      "Requirement already satisfied: cycler>=0.10 in /opt/conda/lib/python3.10/site-packages (from matplotlib->pytorch-forecasting) (0.12.1)\r\n",
      "Requirement already satisfied: fonttools>=4.22.0 in /opt/conda/lib/python3.10/site-packages (from matplotlib->pytorch-forecasting) (4.47.0)\r\n",
      "Requirement already satisfied: kiwisolver>=1.0.1 in /opt/conda/lib/python3.10/site-packages (from matplotlib->pytorch-forecasting) (1.4.5)\r\n",
      "Requirement already satisfied: pillow>=6.2.0 in /opt/conda/lib/python3.10/site-packages (from matplotlib->pytorch-forecasting) (9.5.0)\r\n",
      "Requirement already satisfied: pyparsing>=2.3.1 in /opt/conda/lib/python3.10/site-packages (from matplotlib->pytorch-forecasting) (3.1.1)\r\n",
      "Requirement already satisfied: patsy>=0.5.4 in /opt/conda/lib/python3.10/site-packages (from statsmodels->pytorch-forecasting) (0.5.6)\r\n",
      "Requirement already satisfied: Mako in /opt/conda/lib/python3.10/site-packages (from alembic>=1.5.0->optuna<4.0.0,>=3.1.0->pytorch-forecasting) (1.3.5)\r\n",
      "Requirement already satisfied: aiohttp!=4.0.0a0,!=4.0.0a1 in /opt/conda/lib/python3.10/site-packages (from fsspec[http]<2026.0,>=2022.5.0->lightning<3.0.0,>=2.0.0->pytorch-forecasting) (3.9.1)\r\n",
      "Requirement already satisfied: setuptools in /opt/conda/lib/python3.10/site-packages (from lightning-utilities<2.0,>=0.10.0->lightning<3.0.0,>=2.0.0->pytorch-forecasting) (69.0.3)\r\n",
      "Requirement already satisfied: six in /opt/conda/lib/python3.10/site-packages (from patsy>=0.5.4->statsmodels->pytorch-forecasting) (1.16.0)\r\n",
      "Requirement already satisfied: annotated-types>=0.4.0 in /opt/conda/lib/python3.10/site-packages (from pydantic!=1.8,!=1.8.1,!=2.0.0,!=2.0.1,!=2.1.0,<3.0.0,>=1.7.4->fastapi>=0.80->pytorch-forecasting) (0.6.0)\r\n",
      "Requirement already satisfied: pydantic-core==2.14.6 in /opt/conda/lib/python3.10/site-packages (from pydantic!=1.8,!=1.8.1,!=2.0.0,!=2.0.1,!=2.1.0,<3.0.0,>=1.7.4->fastapi>=0.80->pytorch-forecasting) (2.14.6)\r\n",
      "Requirement already satisfied: greenlet!=0.4.17 in /opt/conda/lib/python3.10/site-packages (from sqlalchemy>=1.3.0->optuna<4.0.0,>=3.1.0->pytorch-forecasting) (3.0.3)\r\n",
      "Requirement already satisfied: anyio<5,>=3.4.0 in /opt/conda/lib/python3.10/site-packages (from starlette<0.33.0,>=0.29.0->fastapi>=0.80->pytorch-forecasting) (4.2.0)\r\n",
      "Requirement already satisfied: MarkupSafe>=2.0 in /opt/conda/lib/python3.10/site-packages (from jinja2->torch<3.0.0,>=2.0.0->pytorch-forecasting) (2.1.3)\r\n",
      "Requirement already satisfied: mpmath<1.4,>=1.1.0 in /opt/conda/lib/python3.10/site-packages (from sympy->torch<3.0.0,>=2.0.0->pytorch-forecasting) (1.3.0)\r\n",
      "Requirement already satisfied: attrs>=17.3.0 in /opt/conda/lib/python3.10/site-packages (from aiohttp!=4.0.0a0,!=4.0.0a1->fsspec[http]<2026.0,>=2022.5.0->lightning<3.0.0,>=2.0.0->pytorch-forecasting) (23.2.0)\r\n",
      "Requirement already satisfied: multidict<7.0,>=4.5 in /opt/conda/lib/python3.10/site-packages (from aiohttp!=4.0.0a0,!=4.0.0a1->fsspec[http]<2026.0,>=2022.5.0->lightning<3.0.0,>=2.0.0->pytorch-forecasting) (6.0.4)\r\n",
      "Requirement already satisfied: yarl<2.0,>=1.0 in /opt/conda/lib/python3.10/site-packages (from aiohttp!=4.0.0a0,!=4.0.0a1->fsspec[http]<2026.0,>=2022.5.0->lightning<3.0.0,>=2.0.0->pytorch-forecasting) (1.9.3)\r\n",
      "Requirement already satisfied: frozenlist>=1.1.1 in /opt/conda/lib/python3.10/site-packages (from aiohttp!=4.0.0a0,!=4.0.0a1->fsspec[http]<2026.0,>=2022.5.0->lightning<3.0.0,>=2.0.0->pytorch-forecasting) (1.4.1)\r\n",
      "Requirement already satisfied: aiosignal>=1.1.2 in /opt/conda/lib/python3.10/site-packages (from aiohttp!=4.0.0a0,!=4.0.0a1->fsspec[http]<2026.0,>=2022.5.0->lightning<3.0.0,>=2.0.0->pytorch-forecasting) (1.3.1)\r\n",
      "Requirement already satisfied: async-timeout<5.0,>=4.0 in /opt/conda/lib/python3.10/site-packages (from aiohttp!=4.0.0a0,!=4.0.0a1->fsspec[http]<2026.0,>=2022.5.0->lightning<3.0.0,>=2.0.0->pytorch-forecasting) (4.0.3)\r\n",
      "Requirement already satisfied: idna>=2.8 in /opt/conda/lib/python3.10/site-packages (from anyio<5,>=3.4.0->starlette<0.33.0,>=0.29.0->fastapi>=0.80->pytorch-forecasting) (3.6)\r\n",
      "Requirement already satisfied: sniffio>=1.1 in /opt/conda/lib/python3.10/site-packages (from anyio<5,>=3.4.0->starlette<0.33.0,>=0.29.0->fastapi>=0.80->pytorch-forecasting) (1.3.0)\r\n",
      "Requirement already satisfied: exceptiongroup>=1.0.2 in /opt/conda/lib/python3.10/site-packages (from anyio<5,>=3.4.0->starlette<0.33.0,>=0.29.0->fastapi>=0.80->pytorch-forecasting) (1.2.0)\r\n",
      "Downloading pytorch_forecasting-1.0.0-py3-none-any.whl (140 kB)\r\n",
      "\u001b[2K   \u001b[90m━━━━━━━━━━━━━━━━━━━━━━━━━━━━━━━━━━━━━━━━\u001b[0m \u001b[32m140.4/140.4 kB\u001b[0m \u001b[31m5.0 MB/s\u001b[0m eta \u001b[36m0:00:00\u001b[0m\r\n",
      "\u001b[?25hDownloading lightning-2.4.0-py3-none-any.whl (810 kB)\r\n",
      "\u001b[2K   \u001b[90m━━━━━━━━━━━━━━━━━━━━━━━━━━━━━━━━━━━━━━━━\u001b[0m \u001b[32m811.0/811.0 kB\u001b[0m \u001b[31m18.0 MB/s\u001b[0m eta \u001b[36m0:00:00\u001b[0m\r\n",
      "\u001b[?25hDownloading pytorch_optimizer-2.12.0-py3-none-any.whl (155 kB)\r\n",
      "\u001b[2K   \u001b[90m━━━━━━━━━━━━━━━━━━━━━━━━━━━━━━━━━━━━━━━━\u001b[0m \u001b[32m155.8/155.8 kB\u001b[0m \u001b[31m9.9 MB/s\u001b[0m eta \u001b[36m0:00:00\u001b[0m\r\n",
      "\u001b[?25hInstalling collected packages: pytorch-optimizer, lightning, pytorch-forecasting\r\n",
      "Successfully installed lightning-2.4.0 pytorch-forecasting-1.0.0 pytorch-optimizer-2.12.0\r\n"
     ]
    }
   ],
   "source": [
    "!pip install pytorch-forecasting"
   ]
  },
  {
   "cell_type": "code",
   "execution_count": 19,
   "id": "1f462f4e",
   "metadata": {
    "_cell_guid": "bfac7a73-7cf5-4390-8a27-3ec77542d1b0",
    "_uuid": "9b80afd6-e0f5-4beb-a1b0-6d5ed01f8219",
    "collapsed": false,
    "execution": {
     "iopub.execute_input": "2024-08-08T02:43:32.068383Z",
     "iopub.status.busy": "2024-08-08T02:43:32.067615Z",
     "iopub.status.idle": "2024-08-08T02:43:32.255142Z",
     "shell.execute_reply": "2024-08-08T02:43:32.254162Z"
    },
    "jupyter": {
     "outputs_hidden": false
    },
    "papermill": {
     "duration": 0.211716,
     "end_time": "2024-08-08T02:43:32.257217",
     "exception": false,
     "start_time": "2024-08-08T02:43:32.045501",
     "status": "completed"
    },
    "tags": []
   },
   "outputs": [
    {
     "name": "stdout",
     "output_type": "stream",
     "text": [
      "count     830.0\n",
      "mean     1198.0\n",
      "std         0.0\n",
      "min      1198.0\n",
      "25%      1198.0\n",
      "50%      1198.0\n",
      "75%      1198.0\n",
      "max      1198.0\n",
      "Name: time_idx, dtype: float64\n"
     ]
    }
   ],
   "source": [
    "# Calculate the number of observations per locality\n",
    "series_lengths = train_filled.groupby('locality')['time_idx'].max() - train_filled.groupby('locality')['time_idx'].min() + 1\n",
    "print(series_lengths.describe())"
   ]
  },
  {
   "cell_type": "code",
   "execution_count": 20,
   "id": "62da6604",
   "metadata": {
    "_cell_guid": "e6bc0c27-a36d-4ed7-a878-8ad3ebeed261",
    "_uuid": "f189e629-e83d-4098-bdc4-01fb200e788b",
    "collapsed": false,
    "execution": {
     "iopub.execute_input": "2024-08-08T02:43:32.299823Z",
     "iopub.status.busy": "2024-08-08T02:43:32.299524Z",
     "iopub.status.idle": "2024-08-08T02:43:32.827537Z",
     "shell.execute_reply": "2024-08-08T02:43:32.826590Z"
    },
    "jupyter": {
     "outputs_hidden": false
    },
    "papermill": {
     "duration": 0.552146,
     "end_time": "2024-08-08T02:43:32.830221",
     "exception": false,
     "start_time": "2024-08-08T02:43:32.278075",
     "status": "completed"
    },
    "tags": []
   },
   "outputs": [
    {
     "name": "stdout",
     "output_type": "stream",
     "text": [
      "count    830.0\n",
      "mean       1.0\n",
      "std        0.0\n",
      "min        1.0\n",
      "25%        1.0\n",
      "50%        1.0\n",
      "75%        1.0\n",
      "max        1.0\n",
      "dtype: float64\n"
     ]
    },
    {
     "name": "stderr",
     "output_type": "stream",
     "text": [
      "/tmp/ipykernel_25/2574669589.py:5: DeprecationWarning: DataFrameGroupBy.apply operated on the grouping columns. This behavior is deprecated, and in a future version of pandas the grouping columns will be excluded from the operation. Either pass `include_groups=False` to exclude the groupings or explicitly select the grouping columns after groupby to silence this warning.\n",
      "  gaps = train_filled.groupby('locality').apply(check_time_gaps)\n"
     ]
    }
   ],
   "source": [
    "# Check for gaps in time series\n",
    "def check_time_gaps(group):\n",
    "    return group['time_idx'].diff().max()\n",
    "\n",
    "gaps = train_filled.groupby('locality').apply(check_time_gaps)\n",
    "print(gaps.describe())"
   ]
  },
  {
   "cell_type": "code",
   "execution_count": 21,
   "id": "caf64551",
   "metadata": {
    "execution": {
     "iopub.execute_input": "2024-08-08T02:43:32.873362Z",
     "iopub.status.busy": "2024-08-08T02:43:32.872696Z",
     "iopub.status.idle": "2024-08-08T02:43:42.433334Z",
     "shell.execute_reply": "2024-08-08T02:43:42.432242Z"
    },
    "papermill": {
     "duration": 9.58468,
     "end_time": "2024-08-08T02:43:42.435681",
     "exception": false,
     "start_time": "2024-08-08T02:43:32.851001",
     "status": "completed"
    },
    "tags": []
   },
   "outputs": [
    {
     "name": "stdout",
     "output_type": "stream",
     "text": [
      "Percentage of zero CFB values: 86.99%\n"
     ]
    }
   ],
   "source": [
    "from sklearn.utils.class_weight import compute_class_weight\n",
    "from pytorch_forecasting.metrics import MAE, RMSE, SMAPE, MAPE, QuantileLoss\n",
    "import torch\n",
    "\n",
    "# 1. Analyze the distribution of CFB values\n",
    "zero_cfb_ratio = (train_filled['cfb'] == 0).mean()\n",
    "print(f\"Percentage of zero CFB values: {zero_cfb_ratio * 100:.2f}%\")\n",
    "\n",
    "# 2. Create a binary target for fire occurrence\n",
    "train_filled['fire_occurrence'] = (train_filled['cfb'] > 0).astype(int)\n",
    "\n",
    "# 3. Compute class weights for balanced learning\n",
    "class_weights = compute_class_weight('balanced', classes=[0, 1], y=train_filled['fire_occurrence'])\n",
    "class_weight_dict = {0: class_weights[0], 1: class_weights[1]}\n",
    "\n",
    "# 4. Custom loss function to handle imbalance\n",
    "class WeightedQuantileLoss(QuantileLoss):\n",
    "    def __init__(self, zero_weight=1.0, non_zero_weight=10.0, **kwargs):\n",
    "        super().__init__(**kwargs)\n",
    "        self.zero_weight = zero_weight\n",
    "        self.non_zero_weight = non_zero_weight\n",
    "\n",
    "    def loss(self, y_pred, y_actual):\n",
    "        base_loss = super().loss(y_pred, y_actual)\n",
    "                # Check shapes for debugging\n",
    "        print(f\"Base loss shape: {base_loss.shape}\")\n",
    "        print(f\"y_actual shape: {y_actual.shape}\")\n",
    "        weights = torch.where(y_actual == 0, self.zero_weight, self.non_zero_weight)\n",
    "                # Check weights shape for debugging\n",
    "        print(f\"Weights shape: {weights.shape}\")\n",
    "        # Expand weights to match the shape of base_loss\n",
    "        weights = weights.unsqueeze(-1).expand_as(base_loss)\n",
    "        \n",
    "        return (base_loss * weights).mean()"
   ]
  },
  {
   "cell_type": "code",
   "execution_count": 22,
   "id": "62110529",
   "metadata": {
    "execution": {
     "iopub.execute_input": "2024-08-08T02:43:42.479059Z",
     "iopub.status.busy": "2024-08-08T02:43:42.478563Z",
     "iopub.status.idle": "2024-08-08T02:43:42.574007Z",
     "shell.execute_reply": "2024-08-08T02:43:42.573088Z"
    },
    "papermill": {
     "duration": 0.120004,
     "end_time": "2024-08-08T02:43:42.576795",
     "exception": false,
     "start_time": "2024-08-08T02:43:42.456791",
     "status": "completed"
    },
    "tags": []
   },
   "outputs": [
    {
     "data": {
      "text/html": [
       "<div>\n",
       "<style scoped>\n",
       "    .dataframe tbody tr th:only-of-type {\n",
       "        vertical-align: middle;\n",
       "    }\n",
       "\n",
       "    .dataframe tbody tr th {\n",
       "        vertical-align: top;\n",
       "    }\n",
       "\n",
       "    .dataframe thead th {\n",
       "        text-align: right;\n",
       "    }\n",
       "</style>\n",
       "<table border=\"1\" class=\"dataframe\">\n",
       "  <thead>\n",
       "    <tr style=\"text-align: right;\">\n",
       "      <th></th>\n",
       "      <th>locality</th>\n",
       "      <th>time_idx</th>\n",
       "      <th>index</th>\n",
       "      <th>cfb</th>\n",
       "      <th>lat</th>\n",
       "      <th>lon</th>\n",
       "      <th>temp</th>\n",
       "      <th>wd</th>\n",
       "      <th>elev</th>\n",
       "      <th>rh</th>\n",
       "      <th>...</th>\n",
       "      <th>bfc_lag5</th>\n",
       "      <th>bfc_lag6</th>\n",
       "      <th>bfc_lag7</th>\n",
       "      <th>hfi_lag1</th>\n",
       "      <th>hfi_lag2</th>\n",
       "      <th>hfi_lag3</th>\n",
       "      <th>hfi_lag5</th>\n",
       "      <th>hfi_lag6</th>\n",
       "      <th>hfi_lag7</th>\n",
       "      <th>fire_occurrence</th>\n",
       "    </tr>\n",
       "  </thead>\n",
       "  <tbody>\n",
       "    <tr>\n",
       "      <th>193</th>\n",
       "      <td>100 Mile House</td>\n",
       "      <td>193</td>\n",
       "      <td>201.0</td>\n",
       "      <td>21.0</td>\n",
       "      <td>51.533333</td>\n",
       "      <td>-121.424334</td>\n",
       "      <td>26.8970</td>\n",
       "      <td>177.0</td>\n",
       "      <td>1204.0</td>\n",
       "      <td>23.0</td>\n",
       "      <td>...</td>\n",
       "      <td>6.253188</td>\n",
       "      <td>6.149034</td>\n",
       "      <td>6.149034</td>\n",
       "      <td>5924.666667</td>\n",
       "      <td>3986.666667</td>\n",
       "      <td>1903.000000</td>\n",
       "      <td>7856.333333</td>\n",
       "      <td>10833.0</td>\n",
       "      <td>10833.000000</td>\n",
       "      <td>1</td>\n",
       "    </tr>\n",
       "    <tr>\n",
       "      <th>194</th>\n",
       "      <td>100 Mile House</td>\n",
       "      <td>194</td>\n",
       "      <td>203.5</td>\n",
       "      <td>17.5</td>\n",
       "      <td>51.529999</td>\n",
       "      <td>-121.417000</td>\n",
       "      <td>25.9220</td>\n",
       "      <td>353.0</td>\n",
       "      <td>1200.0</td>\n",
       "      <td>29.0</td>\n",
       "      <td>...</td>\n",
       "      <td>6.461496</td>\n",
       "      <td>6.461496</td>\n",
       "      <td>6.305265</td>\n",
       "      <td>6099.000000</td>\n",
       "      <td>5447.500000</td>\n",
       "      <td>7935.500000</td>\n",
       "      <td>1903.000000</td>\n",
       "      <td>1903.0</td>\n",
       "      <td>6368.000000</td>\n",
       "      <td>1</td>\n",
       "    </tr>\n",
       "    <tr>\n",
       "      <th>195</th>\n",
       "      <td>100 Mile House</td>\n",
       "      <td>195</td>\n",
       "      <td>205.5</td>\n",
       "      <td>37.0</td>\n",
       "      <td>51.535824</td>\n",
       "      <td>-121.435665</td>\n",
       "      <td>28.5645</td>\n",
       "      <td>158.0</td>\n",
       "      <td>1209.5</td>\n",
       "      <td>27.0</td>\n",
       "      <td>...</td>\n",
       "      <td>6.887120</td>\n",
       "      <td>6.627117</td>\n",
       "      <td>6.461496</td>\n",
       "      <td>3624.500000</td>\n",
       "      <td>6333.500000</td>\n",
       "      <td>6099.000000</td>\n",
       "      <td>7935.500000</td>\n",
       "      <td>5028.5</td>\n",
       "      <td>1903.000000</td>\n",
       "      <td>1</td>\n",
       "    </tr>\n",
       "    <tr>\n",
       "      <th>196</th>\n",
       "      <td>100 Mile House</td>\n",
       "      <td>196</td>\n",
       "      <td>209.5</td>\n",
       "      <td>25.0</td>\n",
       "      <td>51.539834</td>\n",
       "      <td>-121.427333</td>\n",
       "      <td>29.5080</td>\n",
       "      <td>186.0</td>\n",
       "      <td>1205.5</td>\n",
       "      <td>22.0</td>\n",
       "      <td>...</td>\n",
       "      <td>5.960493</td>\n",
       "      <td>7.065743</td>\n",
       "      <td>6.991242</td>\n",
       "      <td>7429.333333</td>\n",
       "      <td>6030.166667</td>\n",
       "      <td>6595.166667</td>\n",
       "      <td>4834.666667</td>\n",
       "      <td>6078.0</td>\n",
       "      <td>5886.333333</td>\n",
       "      <td>1</td>\n",
       "    </tr>\n",
       "    <tr>\n",
       "      <th>197</th>\n",
       "      <td>100 Mile House</td>\n",
       "      <td>197</td>\n",
       "      <td>209.5</td>\n",
       "      <td>25.0</td>\n",
       "      <td>51.539834</td>\n",
       "      <td>-121.427333</td>\n",
       "      <td>29.5080</td>\n",
       "      <td>186.0</td>\n",
       "      <td>1205.5</td>\n",
       "      <td>22.0</td>\n",
       "      <td>...</td>\n",
       "      <td>5.960493</td>\n",
       "      <td>7.065743</td>\n",
       "      <td>6.991242</td>\n",
       "      <td>7429.333333</td>\n",
       "      <td>6030.166667</td>\n",
       "      <td>6595.166667</td>\n",
       "      <td>4834.666667</td>\n",
       "      <td>6078.0</td>\n",
       "      <td>5886.333333</td>\n",
       "      <td>1</td>\n",
       "    </tr>\n",
       "    <tr>\n",
       "      <th>...</th>\n",
       "      <td>...</td>\n",
       "      <td>...</td>\n",
       "      <td>...</td>\n",
       "      <td>...</td>\n",
       "      <td>...</td>\n",
       "      <td>...</td>\n",
       "      <td>...</td>\n",
       "      <td>...</td>\n",
       "      <td>...</td>\n",
       "      <td>...</td>\n",
       "      <td>...</td>\n",
       "      <td>...</td>\n",
       "      <td>...</td>\n",
       "      <td>...</td>\n",
       "      <td>...</td>\n",
       "      <td>...</td>\n",
       "      <td>...</td>\n",
       "      <td>...</td>\n",
       "      <td>...</td>\n",
       "      <td>...</td>\n",
       "      <td>...</td>\n",
       "    </tr>\n",
       "    <tr>\n",
       "      <th>991939</th>\n",
       "      <td>Zama City</td>\n",
       "      <td>1193</td>\n",
       "      <td>658725.0</td>\n",
       "      <td>82.4</td>\n",
       "      <td>59.884842</td>\n",
       "      <td>-118.182494</td>\n",
       "      <td>12.3760</td>\n",
       "      <td>315.0</td>\n",
       "      <td>628.8</td>\n",
       "      <td>42.0</td>\n",
       "      <td>...</td>\n",
       "      <td>0.089905</td>\n",
       "      <td>0.089905</td>\n",
       "      <td>0.089905</td>\n",
       "      <td>13068.800000</td>\n",
       "      <td>14432.200000</td>\n",
       "      <td>15889.000000</td>\n",
       "      <td>18501.800000</td>\n",
       "      <td>16335.8</td>\n",
       "      <td>14250.400000</td>\n",
       "      <td>1</td>\n",
       "    </tr>\n",
       "    <tr>\n",
       "      <th>991940</th>\n",
       "      <td>Zama City</td>\n",
       "      <td>1194</td>\n",
       "      <td>658725.0</td>\n",
       "      <td>82.4</td>\n",
       "      <td>59.884842</td>\n",
       "      <td>-118.182494</td>\n",
       "      <td>12.3760</td>\n",
       "      <td>315.0</td>\n",
       "      <td>628.8</td>\n",
       "      <td>42.0</td>\n",
       "      <td>...</td>\n",
       "      <td>0.089905</td>\n",
       "      <td>0.089905</td>\n",
       "      <td>0.089905</td>\n",
       "      <td>13068.800000</td>\n",
       "      <td>14432.200000</td>\n",
       "      <td>15889.000000</td>\n",
       "      <td>18501.800000</td>\n",
       "      <td>16335.8</td>\n",
       "      <td>14250.400000</td>\n",
       "      <td>1</td>\n",
       "    </tr>\n",
       "    <tr>\n",
       "      <th>991941</th>\n",
       "      <td>Zama City</td>\n",
       "      <td>1195</td>\n",
       "      <td>658725.0</td>\n",
       "      <td>82.4</td>\n",
       "      <td>59.884842</td>\n",
       "      <td>-118.182494</td>\n",
       "      <td>12.3760</td>\n",
       "      <td>315.0</td>\n",
       "      <td>628.8</td>\n",
       "      <td>42.0</td>\n",
       "      <td>...</td>\n",
       "      <td>0.089905</td>\n",
       "      <td>0.089905</td>\n",
       "      <td>0.089905</td>\n",
       "      <td>13068.800000</td>\n",
       "      <td>14432.200000</td>\n",
       "      <td>15889.000000</td>\n",
       "      <td>18501.800000</td>\n",
       "      <td>16335.8</td>\n",
       "      <td>14250.400000</td>\n",
       "      <td>1</td>\n",
       "    </tr>\n",
       "    <tr>\n",
       "      <th>991942</th>\n",
       "      <td>Zama City</td>\n",
       "      <td>1196</td>\n",
       "      <td>658725.0</td>\n",
       "      <td>82.4</td>\n",
       "      <td>59.884842</td>\n",
       "      <td>-118.182494</td>\n",
       "      <td>12.3760</td>\n",
       "      <td>315.0</td>\n",
       "      <td>628.8</td>\n",
       "      <td>42.0</td>\n",
       "      <td>...</td>\n",
       "      <td>0.089905</td>\n",
       "      <td>0.089905</td>\n",
       "      <td>0.089905</td>\n",
       "      <td>13068.800000</td>\n",
       "      <td>14432.200000</td>\n",
       "      <td>15889.000000</td>\n",
       "      <td>18501.800000</td>\n",
       "      <td>16335.8</td>\n",
       "      <td>14250.400000</td>\n",
       "      <td>1</td>\n",
       "    </tr>\n",
       "    <tr>\n",
       "      <th>991943</th>\n",
       "      <td>Zama City</td>\n",
       "      <td>1197</td>\n",
       "      <td>658725.0</td>\n",
       "      <td>82.4</td>\n",
       "      <td>59.884842</td>\n",
       "      <td>-118.182494</td>\n",
       "      <td>12.3760</td>\n",
       "      <td>315.0</td>\n",
       "      <td>628.8</td>\n",
       "      <td>42.0</td>\n",
       "      <td>...</td>\n",
       "      <td>0.089905</td>\n",
       "      <td>0.089905</td>\n",
       "      <td>0.089905</td>\n",
       "      <td>13068.800000</td>\n",
       "      <td>14432.200000</td>\n",
       "      <td>15889.000000</td>\n",
       "      <td>18501.800000</td>\n",
       "      <td>16335.8</td>\n",
       "      <td>14250.400000</td>\n",
       "      <td>1</td>\n",
       "    </tr>\n",
       "  </tbody>\n",
       "</table>\n",
       "<p>129347 rows × 79 columns</p>\n",
       "</div>"
      ],
      "text/plain": [
       "              locality  time_idx     index   cfb        lat         lon  \\\n",
       "193     100 Mile House       193     201.0  21.0  51.533333 -121.424334   \n",
       "194     100 Mile House       194     203.5  17.5  51.529999 -121.417000   \n",
       "195     100 Mile House       195     205.5  37.0  51.535824 -121.435665   \n",
       "196     100 Mile House       196     209.5  25.0  51.539834 -121.427333   \n",
       "197     100 Mile House       197     209.5  25.0  51.539834 -121.427333   \n",
       "...                ...       ...       ...   ...        ...         ...   \n",
       "991939       Zama City      1193  658725.0  82.4  59.884842 -118.182494   \n",
       "991940       Zama City      1194  658725.0  82.4  59.884842 -118.182494   \n",
       "991941       Zama City      1195  658725.0  82.4  59.884842 -118.182494   \n",
       "991942       Zama City      1196  658725.0  82.4  59.884842 -118.182494   \n",
       "991943       Zama City      1197  658725.0  82.4  59.884842 -118.182494   \n",
       "\n",
       "           temp     wd    elev    rh  ...  bfc_lag5  bfc_lag6  bfc_lag7  \\\n",
       "193     26.8970  177.0  1204.0  23.0  ...  6.253188  6.149034  6.149034   \n",
       "194     25.9220  353.0  1200.0  29.0  ...  6.461496  6.461496  6.305265   \n",
       "195     28.5645  158.0  1209.5  27.0  ...  6.887120  6.627117  6.461496   \n",
       "196     29.5080  186.0  1205.5  22.0  ...  5.960493  7.065743  6.991242   \n",
       "197     29.5080  186.0  1205.5  22.0  ...  5.960493  7.065743  6.991242   \n",
       "...         ...    ...     ...   ...  ...       ...       ...       ...   \n",
       "991939  12.3760  315.0   628.8  42.0  ...  0.089905  0.089905  0.089905   \n",
       "991940  12.3760  315.0   628.8  42.0  ...  0.089905  0.089905  0.089905   \n",
       "991941  12.3760  315.0   628.8  42.0  ...  0.089905  0.089905  0.089905   \n",
       "991942  12.3760  315.0   628.8  42.0  ...  0.089905  0.089905  0.089905   \n",
       "991943  12.3760  315.0   628.8  42.0  ...  0.089905  0.089905  0.089905   \n",
       "\n",
       "            hfi_lag1      hfi_lag2      hfi_lag3      hfi_lag5  hfi_lag6  \\\n",
       "193      5924.666667   3986.666667   1903.000000   7856.333333   10833.0   \n",
       "194      6099.000000   5447.500000   7935.500000   1903.000000    1903.0   \n",
       "195      3624.500000   6333.500000   6099.000000   7935.500000    5028.5   \n",
       "196      7429.333333   6030.166667   6595.166667   4834.666667    6078.0   \n",
       "197      7429.333333   6030.166667   6595.166667   4834.666667    6078.0   \n",
       "...              ...           ...           ...           ...       ...   \n",
       "991939  13068.800000  14432.200000  15889.000000  18501.800000   16335.8   \n",
       "991940  13068.800000  14432.200000  15889.000000  18501.800000   16335.8   \n",
       "991941  13068.800000  14432.200000  15889.000000  18501.800000   16335.8   \n",
       "991942  13068.800000  14432.200000  15889.000000  18501.800000   16335.8   \n",
       "991943  13068.800000  14432.200000  15889.000000  18501.800000   16335.8   \n",
       "\n",
       "            hfi_lag7  fire_occurrence  \n",
       "193     10833.000000                1  \n",
       "194      6368.000000                1  \n",
       "195      1903.000000                1  \n",
       "196      5886.333333                1  \n",
       "197      5886.333333                1  \n",
       "...              ...              ...  \n",
       "991939  14250.400000                1  \n",
       "991940  14250.400000                1  \n",
       "991941  14250.400000                1  \n",
       "991942  14250.400000                1  \n",
       "991943  14250.400000                1  \n",
       "\n",
       "[129347 rows x 79 columns]"
      ]
     },
     "execution_count": 22,
     "metadata": {},
     "output_type": "execute_result"
    }
   ],
   "source": [
    "train_filled[train_filled['fire_occurrence'] >  0]"
   ]
  },
  {
   "cell_type": "code",
   "execution_count": 23,
   "id": "76b344a0",
   "metadata": {
    "_cell_guid": "7c175654-1979-472d-8c06-d86d5face38d",
    "_uuid": "a529c3e4-c811-4d25-bd6d-13d1b74c8e56",
    "collapsed": false,
    "execution": {
     "iopub.execute_input": "2024-08-08T02:43:42.622859Z",
     "iopub.status.busy": "2024-08-08T02:43:42.622565Z",
     "iopub.status.idle": "2024-08-08T02:43:42.630173Z",
     "shell.execute_reply": "2024-08-08T02:43:42.629303Z"
    },
    "jupyter": {
     "outputs_hidden": false
    },
    "papermill": {
     "duration": 0.031952,
     "end_time": "2024-08-08T02:43:42.632123",
     "exception": false,
     "start_time": "2024-08-08T02:43:42.600171",
     "status": "completed"
    },
    "tags": []
   },
   "outputs": [],
   "source": [
    "## Define the data schema\n",
    "static_reals=['elev']\n",
    "time_varying_known_reals=['month', 'day', 'year']\n",
    "time_varying_unknown_reals=['cfb', 'temp', 'wd',\n",
    "       'rh', 'pcuring', 'ros', 'hfi', 'tfc0',\n",
    "       'sfl', 'bui', 'cfl', 'sfc0', 'dmc', 'sfc',    \n",
    "       'bfc', 'tfc', 'isi', 'fire_occurrence',\n",
    "    'cfb_lag1', 'cfb_lag2', 'cfb_lag3', 'cfb_lag5', 'cfb_lag6', 'cfb_lag7',\n",
    "    'dmc_lag1', 'dmc_lag2', 'dmc_lag3', 'dmc_lag5', 'dmc_lag6', 'dmc_lag7',\n",
    "    'temp_lag1', 'temp_lag2', 'temp_lag3', 'temp_lag5', 'temp_lag6', 'temp_lag7',\n",
    "    'tfc_lag1', 'tfc_lag2', 'tfc_lag3', 'tfc_lag5', 'tfc_lag6', 'tfc_lag7',\n",
    "    'ros_lag1', 'ros_lag2', 'ros_lag3', 'ros_lag5', 'ros_lag6', 'ros_lag7',\n",
    "    'pcuring_lag1', 'pcuring_lag2', 'pcuring_lag3', 'pcuring_lag5', 'pcuring_lag6', 'pcuring_lag7',\n",
    "    'bfc_lag1', 'bfc_lag2', 'bfc_lag3', 'bfc_lag5', 'bfc_lag6', 'bfc_lag7',\n",
    "    'hfi_lag1', 'hfi_lag2', 'hfi_lag3', 'hfi_lag5', 'hfi_lag6', 'hfi_lag7']\n",
    "max_prediction_length = 7  # predict 7 days ahead\n",
    "max_encoder_length = 30  # use 30 days of history\n",
    "\n",
    "# keep the validation set held-out\n",
    "training_cutoff = train[\"time_idx\"].max() - max_prediction_length"
   ]
  },
  {
   "cell_type": "code",
   "execution_count": 24,
   "id": "181ce42e",
   "metadata": {
    "_cell_guid": "c3d734a6-470a-4a48-9023-8e73fbeb6ee1",
    "_uuid": "e630a42e-bb8c-4242-862c-bb753aed28e0",
    "collapsed": false,
    "execution": {
     "iopub.execute_input": "2024-08-08T02:43:42.675529Z",
     "iopub.status.busy": "2024-08-08T02:43:42.675218Z",
     "iopub.status.idle": "2024-08-08T02:43:52.065037Z",
     "shell.execute_reply": "2024-08-08T02:43:52.064228Z"
    },
    "jupyter": {
     "outputs_hidden": false
    },
    "papermill": {
     "duration": 9.41412,
     "end_time": "2024-08-08T02:43:52.067310",
     "exception": false,
     "start_time": "2024-08-08T02:43:42.653190",
     "status": "completed"
    },
    "tags": []
   },
   "outputs": [],
   "source": [
    "from sklearn.preprocessing import StandardScaler\n",
    "from pytorch_forecasting import TimeSeriesDataSet\n",
    "from pytorch_forecasting.models import TemporalFusionTransformer\n",
    "from pytorch_forecasting.data import GroupNormalizer\n",
    "from pytorch_forecasting.metrics import QuantileLoss\n",
    "\n",
    "target_normalizer = GroupNormalizer(\n",
    "    groups=['locality'], \n",
    "    transformation=\"softplus\"\n",
    ")\n",
    "\n",
    "train_dataset = TimeSeriesDataSet(\n",
    "    train_filled[lambda x: x.time_idx <= training_cutoff],\n",
    "    time_idx='time_idx',\n",
    "    target='cfb',\n",
    "    group_ids=['locality'],\n",
    "    static_reals=static_reals,\n",
    "    time_varying_known_reals=time_varying_known_reals,\n",
    "    time_varying_unknown_reals=time_varying_unknown_reals,\n",
    "    max_encoder_length=max_encoder_length,\n",
    "    min_encoder_length=max_encoder_length//2,  \n",
    "    max_prediction_length=max_prediction_length,\n",
    "    min_prediction_length=max_prediction_length,\n",
    "    target_normalizer=target_normalizer,\n",
    "    add_relative_time_idx=True,\n",
    "    add_target_scales=True,\n",
    "    lags = {\n",
    "        \"cfb\": [1, 2, 3, 5, 6, 7]\n",
    "    }\n",
    ")"
   ]
  },
  {
   "cell_type": "code",
   "execution_count": 25,
   "id": "911e9201",
   "metadata": {
    "_cell_guid": "8f208ee4-990e-4d2c-bb5f-1c99d4c4cbf3",
    "_uuid": "373b7d9f-78c1-46da-8dd8-d25da006e073",
    "collapsed": false,
    "execution": {
     "iopub.execute_input": "2024-08-08T02:43:52.111531Z",
     "iopub.status.busy": "2024-08-08T02:43:52.111173Z",
     "iopub.status.idle": "2024-08-08T02:43:58.265475Z",
     "shell.execute_reply": "2024-08-08T02:43:58.264676Z"
    },
    "jupyter": {
     "outputs_hidden": false
    },
    "papermill": {
     "duration": 6.17887,
     "end_time": "2024-08-08T02:43:58.267840",
     "exception": false,
     "start_time": "2024-08-08T02:43:52.088970",
     "status": "completed"
    },
    "tags": []
   },
   "outputs": [],
   "source": [
    "# create validation set (predict=True)\n",
    "validation_dataset = TimeSeriesDataSet.from_dataset(\n",
    "    train_dataset,\n",
    "    train_filled,\n",
    "    predict=True,\n",
    "    stop_randomization=True,\n",
    ")"
   ]
  },
  {
   "cell_type": "code",
   "execution_count": 26,
   "id": "56948aa2",
   "metadata": {
    "_cell_guid": "d59835cc-4958-48d7-82c8-0b2c2f7aae94",
    "_uuid": "7d53ebcf-6e85-4a4c-9245-c92a48eb4c7b",
    "collapsed": false,
    "execution": {
     "iopub.execute_input": "2024-08-08T02:43:58.312183Z",
     "iopub.status.busy": "2024-08-08T02:43:58.311883Z",
     "iopub.status.idle": "2024-08-08T02:43:58.516713Z",
     "shell.execute_reply": "2024-08-08T02:43:58.515811Z"
    },
    "jupyter": {
     "outputs_hidden": false
    },
    "papermill": {
     "duration": 0.229327,
     "end_time": "2024-08-08T02:43:58.518875",
     "exception": false,
     "start_time": "2024-08-08T02:43:58.289548",
     "status": "completed"
    },
    "tags": []
   },
   "outputs": [
    {
     "name": "stderr",
     "output_type": "stream",
     "text": [
      "/opt/conda/lib/python3.10/site-packages/lightning/pytorch/utilities/parsing.py:208: Attribute 'loss' is an instance of `nn.Module` and is already saved during checkpointing. It is recommended to ignore them using `self.save_hyperparameters(ignore=['loss'])`.\n",
      "/opt/conda/lib/python3.10/site-packages/lightning/pytorch/utilities/parsing.py:208: Attribute 'logging_metrics' is an instance of `nn.Module` and is already saved during checkpointing. It is recommended to ignore them using `self.save_hyperparameters(ignore=['logging_metrics'])`.\n"
     ]
    }
   ],
   "source": [
    "import lightning.pytorch as pl\n",
    "from lightning.pytorch.callbacks.early_stopping import EarlyStopping\n",
    "from lightning.pytorch.callbacks import LearningRateMonitor\n",
    "from lightning.pytorch.loggers import TensorBoardLogger\n",
    "from lightning.pytorch.callbacks import ModelCheckpoint\n",
    "\n",
    "# Define the model\n",
    "# Use the weighted loss in the model definition\n",
    "tft = TemporalFusionTransformer.from_dataset(\n",
    "    train_dataset,\n",
    "    learning_rate=1e-3,\n",
    "    hidden_size=64,\n",
    "    attention_head_size=4,\n",
    "    dropout=0.1,\n",
    "    hidden_continuous_size=32,\n",
    "   # output_size=7,  # number of quantiles\n",
    "    loss=WeightedQuantileLoss(zero_weight=1.0, non_zero_weight=10.0),  # Adjust weights as needed\n",
    "    log_interval=10,\n",
    "    reduce_on_plateau_patience=10\n",
    ")"
   ]
  },
  {
   "cell_type": "code",
   "execution_count": 27,
   "id": "13ef2aae",
   "metadata": {
    "execution": {
     "iopub.execute_input": "2024-08-08T02:43:58.562785Z",
     "iopub.status.busy": "2024-08-08T02:43:58.562495Z",
     "iopub.status.idle": "2024-08-08T02:43:58.568164Z",
     "shell.execute_reply": "2024-08-08T02:43:58.567366Z"
    },
    "papermill": {
     "duration": 0.029644,
     "end_time": "2024-08-08T02:43:58.570099",
     "exception": false,
     "start_time": "2024-08-08T02:43:58.540455",
     "status": "completed"
    },
    "tags": []
   },
   "outputs": [
    {
     "data": {
      "text/plain": [
       "[0.02, 0.1, 0.25, 0.5, 0.75, 0.9, 0.98]"
      ]
     },
     "execution_count": 27,
     "metadata": {},
     "output_type": "execute_result"
    }
   ],
   "source": [
    "quantiles = tft.loss.quantiles\n",
    "quantiles"
   ]
  },
  {
   "cell_type": "code",
   "execution_count": 28,
   "id": "dc9f69a1",
   "metadata": {
    "execution": {
     "iopub.execute_input": "2024-08-08T02:43:58.614079Z",
     "iopub.status.busy": "2024-08-08T02:43:58.613798Z",
     "iopub.status.idle": "2024-08-08T02:43:58.618652Z",
     "shell.execute_reply": "2024-08-08T02:43:58.617885Z"
    },
    "papermill": {
     "duration": 0.02912,
     "end_time": "2024-08-08T02:43:58.620675",
     "exception": false,
     "start_time": "2024-08-08T02:43:58.591555",
     "status": "completed"
    },
    "tags": []
   },
   "outputs": [],
   "source": [
    "# Function to print batch shapes\n",
    "def print_batch_shapes(dataloader, name):\n",
    "    for i, batch in enumerate(dataloader):\n",
    "        x, y = batch\n",
    "        print(f\"{name} Batch {i+1}:\")\n",
    "        print(f\"  Inputs shape: {x['encoder_cont'].shape}\")\n",
    "        print(f\"  Decoder shape: {x['decoder_cont'].shape}\")\n",
    "        break\n"
   ]
  },
  {
   "cell_type": "code",
   "execution_count": 29,
   "id": "7d0b326b",
   "metadata": {
    "_cell_guid": "988a5e10-dd6d-424f-99b7-a0d6ef524c5a",
    "_kg_hide-input": true,
    "_uuid": "d444fd85-30eb-4059-a9e9-434f3697fad8",
    "collapsed": false,
    "execution": {
     "iopub.execute_input": "2024-08-08T02:43:58.664385Z",
     "iopub.status.busy": "2024-08-08T02:43:58.664119Z",
     "iopub.status.idle": "2024-08-08T02:44:00.384895Z",
     "shell.execute_reply": "2024-08-08T02:44:00.383703Z"
    },
    "jupyter": {
     "outputs_hidden": false
    },
    "papermill": {
     "duration": 1.745059,
     "end_time": "2024-08-08T02:44:00.387036",
     "exception": false,
     "start_time": "2024-08-08T02:43:58.641977",
     "status": "completed"
    },
    "tags": []
   },
   "outputs": [
    {
     "name": "stdout",
     "output_type": "stream",
     "text": [
      "Train Batch 1:\n",
      "  Inputs shape: torch.Size([64, 30, 80])\n",
      "  Decoder shape: torch.Size([64, 7, 80])\n",
      "Validation Batch 1:\n",
      "  Inputs shape: torch.Size([640, 30, 80])\n",
      "  Decoder shape: torch.Size([640, 7, 80])\n"
     ]
    }
   ],
   "source": [
    "# Create dataloaders\n",
    "batch_size = 64\n",
    "train_dataloader = train_dataset.to_dataloader(train=True, batch_size=batch_size, num_workers=4)\n",
    "val_dataloader = validation_dataset.to_dataloader(train=False, batch_size=batch_size * 10, num_workers=4)\n",
    "\n",
    "# Print shapes for train and validation dataloaders\n",
    "print_batch_shapes(train_dataloader, \"Train\")\n",
    "print_batch_shapes(val_dataloader, \"Validation\")"
   ]
  },
  {
   "cell_type": "code",
   "execution_count": 30,
   "id": "a1b8b85e",
   "metadata": {
    "_cell_guid": "57c17038-0c84-410c-aa50-be60130fcabf",
    "_uuid": "3330dd4e-f472-4da3-9086-7928873fbdcc",
    "collapsed": false,
    "execution": {
     "iopub.execute_input": "2024-08-08T02:44:00.433061Z",
     "iopub.status.busy": "2024-08-08T02:44:00.432289Z",
     "iopub.status.idle": "2024-08-08T02:44:02.719253Z",
     "shell.execute_reply": "2024-08-08T02:44:02.718354Z"
    },
    "jupyter": {
     "outputs_hidden": false
    },
    "papermill": {
     "duration": 2.312502,
     "end_time": "2024-08-08T02:44:02.721746",
     "exception": false,
     "start_time": "2024-08-08T02:44:00.409244",
     "status": "completed"
    },
    "tags": []
   },
   "outputs": [
    {
     "name": "stderr",
     "output_type": "stream",
     "text": [
      "/opt/conda/lib/python3.10/site-packages/lightning/pytorch/utilities/parsing.py:208: Attribute 'loss' is an instance of `nn.Module` and is already saved during checkpointing. It is recommended to ignore them using `self.save_hyperparameters(ignore=['loss'])`.\n",
      "/opt/conda/lib/python3.10/site-packages/lightning/pytorch/utilities/parsing.py:208: Attribute 'logging_metrics' is an instance of `nn.Module` and is already saved during checkpointing. It is recommended to ignore them using `self.save_hyperparameters(ignore=['logging_metrics'])`.\n"
     ]
    }
   ],
   "source": [
    "# load the best model w.r.t. the validation loss\n",
    "best_model_path = \"/kaggle/input/trained-checkpoint-for-tft/checkpoints/best-checkpoint.ckpt\"\n",
    "best_tft = TemporalFusionTransformer.load_from_checkpoint(best_model_path)"
   ]
  },
  {
   "cell_type": "code",
   "execution_count": 31,
   "id": "0a9c450b",
   "metadata": {
    "execution": {
     "iopub.execute_input": "2024-08-08T02:44:02.769663Z",
     "iopub.status.busy": "2024-08-08T02:44:02.769320Z",
     "iopub.status.idle": "2024-08-08T02:44:17.590756Z",
     "shell.execute_reply": "2024-08-08T02:44:17.589669Z"
    },
    "papermill": {
     "duration": 14.848967,
     "end_time": "2024-08-08T02:44:17.593252",
     "exception": false,
     "start_time": "2024-08-08T02:44:02.744285",
     "status": "completed"
    },
    "tags": []
   },
   "outputs": [
    {
     "name": "stderr",
     "output_type": "stream",
     "text": [
      "INFO: GPU available: True (cuda), used: True\n",
      "INFO: TPU available: False, using: 0 TPU cores\n",
      "INFO: HPU available: False, using: 0 HPUs\n",
      "2024-08-08 02:44:05.221645: E external/local_xla/xla/stream_executor/cuda/cuda_dnn.cc:9261] Unable to register cuDNN factory: Attempting to register factory for plugin cuDNN when one has already been registered\n",
      "2024-08-08 02:44:05.221744: E external/local_xla/xla/stream_executor/cuda/cuda_fft.cc:607] Unable to register cuFFT factory: Attempting to register factory for plugin cuFFT when one has already been registered\n",
      "2024-08-08 02:44:05.372745: E external/local_xla/xla/stream_executor/cuda/cuda_blas.cc:1515] Unable to register cuBLAS factory: Attempting to register factory for plugin cuBLAS when one has already been registered\n",
      "INFO: LOCAL_RANK: 0 - CUDA_VISIBLE_DEVICES: [0]\n",
      "/opt/conda/lib/python3.10/multiprocessing/popen_fork.py:66: RuntimeWarning: os.fork() was called. os.fork() is incompatible with multithreaded code, and JAX is multithreaded, so this will likely lead to a deadlock.\n",
      "  self.pid = os.fork()\n",
      "/opt/conda/lib/python3.10/multiprocessing/popen_fork.py:66: RuntimeWarning: os.fork() was called. os.fork() is incompatible with multithreaded code, and JAX is multithreaded, so this will likely lead to a deadlock.\n",
      "  self.pid = os.fork()\n"
     ]
    }
   ],
   "source": [
    "if next(best_tft.parameters()).is_cuda:\n",
    "    best_tft = best_tft.cpu()\n",
    "predictions = best_tft.predict(val_dataloader)"
   ]
  },
  {
   "cell_type": "code",
   "execution_count": 32,
   "id": "ccbb59d2",
   "metadata": {
    "execution": {
     "iopub.execute_input": "2024-08-08T02:44:17.640153Z",
     "iopub.status.busy": "2024-08-08T02:44:17.639555Z",
     "iopub.status.idle": "2024-08-08T02:44:18.755991Z",
     "shell.execute_reply": "2024-08-08T02:44:18.754786Z"
    },
    "papermill": {
     "duration": 1.141848,
     "end_time": "2024-08-08T02:44:18.758036",
     "exception": false,
     "start_time": "2024-08-08T02:44:17.616188",
     "status": "completed"
    },
    "tags": []
   },
   "outputs": [
    {
     "name": "stdout",
     "output_type": "stream",
     "text": [
      "MAE: 0.07\n",
      "RMSE: 0.35\n",
      "MAPE: 116.40\n",
      "SMAPE: 0.01\n"
     ]
    }
   ],
   "source": [
    "device = torch.device(\"cuda\" if torch.cuda.is_available() else \"cpu\")\n",
    "predictions = predictions.to(device)\n",
    "actuals = torch.cat([y[0] for _, y in iter(val_dataloader)]).to(device)\n",
    "\n",
    "# Initialize metrics on the same device\n",
    "rmse = RMSE().to(device)\n",
    "mae = MAE().to(device)\n",
    "mape = MAPE().to(device)\n",
    "smape = SMAPE().to(device)\n",
    "\n",
    "# Calculate metrics\n",
    "mae = mae(predictions, actuals)\n",
    "rmse = rmse(predictions, actuals)\n",
    "mape = mape(predictions, actuals)\n",
    "smape = smape(predictions, actuals)\n",
    "\n",
    "# Print results\n",
    "print(f\"MAE: {mae:.2f}\")\n",
    "print(f\"RMSE: {rmse:.2f}\")\n",
    "print(f\"MAPE: {mape:.2f}\")\n",
    "print(f\"SMAPE: {smape:.2f}\")"
   ]
  },
  {
   "cell_type": "code",
   "execution_count": 33,
   "id": "5184feec",
   "metadata": {
    "execution": {
     "iopub.execute_input": "2024-08-08T02:44:18.804632Z",
     "iopub.status.busy": "2024-08-08T02:44:18.804270Z",
     "iopub.status.idle": "2024-08-08T02:44:18.810510Z",
     "shell.execute_reply": "2024-08-08T02:44:18.809633Z"
    },
    "papermill": {
     "duration": 0.031529,
     "end_time": "2024-08-08T02:44:18.812395",
     "exception": false,
     "start_time": "2024-08-08T02:44:18.780866",
     "status": "completed"
    },
    "tags": []
   },
   "outputs": [
    {
     "data": {
      "text/plain": [
       "torch.Size([830, 7])"
      ]
     },
     "execution_count": 33,
     "metadata": {},
     "output_type": "execute_result"
    }
   ],
   "source": [
    "predictions.shape"
   ]
  },
  {
   "cell_type": "code",
   "execution_count": 34,
   "id": "9b4d800a",
   "metadata": {
    "_cell_guid": "b1d42575-3be6-40e8-99ca-080458ddcc2f",
    "_uuid": "d90075df-aa3f-4c71-bbf1-08ee198896e9",
    "collapsed": false,
    "execution": {
     "iopub.execute_input": "2024-08-08T02:44:18.857953Z",
     "iopub.status.busy": "2024-08-08T02:44:18.857668Z",
     "iopub.status.idle": "2024-08-08T02:44:21.371048Z",
     "shell.execute_reply": "2024-08-08T02:44:21.370008Z"
    },
    "jupyter": {
     "outputs_hidden": false
    },
    "papermill": {
     "duration": 2.53883,
     "end_time": "2024-08-08T02:44:21.373553",
     "exception": false,
     "start_time": "2024-08-08T02:44:18.834723",
     "status": "completed"
    },
    "tags": []
   },
   "outputs": [
    {
     "name": "stderr",
     "output_type": "stream",
     "text": [
      "INFO: GPU available: True (cuda), used: True\n",
      "INFO: TPU available: False, using: 0 TPU cores\n",
      "INFO: HPU available: False, using: 0 HPUs\n",
      "INFO: LOCAL_RANK: 0 - CUDA_VISIBLE_DEVICES: [0]\n"
     ]
    }
   ],
   "source": [
    "val_prediction_results = best_tft.predict(val_dataloader, mode=\"raw\", return_x=True)"
   ]
  },
  {
   "cell_type": "code",
   "execution_count": 35,
   "id": "faadf9e8",
   "metadata": {
    "execution": {
     "iopub.execute_input": "2024-08-08T02:44:21.421232Z",
     "iopub.status.busy": "2024-08-08T02:44:21.420940Z",
     "iopub.status.idle": "2024-08-08T02:44:21.427230Z",
     "shell.execute_reply": "2024-08-08T02:44:21.426381Z"
    },
    "papermill": {
     "duration": 0.032177,
     "end_time": "2024-08-08T02:44:21.429160",
     "exception": false,
     "start_time": "2024-08-08T02:44:21.396983",
     "status": "completed"
    },
    "tags": []
   },
   "outputs": [
    {
     "data": {
      "text/plain": [
       "torch.Size([830, 7, 7])"
      ]
     },
     "execution_count": 35,
     "metadata": {},
     "output_type": "execute_result"
    }
   ],
   "source": [
    "val_prediction_results.output['prediction'].shape"
   ]
  },
  {
   "cell_type": "code",
   "execution_count": 36,
   "id": "0625d67d",
   "metadata": {
    "_cell_guid": "31ad038d-1c53-470d-ab0b-5361d6fcb266",
    "_uuid": "f29e591e-6bd0-41a5-8e0e-48f970b7b08e",
    "collapsed": false,
    "execution": {
     "iopub.execute_input": "2024-08-08T02:44:21.475994Z",
     "iopub.status.busy": "2024-08-08T02:44:21.475340Z",
     "iopub.status.idle": "2024-08-08T02:44:22.169579Z",
     "shell.execute_reply": "2024-08-08T02:44:22.168634Z"
    },
    "jupyter": {
     "outputs_hidden": false
    },
    "papermill": {
     "duration": 0.71964,
     "end_time": "2024-08-08T02:44:22.171606",
     "exception": false,
     "start_time": "2024-08-08T02:44:21.451966",
     "status": "completed"
    },
    "tags": []
   },
   "outputs": [
    {
     "name": "stdout",
     "output_type": "stream",
     "text": [
      "Base loss shape: torch.Size([1, 7, 7])\n",
      "y_actual shape: torch.Size([1, 7])\n",
      "Weights shape: torch.Size([1, 7])\n"
     ]
    },
    {
     "data": {
      "image/png": "[encoded data removed]",
      "text/plain": [
       "<Figure size 2300x500 with 2 Axes>"
      ]
     },
     "metadata": {},
     "output_type": "display_data"
    }
   ],
   "source": [
    "# Plot actuals vs prediction and attention\n",
    "for idx in range(1):\n",
    "    fig, ax = plt.subplots(figsize=(23,5))\n",
    "    best_tft.plot_prediction(val_prediction_results.x, # network input\n",
    "                            val_prediction_results.output, # network output\n",
    "                            idx=idx,\n",
    "                            add_loss_to_title=True,\n",
    "                            ax=ax);"
   ]
  },
  {
   "cell_type": "code",
   "execution_count": 37,
   "id": "59a982aa",
   "metadata": {
    "_cell_guid": "8024a0d0-9510-4cf4-bf13-2834e518e902",
    "_uuid": "9188d7b0-4bfb-42f9-86b5-a10881733e79",
    "collapsed": false,
    "execution": {
     "iopub.execute_input": "2024-08-08T02:44:22.220475Z",
     "iopub.status.busy": "2024-08-08T02:44:22.220137Z",
     "iopub.status.idle": "2024-08-08T02:44:24.130463Z",
     "shell.execute_reply": "2024-08-08T02:44:24.129604Z"
    },
    "jupyter": {
     "outputs_hidden": false
    },
    "papermill": {
     "duration": 1.936676,
     "end_time": "2024-08-08T02:44:24.132485",
     "exception": false,
     "start_time": "2024-08-08T02:44:22.195809",
     "status": "completed"
    },
    "tags": []
   },
   "outputs": [
    {
     "data": {
      "text/plain": [
       "{'attention': <Figure size 640x480 with 1 Axes>,\n",
       " 'static_variables': <Figure size 700x300 with 1 Axes>,\n",
       " 'encoder_variables': <Figure size 700x2100 with 1 Axes>,\n",
       " 'decoder_variables': <Figure size 700x325 with 1 Axes>}"
      ]
     },
     "execution_count": 37,
     "metadata": {},
     "output_type": "execute_result"
    },
    {
     "data": {
      "image/png": "[encoded data removed]",
      "text/plain": [
       "<Figure size 640x480 with 1 Axes>"
      ]
     },
     "metadata": {},
     "output_type": "display_data"
    },
    {
     "data": {
      "image/png": "[encoded data removed]",
      "text/plain": [
       "<Figure size 700x300 with 1 Axes>"
      ]
     },
     "metadata": {},
     "output_type": "display_data"
    },
    {
     "data": {
      "image/png": "[encoded data removed]",
      "text/plain": [
       "<Figure size 700x2100 with 1 Axes>"
      ]
     },
     "metadata": {},
     "output_type": "display_data"
    },
    {
     "data": {
      "image/png": "[encoded data removed]",
      "text/plain": [
       "<Figure size 700x325 with 1 Axes>"
      ]
     },
     "metadata": {},
     "output_type": "display_data"
    }
   ],
   "source": [
    "# plot variable importance\n",
    "interpretation = best_tft.interpret_output(val_prediction_results.output, reduction=\"sum\")\n",
    "best_tft.plot_interpretation(interpretation)"
   ]
  },
  {
   "cell_type": "markdown",
   "id": "58d5f56e",
   "metadata": {
    "papermill": {
     "duration": 0.026174,
     "end_time": "2024-08-08T02:44:24.185809",
     "exception": false,
     "start_time": "2024-08-08T02:44:24.159635",
     "status": "completed"
    },
    "tags": []
   },
   "source": [
    "# **Inferencing and Testing for 2023**"
   ]
  },
  {
   "cell_type": "code",
   "execution_count": 38,
   "id": "7c3e059c",
   "metadata": {
    "execution": {
     "iopub.execute_input": "2024-08-08T02:44:24.240338Z",
     "iopub.status.busy": "2024-08-08T02:44:24.240040Z",
     "iopub.status.idle": "2024-08-08T02:44:24.254608Z",
     "shell.execute_reply": "2024-08-08T02:44:24.253894Z"
    },
    "papermill": {
     "duration": 0.04417,
     "end_time": "2024-08-08T02:44:24.256623",
     "exception": false,
     "start_time": "2024-08-08T02:44:24.212453",
     "status": "completed"
    },
    "tags": []
   },
   "outputs": [],
   "source": [
    "test = test_data.reset_index()\n",
    "test = (test.merge((test[['rep_date']].drop_duplicates(ignore_index=True).rename_axis('time_idx'))\\\n",
    "                     .reset_index(), on = ['rep_date'])).drop(\"rep_date\", axis=1)"
   ]
  },
  {
   "cell_type": "code",
   "execution_count": 39,
   "id": "1c49d16e",
   "metadata": {
    "execution": {
     "iopub.execute_input": "2024-08-08T02:44:24.310489Z",
     "iopub.status.busy": "2024-08-08T02:44:24.310197Z",
     "iopub.status.idle": "2024-08-08T02:44:24.323934Z",
     "shell.execute_reply": "2024-08-08T02:44:24.323266Z"
    },
    "papermill": {
     "duration": 0.042778,
     "end_time": "2024-08-08T02:44:24.325729",
     "exception": false,
     "start_time": "2024-08-08T02:44:24.282951",
     "status": "completed"
    },
    "tags": []
   },
   "outputs": [],
   "source": [
    "# Aggregate duplicate rows (using mean as an example)\n",
    "test_unique = test.groupby(['locality', 'time_idx']).mean().reset_index()\n",
    "\n",
    "# Verify that we now have unique combinations\n",
    "assert test_unique.duplicated(['locality', 'time_idx']).sum() == 0, \"Still have duplicates after aggregation\""
   ]
  },
  {
   "cell_type": "code",
   "execution_count": 40,
   "id": "345608fa",
   "metadata": {
    "execution": {
     "iopub.execute_input": "2024-08-08T02:44:24.379454Z",
     "iopub.status.busy": "2024-08-08T02:44:24.379194Z",
     "iopub.status.idle": "2024-08-08T02:44:24.514187Z",
     "shell.execute_reply": "2024-08-08T02:44:24.513255Z"
    },
    "papermill": {
     "duration": 0.164397,
     "end_time": "2024-08-08T02:44:24.516338",
     "exception": false,
     "start_time": "2024-08-08T02:44:24.351941",
     "status": "completed"
    },
    "tags": []
   },
   "outputs": [
    {
     "name": "stdout",
     "output_type": "stream",
     "text": [
      "Index(['locality', 'time_idx', 'index', 'cfb', 'lat', 'lon', 'temp', 'wd',\n",
      "       'elev', 'rh', 'pcuring', 'day', 'ros', 'year', 'month', 'hfi', 'tfc0',\n",
      "       'sfl', 'bui_lag2', 'bui', 'cfl', 'sfc0', 'dmc_lag5', 'dmc', 'sfc',\n",
      "       'dmc_lag7', 'bui_lag4', 'bfc', 'tfc', 'isi', 'bui_lag5', 'fwi_lag7',\n",
      "       'cfb_lag1', 'cfb_lag2', 'cfb_lag3', 'cfb_lag5', 'cfb_lag6', 'cfb_lag7',\n",
      "       'dmc_lag1', 'dmc_lag2', 'dmc_lag3', 'dmc_lag6', 'temp_lag1',\n",
      "       'temp_lag2', 'temp_lag3', 'temp_lag5', 'temp_lag6', 'temp_lag7',\n",
      "       'tfc_lag1', 'tfc_lag2', 'tfc_lag3', 'tfc_lag5', 'tfc_lag6', 'tfc_lag7',\n",
      "       'ros_lag1', 'ros_lag2', 'ros_lag3', 'ros_lag5', 'ros_lag6', 'ros_lag7',\n",
      "       'pcuring_lag1', 'pcuring_lag2', 'pcuring_lag3', 'pcuring_lag5',\n",
      "       'pcuring_lag6', 'pcuring_lag7', 'bfc_lag1', 'bfc_lag2', 'bfc_lag3',\n",
      "       'bfc_lag5', 'bfc_lag6', 'bfc_lag7', 'hfi_lag1', 'hfi_lag2', 'hfi_lag3',\n",
      "       'hfi_lag5', 'hfi_lag6', 'hfi_lag7'],\n",
      "      dtype='object')\n",
      "     locality  time_idx     index   cfb        lat         lon       temp  \\\n",
      "0      Altona         0   10457.0   0.0  55.659277 -117.093903  18.424999   \n",
      "1      Altona         1   10458.0   0.0  55.659277 -117.093903  18.424999   \n",
      "2      Altona         2   10459.0   0.0  55.659277 -117.093903  18.424999   \n",
      "3      Altona         3   10460.0   0.0  55.659277 -117.093903  18.424999   \n",
      "4      Altona         4   10461.0   0.0  55.659277 -117.093903  18.424999   \n",
      "...       ...       ...       ...   ...        ...         ...        ...   \n",
      "1117  Wonowon        61  648283.0  83.0  56.831605 -121.863865  23.364000   \n",
      "1118  Wonowon        62  648284.0  83.0  56.831605 -121.863865  23.364000   \n",
      "1119  Wonowon        63  648285.0  83.0  56.831605 -121.863865  23.364000   \n",
      "1120  Wonowon        64  648286.0  83.0  56.831605 -121.863865  23.364000   \n",
      "1121  Wonowon        65  648287.0   0.0  57.199360 -121.770523  14.665000   \n",
      "\n",
      "         wd   elev    rh  ...  bfc_lag3  bfc_lag5  bfc_lag6  bfc_lag7  \\\n",
      "0      34.0  695.0  27.0  ...  0.350000  0.350000  0.350000  0.350000   \n",
      "1      34.0  695.0  27.0  ...  0.350000  0.350000  0.350000  0.350000   \n",
      "2      34.0  695.0  27.0  ...  0.350000  0.350000  0.350000  0.350000   \n",
      "3      34.0  695.0  27.0  ...  0.350000  0.350000  0.350000  0.350000   \n",
      "4      34.0  695.0  27.0  ...  0.350000  0.350000  0.350000  0.350000   \n",
      "...     ...    ...   ...  ...       ...       ...       ...       ...   \n",
      "1117  182.0  743.0  27.0  ...  2.426819  2.426819  2.426819  2.426819   \n",
      "1118  182.0  743.0  27.0  ...  2.426819  2.426819  2.426819  2.426819   \n",
      "1119  182.0  743.0  27.0  ...  2.426819  2.426819  2.426819  2.426819   \n",
      "1120  182.0  743.0  27.0  ...  2.426819  2.426819  2.426819  2.426819   \n",
      "1121  140.0  792.0  44.0  ...  2.426819  2.426819  2.426819  2.426819   \n",
      "\n",
      "      hfi_lag1  hfi_lag2  hfi_lag3  hfi_lag5  hfi_lag6  hfi_lag7  \n",
      "0       1886.0    1886.0    1886.0    1886.0    1886.0    1886.0  \n",
      "1       1886.0    1886.0    1886.0    1886.0    1886.0    1886.0  \n",
      "2       1886.0    1886.0    1886.0    1886.0    1886.0    1886.0  \n",
      "3       1886.0    1886.0    1886.0    1886.0    1886.0    1886.0  \n",
      "4       1886.0    1886.0    1886.0    1886.0    1886.0    1886.0  \n",
      "...        ...       ...       ...       ...       ...       ...  \n",
      "1117   11485.0   11485.0   11485.0   11485.0   11485.0   11485.0  \n",
      "1118   11485.0   11485.0   11485.0   11485.0   11485.0   11485.0  \n",
      "1119   11485.0   11485.0   11485.0   11485.0   11485.0   11485.0  \n",
      "1120   11485.0   11485.0   11485.0   11485.0   11485.0   11485.0  \n",
      "1121   11485.0   11485.0   11485.0   11485.0   11485.0   11485.0  \n",
      "\n",
      "[1122 rows x 78 columns]\n"
     ]
    }
   ],
   "source": [
    "# Create a complete time series for each locality\n",
    "full_index = pd.MultiIndex.from_product(\n",
    "    [test_unique['locality'].unique(), \n",
    "     range(test_unique['time_idx'].min(), test_unique['time_idx'].max() + 1)],\n",
    "    names=['locality', 'time_idx']\n",
    ")\n",
    "\n",
    "# Reindex the dataframe and reset index to reintroduce locality and time_idx as columns\n",
    "test_filled = test_unique.set_index(['locality', 'time_idx']).reindex(full_index).reset_index()\n",
    "\n",
    "# Check the presence of 'locality' column\n",
    "print(test_filled.columns)\n",
    "\n",
    "# Forward fill the missing values within each group, but keep locality and time_idx intact\n",
    "test_filled.update(test_filled.groupby('locality').ffill())\n",
    "\n",
    "# If needed, backward fill remaining NaN values after forward fill\n",
    "test_filled.update(test_filled.groupby('locality').bfill())\n",
    "\n",
    "# Resulting DataFrame\n",
    "print(test_filled)"
   ]
  },
  {
   "cell_type": "code",
   "execution_count": 41,
   "id": "344d1748",
   "metadata": {
    "execution": {
     "iopub.execute_input": "2024-08-08T02:44:24.573158Z",
     "iopub.status.busy": "2024-08-08T02:44:24.572872Z",
     "iopub.status.idle": "2024-08-08T02:44:24.587742Z",
     "shell.execute_reply": "2024-08-08T02:44:24.586753Z"
    },
    "papermill": {
     "duration": 0.044924,
     "end_time": "2024-08-08T02:44:24.589540",
     "exception": false,
     "start_time": "2024-08-08T02:44:24.544616",
     "status": "completed"
    },
    "tags": []
   },
   "outputs": [
    {
     "name": "stdout",
     "output_type": "stream",
     "text": [
      "count    17.0\n",
      "mean      1.0\n",
      "std       0.0\n",
      "min       1.0\n",
      "25%       1.0\n",
      "50%       1.0\n",
      "75%       1.0\n",
      "max       1.0\n",
      "dtype: float64\n"
     ]
    },
    {
     "name": "stderr",
     "output_type": "stream",
     "text": [
      "/tmp/ipykernel_25/3462764073.py:5: DeprecationWarning: DataFrameGroupBy.apply operated on the grouping columns. This behavior is deprecated, and in a future version of pandas the grouping columns will be excluded from the operation. Either pass `include_groups=False` to exclude the groupings or explicitly select the grouping columns after groupby to silence this warning.\n",
      "  gaps = test_filled.groupby('locality').apply(check_time_gaps)\n"
     ]
    }
   ],
   "source": [
    "# Check for gaps in time series\n",
    "def check_time_gaps(group):\n",
    "    return group['time_idx'].diff().max()\n",
    "\n",
    "gaps = test_filled.groupby('locality').apply(check_time_gaps)\n",
    "print(gaps.describe())"
   ]
  },
  {
   "cell_type": "code",
   "execution_count": 42,
   "id": "c282a448",
   "metadata": {
    "execution": {
     "iopub.execute_input": "2024-08-08T02:44:24.643858Z",
     "iopub.status.busy": "2024-08-08T02:44:24.643564Z",
     "iopub.status.idle": "2024-08-08T02:44:24.650386Z",
     "shell.execute_reply": "2024-08-08T02:44:24.649359Z"
    },
    "papermill": {
     "duration": 0.036592,
     "end_time": "2024-08-08T02:44:24.652611",
     "exception": false,
     "start_time": "2024-08-08T02:44:24.616019",
     "status": "completed"
    },
    "tags": []
   },
   "outputs": [
    {
     "name": "stdout",
     "output_type": "stream",
     "text": [
      "Percentage of zero CFB values: 70.86%\n"
     ]
    }
   ],
   "source": [
    "# 1. Analyze the distribution of CFB values\n",
    "zero_cfb_ratio = (test_filled['cfb'] == 0).mean()\n",
    "print(f\"Percentage of zero CFB values: {zero_cfb_ratio * 100:.2f}%\")\n",
    "\n",
    "# 2. Create a binary target for fire occurrence\n",
    "test_filled['fire_occurrence'] = (test_filled['cfb'] > 0).astype(int)"
   ]
  },
  {
   "cell_type": "code",
   "execution_count": 43,
   "id": "f7ba5972",
   "metadata": {
    "execution": {
     "iopub.execute_input": "2024-08-08T02:44:24.709061Z",
     "iopub.status.busy": "2024-08-08T02:44:24.708807Z",
     "iopub.status.idle": "2024-08-08T02:44:24.723561Z",
     "shell.execute_reply": "2024-08-08T02:44:24.722481Z"
    },
    "papermill": {
     "duration": 0.044261,
     "end_time": "2024-08-08T02:44:24.725398",
     "exception": false,
     "start_time": "2024-08-08T02:44:24.681137",
     "status": "completed"
    },
    "tags": []
   },
   "outputs": [
    {
     "name": "stdout",
     "output_type": "stream",
     "text": [
      "<class 'pandas.core.frame.DataFrame'>\n",
      "RangeIndex: 1122 entries, 0 to 1121\n",
      "Data columns (total 79 columns):\n",
      " #   Column           Non-Null Count  Dtype  \n",
      "---  ------           --------------  -----  \n",
      " 0   locality         1122 non-null   object \n",
      " 1   time_idx         1122 non-null   int64  \n",
      " 2   index            1122 non-null   float64\n",
      " 3   cfb              1122 non-null   float64\n",
      " 4   lat              1122 non-null   float64\n",
      " 5   lon              1122 non-null   float64\n",
      " 6   temp             1122 non-null   float64\n",
      " 7   wd               1122 non-null   float64\n",
      " 8   elev             1122 non-null   float64\n",
      " 9   rh               1122 non-null   float64\n",
      " 10  pcuring          1122 non-null   float64\n",
      " 11  day              1122 non-null   float64\n",
      " 12  ros              1122 non-null   float64\n",
      " 13  year             1122 non-null   float64\n",
      " 14  month            1122 non-null   float64\n",
      " 15  hfi              1122 non-null   float64\n",
      " 16  tfc0             1122 non-null   float64\n",
      " 17  sfl              1122 non-null   float64\n",
      " 18  bui_lag2         1122 non-null   float64\n",
      " 19  bui              1122 non-null   float64\n",
      " 20  cfl              1122 non-null   float64\n",
      " 21  sfc0             1122 non-null   float64\n",
      " 22  dmc_lag5         1122 non-null   float64\n",
      " 23  dmc              1122 non-null   float64\n",
      " 24  sfc              1122 non-null   float64\n",
      " 25  dmc_lag7         1122 non-null   float64\n",
      " 26  bui_lag4         1122 non-null   float64\n",
      " 27  bfc              1122 non-null   float64\n",
      " 28  tfc              1122 non-null   float64\n",
      " 29  isi              1122 non-null   float64\n",
      " 30  bui_lag5         1122 non-null   float64\n",
      " 31  fwi_lag7         1122 non-null   float64\n",
      " 32  cfb_lag1         1122 non-null   float64\n",
      " 33  cfb_lag2         1122 non-null   float64\n",
      " 34  cfb_lag3         1122 non-null   float64\n",
      " 35  cfb_lag5         1122 non-null   float64\n",
      " 36  cfb_lag6         1122 non-null   float64\n",
      " 37  cfb_lag7         1122 non-null   float64\n",
      " 38  dmc_lag1         1122 non-null   float64\n",
      " 39  dmc_lag2         1122 non-null   float64\n",
      " 40  dmc_lag3         1122 non-null   float64\n",
      " 41  dmc_lag6         1122 non-null   float64\n",
      " 42  temp_lag1        1122 non-null   float64\n",
      " 43  temp_lag2        1122 non-null   float64\n",
      " 44  temp_lag3        1122 non-null   float64\n",
      " 45  temp_lag5        1122 non-null   float64\n",
      " 46  temp_lag6        1122 non-null   float64\n",
      " 47  temp_lag7        1122 non-null   float64\n",
      " 48  tfc_lag1         1122 non-null   float64\n",
      " 49  tfc_lag2         1122 non-null   float64\n",
      " 50  tfc_lag3         1122 non-null   float64\n",
      " 51  tfc_lag5         1122 non-null   float64\n",
      " 52  tfc_lag6         1122 non-null   float64\n",
      " 53  tfc_lag7         1122 non-null   float64\n",
      " 54  ros_lag1         1122 non-null   float64\n",
      " 55  ros_lag2         1122 non-null   float64\n",
      " 56  ros_lag3         1122 non-null   float64\n",
      " 57  ros_lag5         1122 non-null   float64\n",
      " 58  ros_lag6         1122 non-null   float64\n",
      " 59  ros_lag7         1122 non-null   float64\n",
      " 60  pcuring_lag1     1122 non-null   float64\n",
      " 61  pcuring_lag2     1122 non-null   float64\n",
      " 62  pcuring_lag3     1122 non-null   float64\n",
      " 63  pcuring_lag5     1122 non-null   float64\n",
      " 64  pcuring_lag6     1122 non-null   float64\n",
      " 65  pcuring_lag7     1122 non-null   float64\n",
      " 66  bfc_lag1         1122 non-null   float64\n",
      " 67  bfc_lag2         1122 non-null   float64\n",
      " 68  bfc_lag3         1122 non-null   float64\n",
      " 69  bfc_lag5         1122 non-null   float64\n",
      " 70  bfc_lag6         1122 non-null   float64\n",
      " 71  bfc_lag7         1122 non-null   float64\n",
      " 72  hfi_lag1         1122 non-null   float64\n",
      " 73  hfi_lag2         1122 non-null   float64\n",
      " 74  hfi_lag3         1122 non-null   float64\n",
      " 75  hfi_lag5         1122 non-null   float64\n",
      " 76  hfi_lag6         1122 non-null   float64\n",
      " 77  hfi_lag7         1122 non-null   float64\n",
      " 78  fire_occurrence  1122 non-null   int64  \n",
      "dtypes: float64(76), int64(2), object(1)\n",
      "memory usage: 692.6+ KB\n"
     ]
    }
   ],
   "source": [
    "test_filled.info()"
   ]
  },
  {
   "cell_type": "code",
   "execution_count": 44,
   "id": "a16df6da",
   "metadata": {
    "execution": {
     "iopub.execute_input": "2024-08-08T02:44:24.780007Z",
     "iopub.status.busy": "2024-08-08T02:44:24.779751Z",
     "iopub.status.idle": "2024-08-08T02:44:24.784138Z",
     "shell.execute_reply": "2024-08-08T02:44:24.783318Z"
    },
    "papermill": {
     "duration": 0.033881,
     "end_time": "2024-08-08T02:44:24.786020",
     "exception": false,
     "start_time": "2024-08-08T02:44:24.752139",
     "status": "completed"
    },
    "tags": []
   },
   "outputs": [],
   "source": [
    "from pytorch_forecasting.data.encoders import NaNLabelEncoder\n",
    "for encoder in train_dataset.categorical_encoders.values():\n",
    "    if isinstance(encoder, NaNLabelEncoder):\n",
    "        encoder.add_nan = True"
   ]
  },
  {
   "cell_type": "code",
   "execution_count": 45,
   "id": "ae5ab89c",
   "metadata": {
    "execution": {
     "iopub.execute_input": "2024-08-08T02:44:24.840609Z",
     "iopub.status.busy": "2024-08-08T02:44:24.840348Z",
     "iopub.status.idle": "2024-08-08T02:44:25.817930Z",
     "shell.execute_reply": "2024-08-08T02:44:25.816715Z"
    },
    "papermill": {
     "duration": 1.007366,
     "end_time": "2024-08-08T02:44:25.820229",
     "exception": false,
     "start_time": "2024-08-08T02:44:24.812863",
     "status": "completed"
    },
    "tags": []
   },
   "outputs": [
    {
     "name": "stderr",
     "output_type": "stream",
     "text": [
      "INFO: GPU available: True (cuda), used: True\n",
      "INFO: TPU available: False, using: 0 TPU cores\n",
      "INFO: HPU available: False, using: 0 HPUs\n",
      "INFO: LOCAL_RANK: 0 - CUDA_VISIBLE_DEVICES: [0]\n",
      "/opt/conda/lib/python3.10/multiprocessing/popen_fork.py:66: RuntimeWarning: os.fork() was called. os.fork() is incompatible with multithreaded code, and JAX is multithreaded, so this will likely lead to a deadlock.\n",
      "  self.pid = os.fork()\n",
      "/opt/conda/lib/python3.10/multiprocessing/popen_fork.py:66: RuntimeWarning: os.fork() was called. os.fork() is incompatible with multithreaded code, and JAX is multithreaded, so this will likely lead to a deadlock.\n",
      "  self.pid = os.fork()\n"
     ]
    }
   ],
   "source": [
    "# Create test dataset\n",
    "test_dataset = TimeSeriesDataSet.from_dataset(train_dataset,\n",
    "                                        test_filled, \n",
    "                                        predict=True, \n",
    "                                        stop_randomization=True)\n",
    "\n",
    "# Create test dataloader\n",
    "test_dataloader = test_dataset.to_dataloader(train=False, batch_size=batch_size, num_workers=4)\n",
    "\n",
    "# Get prediction results\n",
    "test_prediction_results = best_tft.predict(\n",
    "    test_dataloader,\n",
    "    mode=\"raw\",\n",
    "    return_index=True, # return the prediction index in the same order as the output\n",
    "    return_x=True, # return network inputs in the same order as prediction output\n",
    "    )"
   ]
  },
  {
   "cell_type": "code",
   "execution_count": 46,
   "id": "f7cbce6e",
   "metadata": {
    "execution": {
     "iopub.execute_input": "2024-08-08T02:44:25.879173Z",
     "iopub.status.busy": "2024-08-08T02:44:25.878845Z",
     "iopub.status.idle": "2024-08-08T02:44:26.520349Z",
     "shell.execute_reply": "2024-08-08T02:44:26.519424Z"
    },
    "papermill": {
     "duration": 0.673949,
     "end_time": "2024-08-08T02:44:26.522405",
     "exception": false,
     "start_time": "2024-08-08T02:44:25.848456",
     "status": "completed"
    },
    "tags": []
   },
   "outputs": [
    {
     "data": {
      "image/png": "[encoded data removed]",
      "text/plain": [
       "<Figure size 2300x500 with 2 Axes>"
      ]
     },
     "metadata": {},
     "output_type": "display_data"
    }
   ],
   "source": [
    "for idx in range(1):\n",
    "    fig, ax = plt.subplots(figsize=(23,5))\n",
    "    best_tft.plot_prediction(\n",
    "        test_prediction_results.x, \n",
    "        test_prediction_results.output, \n",
    "        idx=idx, \n",
    "        show_future_observed=False,\n",
    "        add_loss_to_title=SMAPE(quantiles=best_tft.loss.quantiles),\n",
    "        ax=ax,\n",
    "        )"
   ]
  },
  {
   "cell_type": "code",
   "execution_count": 47,
   "id": "684e8415",
   "metadata": {
    "execution": {
     "iopub.execute_input": "2024-08-08T02:44:26.581088Z",
     "iopub.status.busy": "2024-08-08T02:44:26.580775Z",
     "iopub.status.idle": "2024-08-08T02:44:26.587274Z",
     "shell.execute_reply": "2024-08-08T02:44:26.586452Z"
    },
    "papermill": {
     "duration": 0.0379,
     "end_time": "2024-08-08T02:44:26.589136",
     "exception": false,
     "start_time": "2024-08-08T02:44:26.551236",
     "status": "completed"
    },
    "tags": []
   },
   "outputs": [
    {
     "data": {
      "text/plain": [
       "(17, 7, 7)"
      ]
     },
     "execution_count": 47,
     "metadata": {},
     "output_type": "execute_result"
    }
   ],
   "source": [
    "test_prediction_results.output.prediction.cpu().numpy().shape"
   ]
  },
  {
   "cell_type": "code",
   "execution_count": 48,
   "id": "f48ee6be",
   "metadata": {
    "execution": {
     "iopub.execute_input": "2024-08-08T02:44:26.646231Z",
     "iopub.status.busy": "2024-08-08T02:44:26.645954Z",
     "iopub.status.idle": "2024-08-08T02:44:26.652958Z",
     "shell.execute_reply": "2024-08-08T02:44:26.652148Z"
    },
    "papermill": {
     "duration": 0.037731,
     "end_time": "2024-08-08T02:44:26.654849",
     "exception": false,
     "start_time": "2024-08-08T02:44:26.617118",
     "status": "completed"
    },
    "tags": []
   },
   "outputs": [
    {
     "data": {
      "text/plain": [
       "0                Altona\n",
       "1            Burns Lake\n",
       "2                Chateh\n",
       "3             Cleardale\n",
       "4                Endako\n",
       "5        Fort Good Hope\n",
       "6           Fort Nelson\n",
       "7            Fort Smith\n",
       "8     Germansen Landing\n",
       "9             MacKenzie\n",
       "10          McLeod Lake\n",
       "11        Meander River\n",
       "12            Prespatou\n",
       "13        Prophet River\n",
       "14         Rainbow Lake\n",
       "15           Vanderhoof\n",
       "16              Wonowon\n",
       "Name: locality, dtype: object"
      ]
     },
     "execution_count": 48,
     "metadata": {},
     "output_type": "execute_result"
    }
   ],
   "source": [
    "test_prediction_results.index['locality']"
   ]
  },
  {
   "cell_type": "code",
   "execution_count": 49,
   "id": "a74e257a",
   "metadata": {
    "execution": {
     "iopub.execute_input": "2024-08-08T02:44:26.712306Z",
     "iopub.status.busy": "2024-08-08T02:44:26.712034Z",
     "iopub.status.idle": "2024-08-08T02:44:26.716460Z",
     "shell.execute_reply": "2024-08-08T02:44:26.715616Z"
    },
    "papermill": {
     "duration": 0.035137,
     "end_time": "2024-08-08T02:44:26.718353",
     "exception": false,
     "start_time": "2024-08-08T02:44:26.683216",
     "status": "completed"
    },
    "tags": []
   },
   "outputs": [
    {
     "name": "stdout",
     "output_type": "stream",
     "text": [
      "Shape of test_prediction_results.output.prediction: torch.Size([17, 7, 7])\n"
     ]
    }
   ],
   "source": [
    " print('Shape of test_prediction_results.output.prediction:', test_prediction_results.output.prediction.shape)"
   ]
  },
  {
   "cell_type": "code",
   "execution_count": 50,
   "id": "43e8cbb3",
   "metadata": {
    "execution": {
     "iopub.execute_input": "2024-08-08T02:44:26.776456Z",
     "iopub.status.busy": "2024-08-08T02:44:26.775950Z",
     "iopub.status.idle": "2024-08-08T02:44:26.782270Z",
     "shell.execute_reply": "2024-08-08T02:44:26.781374Z"
    },
    "papermill": {
     "duration": 0.037605,
     "end_time": "2024-08-08T02:44:26.784318",
     "exception": false,
     "start_time": "2024-08-08T02:44:26.746713",
     "status": "completed"
    },
    "tags": []
   },
   "outputs": [
    {
     "name": "stdout",
     "output_type": "stream",
     "text": [
      "Structure of test_prediction_results.index:\n",
      "     time_idx           locality\n",
      "0         59             Altona\n",
      "1         59         Burns Lake\n",
      "2         59             Chateh\n",
      "3         59          Cleardale\n",
      "4         59             Endako\n",
      "5         59     Fort Good Hope\n",
      "6         59        Fort Nelson\n",
      "7         59         Fort Smith\n",
      "8         59  Germansen Landing\n",
      "9         59          MacKenzie\n",
      "10        59        McLeod Lake\n",
      "11        59      Meander River\n",
      "12        59          Prespatou\n",
      "13        59      Prophet River\n",
      "14        59       Rainbow Lake\n",
      "15        59         Vanderhoof\n",
      "16        59            Wonowon\n"
     ]
    }
   ],
   "source": [
    "print('Structure of test_prediction_results.index:\\n', test_prediction_results.index)\n"
   ]
  },
  {
   "cell_type": "code",
   "execution_count": 51,
   "id": "93b960b0",
   "metadata": {
    "execution": {
     "iopub.execute_input": "2024-08-08T02:44:26.842432Z",
     "iopub.status.busy": "2024-08-08T02:44:26.842174Z",
     "iopub.status.idle": "2024-08-08T02:44:26.947549Z",
     "shell.execute_reply": "2024-08-08T02:44:26.946624Z"
    },
    "papermill": {
     "duration": 0.136488,
     "end_time": "2024-08-08T02:44:26.949533",
     "exception": false,
     "start_time": "2024-08-08T02:44:26.813045",
     "status": "completed"
    },
    "tags": []
   },
   "outputs": [
    {
     "data": {
      "text/plain": [
       "torch.return_types.median(\n",
       "values=tensor([[2.2195e-16, 2.2202e-16, 2.2203e-16, 2.2207e-16, 2.2211e-16, 2.2222e-16,\n",
       "         2.2252e-16],\n",
       "        [4.7450e-17, 1.6372e-16, 1.8364e-16, 3.6078e-16, 7.2617e-16, 4.4828e-15,\n",
       "         4.1093e-13],\n",
       "        [2.2196e-16, 2.2202e-16, 2.2202e-16, 2.2206e-16, 2.2209e-16, 2.2219e-16,\n",
       "         2.2246e-16],\n",
       "        [3.3608e-19, 2.1648e-17, 4.7901e-17, 1.3881e-16, 6.6831e-16, 1.4342e-14,\n",
       "         1.1133e-03],\n",
       "        [1.3018e-16, 1.9984e-16, 2.0816e-16, 2.6112e-16, 3.3122e-16, 6.2456e-16,\n",
       "         3.0621e-15],\n",
       "        [1.6180e+01, 1.9863e+01, 2.0693e+01, 2.1194e+01, 2.1475e+01, 2.1757e+01,\n",
       "         2.4121e+01],\n",
       "        [2.7704e-26, 3.5276e-18, 1.5285e-17, 1.5426e-12, 2.5400e-07, 1.1839e+01,\n",
       "         6.6209e+01],\n",
       "        [5.0459e-23, 8.1041e-18, 1.7179e-17, 2.7729e-14, 3.1174e-11, 1.1628e-03,\n",
       "         3.3158e+01],\n",
       "        [6.2245e-18, 1.0981e-16, 1.3759e-16, 6.9881e-16, 3.6368e-15, 2.3471e-13,\n",
       "         7.7030e-09],\n",
       "        [1.0235e-24, 4.1731e-18, 2.0218e-17, 1.8387e-13, 2.0288e-09, 2.3566e+00,\n",
       "         4.9400e+01],\n",
       "        [2.2195e-16, 2.2203e-16, 2.2203e-16, 2.2208e-16, 2.2212e-16, 2.2224e-16,\n",
       "         2.2254e-16],\n",
       "        [2.3687e-27, 1.0519e-18, 3.2491e-18, 6.0982e-13, 1.0646e-07, 1.2903e+01,\n",
       "         7.5337e+01],\n",
       "        [8.8844e-04, 5.9067e+01, 7.8007e+01, 8.6736e+01, 9.1068e+01, 9.5628e+01,\n",
       "         1.1890e+02],\n",
       "        [3.2003e+01, 6.3237e+01, 6.6255e+01, 6.9190e+01, 7.0321e+01, 7.1658e+01,\n",
       "         8.2697e+01],\n",
       "        [6.0583e-01, 6.5324e+01, 8.2609e+01, 9.0162e+01, 9.3946e+01, 9.8215e+01,\n",
       "         1.2223e+02],\n",
       "        [1.9348e-17, 1.4001e-16, 1.6775e-16, 5.0738e-16, 1.6041e-15, 2.8271e-14,\n",
       "         3.0409e-11],\n",
       "        [6.3238e+01, 7.9946e+01, 8.1962e+01, 8.3798e+01, 8.4392e+01, 8.5022e+01,\n",
       "         9.0465e+01]], device='cuda:0'),\n",
       "indices=tensor([[6, 6, 4, 4, 3, 6, 6],\n",
       "        [6, 4, 3, 3, 3, 6, 6],\n",
       "        [5, 6, 3, 6, 6, 6, 6],\n",
       "        [4, 3, 3, 3, 3, 6, 5],\n",
       "        [6, 4, 3, 3, 3, 6, 6],\n",
       "        [5, 6, 2, 6, 4, 6, 6],\n",
       "        [4, 3, 3, 3, 3, 3, 3],\n",
       "        [1, 3, 3, 3, 3, 6, 6],\n",
       "        [6, 2, 3, 3, 3, 6, 6],\n",
       "        [5, 3, 3, 3, 3, 6, 6],\n",
       "        [6, 6, 4, 3, 3, 6, 6],\n",
       "        [3, 3, 3, 3, 3, 3, 6],\n",
       "        [3, 3, 3, 3, 3, 6, 3],\n",
       "        [3, 6, 6, 5, 4, 2, 6],\n",
       "        [3, 4, 3, 3, 3, 4, 3],\n",
       "        [6, 4, 3, 3, 3, 6, 6],\n",
       "        [3, 6, 6, 6, 5, 6, 6]], device='cuda:0'))"
      ]
     },
     "execution_count": 51,
     "metadata": {},
     "output_type": "execute_result"
    }
   ],
   "source": [
    "test_prediction_results.output.prediction.median(dim=1)"
   ]
  },
  {
   "cell_type": "code",
   "execution_count": 52,
   "id": "a0a982b1",
   "metadata": {
    "execution": {
     "iopub.execute_input": "2024-08-08T02:44:27.008470Z",
     "iopub.status.busy": "2024-08-08T02:44:27.008158Z",
     "iopub.status.idle": "2024-08-08T02:44:27.037481Z",
     "shell.execute_reply": "2024-08-08T02:44:27.036368Z"
    },
    "papermill": {
     "duration": 0.060856,
     "end_time": "2024-08-08T02:44:27.039542",
     "exception": false,
     "start_time": "2024-08-08T02:44:26.978686",
     "status": "completed"
    },
    "tags": []
   },
   "outputs": [
    {
     "name": "stdout",
     "output_type": "stream",
     "text": [
      "Shape of median_predictions: (17,)\n",
      "Length of predictions_df: 1122\n",
      "Length of median_predictions: 17\n",
      "Length of locality_values: 17\n",
      "     locality  time_idx     index   cfb        lat         lon       temp  \\\n",
      "0      Altona         0   10457.0   0.0  55.659277 -117.093903  18.424999   \n",
      "1      Altona         1   10458.0   0.0  55.659277 -117.093903  18.424999   \n",
      "2      Altona         2   10459.0   0.0  55.659277 -117.093903  18.424999   \n",
      "3      Altona         3   10460.0   0.0  55.659277 -117.093903  18.424999   \n",
      "4      Altona         4   10461.0   0.0  55.659277 -117.093903  18.424999   \n",
      "...       ...       ...       ...   ...        ...         ...        ...   \n",
      "1117  Wonowon        61  648283.0  83.0  56.831605 -121.863865  23.364000   \n",
      "1118  Wonowon        62  648284.0  83.0  56.831605 -121.863865  23.364000   \n",
      "1119  Wonowon        63  648285.0  83.0  56.831605 -121.863865  23.364000   \n",
      "1120  Wonowon        64  648286.0  83.0  56.831605 -121.863865  23.364000   \n",
      "1121  Wonowon        65  648287.0   0.0  57.199360 -121.770523  14.665000   \n",
      "\n",
      "         wd   elev    rh  ...  bfc_lag6  bfc_lag7  hfi_lag1  hfi_lag2  \\\n",
      "0      34.0  695.0  27.0  ...  0.350000  0.350000    1886.0    1886.0   \n",
      "1      34.0  695.0  27.0  ...  0.350000  0.350000    1886.0    1886.0   \n",
      "2      34.0  695.0  27.0  ...  0.350000  0.350000    1886.0    1886.0   \n",
      "3      34.0  695.0  27.0  ...  0.350000  0.350000    1886.0    1886.0   \n",
      "4      34.0  695.0  27.0  ...  0.350000  0.350000    1886.0    1886.0   \n",
      "...     ...    ...   ...  ...       ...       ...       ...       ...   \n",
      "1117  182.0  743.0  27.0  ...  2.426819  2.426819   11485.0   11485.0   \n",
      "1118  182.0  743.0  27.0  ...  2.426819  2.426819   11485.0   11485.0   \n",
      "1119  182.0  743.0  27.0  ...  2.426819  2.426819   11485.0   11485.0   \n",
      "1120  182.0  743.0  27.0  ...  2.426819  2.426819   11485.0   11485.0   \n",
      "1121  140.0  792.0  44.0  ...  2.426819  2.426819   11485.0   11485.0   \n",
      "\n",
      "      hfi_lag3  hfi_lag5  hfi_lag6  hfi_lag7  fire_occurrence      cfb_pred  \n",
      "0       1886.0    1886.0    1886.0    1886.0                0  2.220230e-16  \n",
      "1       1886.0    1886.0    1886.0    1886.0                0  2.220230e-16  \n",
      "2       1886.0    1886.0    1886.0    1886.0                0  2.220230e-16  \n",
      "3       1886.0    1886.0    1886.0    1886.0                0  2.220230e-16  \n",
      "4       1886.0    1886.0    1886.0    1886.0                0  2.220230e-16  \n",
      "...        ...       ...       ...       ...              ...           ...  \n",
      "1117   11485.0   11485.0   11485.0   11485.0                1  7.994560e+01  \n",
      "1118   11485.0   11485.0   11485.0   11485.0                1  7.994560e+01  \n",
      "1119   11485.0   11485.0   11485.0   11485.0                1  7.994560e+01  \n",
      "1120   11485.0   11485.0   11485.0   11485.0                1  7.994560e+01  \n",
      "1121   11485.0   11485.0   11485.0   11485.0                0  7.994560e+01  \n",
      "\n",
      "[1122 rows x 80 columns]\n"
     ]
    }
   ],
   "source": [
    "def map_predictions_to_dataframe(test_data, test_prediction_results):\n",
    "    # Create a copy of the test data\n",
    "    predictions_df = test_filled.copy()\n",
    "    \n",
    "    median_predictions, _ = test_prediction_results.output.prediction.median(dim=1)\n",
    "    median_predictions = median_predictions.cpu().numpy()[:,1]\n",
    "    \n",
    "    # Print shape of median_predictions for debugging\n",
    "    print('Shape of median_predictions:', median_predictions.shape)\n",
    "    \n",
    "    # Extract locality values from the index DataFrame\n",
    "    locality_values = test_prediction_results.index['locality'].values\n",
    "    \n",
    "    # Print lengths for debugging\n",
    "    print('Length of predictions_df:', len(predictions_df))\n",
    "    print('Length of median_predictions:', len(median_predictions))\n",
    "    print('Length of locality_values:', len(locality_values))\n",
    "    \n",
    "    # Ensure the lengths match\n",
    "    if len(median_predictions) != len(locality_values):\n",
    "        raise ValueError(\"Mismatch in lengths between median_predictions and test_prediction_results.index\")\n",
    "    \n",
    "    # Create a mapping DataFrame from the test prediction results\n",
    "    mapping_df = pd.DataFrame({\n",
    "        'locality': locality_values,\n",
    "        'cfb': median_predictions\n",
    "    })\n",
    "\n",
    "    # Merge the mapping DataFrame with the predictions DataFrame\n",
    "    predictions_df = predictions_df.merge(mapping_df, on='locality', how='left', suffixes=('', '_pred'))\n",
    "    \n",
    "    return predictions_df\n",
    "\n",
    "# Usage\n",
    "predictions_df = map_predictions_to_dataframe(test_data, test_prediction_results)\n",
    "print(predictions_df)"
   ]
  },
  {
   "cell_type": "code",
   "execution_count": 53,
   "id": "89dec4f8",
   "metadata": {
    "execution": {
     "iopub.execute_input": "2024-08-08T02:44:27.098864Z",
     "iopub.status.busy": "2024-08-08T02:44:27.098572Z",
     "iopub.status.idle": "2024-08-08T02:44:27.110468Z",
     "shell.execute_reply": "2024-08-08T02:44:27.109653Z"
    },
    "papermill": {
     "duration": 0.043162,
     "end_time": "2024-08-08T02:44:27.112274",
     "exception": false,
     "start_time": "2024-08-08T02:44:27.069112",
     "status": "completed"
    },
    "tags": []
   },
   "outputs": [
    {
     "data": {
      "text/html": [
       "<div>\n",
       "<style scoped>\n",
       "    .dataframe tbody tr th:only-of-type {\n",
       "        vertical-align: middle;\n",
       "    }\n",
       "\n",
       "    .dataframe tbody tr th {\n",
       "        vertical-align: top;\n",
       "    }\n",
       "\n",
       "    .dataframe thead th {\n",
       "        text-align: right;\n",
       "    }\n",
       "</style>\n",
       "<table border=\"1\" class=\"dataframe\">\n",
       "  <thead>\n",
       "    <tr style=\"text-align: right;\">\n",
       "      <th></th>\n",
       "      <th>cfb</th>\n",
       "      <th>cfb_pred</th>\n",
       "    </tr>\n",
       "  </thead>\n",
       "  <tbody>\n",
       "    <tr>\n",
       "      <th>0</th>\n",
       "      <td>0.0</td>\n",
       "      <td>2.220230e-16</td>\n",
       "    </tr>\n",
       "    <tr>\n",
       "      <th>1</th>\n",
       "      <td>0.0</td>\n",
       "      <td>2.220230e-16</td>\n",
       "    </tr>\n",
       "    <tr>\n",
       "      <th>2</th>\n",
       "      <td>0.0</td>\n",
       "      <td>2.220230e-16</td>\n",
       "    </tr>\n",
       "    <tr>\n",
       "      <th>3</th>\n",
       "      <td>0.0</td>\n",
       "      <td>2.220230e-16</td>\n",
       "    </tr>\n",
       "    <tr>\n",
       "      <th>4</th>\n",
       "      <td>0.0</td>\n",
       "      <td>2.220230e-16</td>\n",
       "    </tr>\n",
       "    <tr>\n",
       "      <th>...</th>\n",
       "      <td>...</td>\n",
       "      <td>...</td>\n",
       "    </tr>\n",
       "    <tr>\n",
       "      <th>1117</th>\n",
       "      <td>83.0</td>\n",
       "      <td>7.994560e+01</td>\n",
       "    </tr>\n",
       "    <tr>\n",
       "      <th>1118</th>\n",
       "      <td>83.0</td>\n",
       "      <td>7.994560e+01</td>\n",
       "    </tr>\n",
       "    <tr>\n",
       "      <th>1119</th>\n",
       "      <td>83.0</td>\n",
       "      <td>7.994560e+01</td>\n",
       "    </tr>\n",
       "    <tr>\n",
       "      <th>1120</th>\n",
       "      <td>83.0</td>\n",
       "      <td>7.994560e+01</td>\n",
       "    </tr>\n",
       "    <tr>\n",
       "      <th>1121</th>\n",
       "      <td>0.0</td>\n",
       "      <td>7.994560e+01</td>\n",
       "    </tr>\n",
       "  </tbody>\n",
       "</table>\n",
       "<p>1122 rows × 2 columns</p>\n",
       "</div>"
      ],
      "text/plain": [
       "       cfb      cfb_pred\n",
       "0      0.0  2.220230e-16\n",
       "1      0.0  2.220230e-16\n",
       "2      0.0  2.220230e-16\n",
       "3      0.0  2.220230e-16\n",
       "4      0.0  2.220230e-16\n",
       "...    ...           ...\n",
       "1117  83.0  7.994560e+01\n",
       "1118  83.0  7.994560e+01\n",
       "1119  83.0  7.994560e+01\n",
       "1120  83.0  7.994560e+01\n",
       "1121   0.0  7.994560e+01\n",
       "\n",
       "[1122 rows x 2 columns]"
      ]
     },
     "execution_count": 53,
     "metadata": {},
     "output_type": "execute_result"
    }
   ],
   "source": [
    "predictions_df[['cfb', 'cfb_pred']]"
   ]
  },
  {
   "cell_type": "code",
   "execution_count": 54,
   "id": "87215127",
   "metadata": {
    "execution": {
     "iopub.execute_input": "2024-08-08T02:44:27.172205Z",
     "iopub.status.busy": "2024-08-08T02:44:27.171857Z",
     "iopub.status.idle": "2024-08-08T02:44:29.453550Z",
     "shell.execute_reply": "2024-08-08T02:44:29.452655Z"
    },
    "papermill": {
     "duration": 2.314684,
     "end_time": "2024-08-08T02:44:29.456518",
     "exception": false,
     "start_time": "2024-08-08T02:44:27.141834",
     "status": "completed"
    },
    "tags": []
   },
   "outputs": [
    {
     "name": "stderr",
     "output_type": "stream",
     "text": [
      "/opt/conda/lib/python3.10/site-packages/seaborn/_oldcore.py:1119: FutureWarning: use_inf_as_na option is deprecated and will be removed in a future version. Convert inf values to NaN before operating instead.\n",
      "  with pd.option_context('mode.use_inf_as_na', True):\n",
      "/opt/conda/lib/python3.10/site-packages/seaborn/_oldcore.py:1119: FutureWarning: use_inf_as_na option is deprecated and will be removed in a future version. Convert inf values to NaN before operating instead.\n",
      "  with pd.option_context('mode.use_inf_as_na', True):\n"
     ]
    },
    {
     "data": {
      "image/png": "[encoded data removed]",
      "text/plain": [
       "<Figure size 1500x700 with 1 Axes>"
      ]
     },
     "metadata": {},
     "output_type": "display_data"
    }
   ],
   "source": [
    "import seaborn as sns\n",
    "\n",
    "plt.figure(figsize=(15, 7))\n",
    "predictions_df['Difference'] = predictions_df['cfb'] - predictions_df['cfb_pred']\n",
    "sns.lineplot(data=predictions_df, x='time_idx', y='Difference', color='green')\n",
    "\n",
    "plt.title('Prediction Error Over Time')\n",
    "plt.xlabel('Time')\n",
    "plt.ylabel('Error (Actual - Predicted)')\n",
    "\n",
    "plt.gcf().autofmt_xdate()\n",
    "plt.tight_layout()\n",
    "plt.show()"
   ]
  },
  {
   "cell_type": "code",
   "execution_count": 55,
   "id": "35faf962",
   "metadata": {
    "execution": {
     "iopub.execute_input": "2024-08-08T02:44:29.522926Z",
     "iopub.status.busy": "2024-08-08T02:44:29.522610Z",
     "iopub.status.idle": "2024-08-08T02:44:29.602010Z",
     "shell.execute_reply": "2024-08-08T02:44:29.601035Z"
    },
    "papermill": {
     "duration": 0.113007,
     "end_time": "2024-08-08T02:44:29.603929",
     "exception": false,
     "start_time": "2024-08-08T02:44:29.490922",
     "status": "completed"
    },
    "tags": []
   },
   "outputs": [
    {
     "name": "stdout",
     "output_type": "stream",
     "text": [
      "sMAPE: 147.48%\n"
     ]
    }
   ],
   "source": [
    "from sklearn.metrics import mean_absolute_error, mean_squared_error, mean_absolute_percentage_error\n",
    "\n",
    "# Calculate metrics\n",
    "mae = mean_absolute_error(predictions_df['cfb'], predictions_df['cfb_pred'])\n",
    "rmse = np.sqrt(mean_squared_error(predictions_df['cfb'], predictions_df['cfb_pred']))\n",
    "# Define sMAPE function\n",
    "def smape(y_true, y_pred):\n",
    "    return 100/len(y_true) * np.sum(2 * np.abs(y_pred - y_true) / (np.abs(y_true) + np.abs(y_pred)))\n",
    "\n",
    "# Compute sMAPE\n",
    "smape_value = smape(predictions_df['cfb'], predictions_df['cfb_pred'])\n",
    "print(f\"sMAPE: {smape_value:.2f}%\")"
   ]
  },
  {
   "cell_type": "code",
   "execution_count": 56,
   "id": "49abbd02",
   "metadata": {
    "execution": {
     "iopub.execute_input": "2024-08-08T02:44:29.665087Z",
     "iopub.status.busy": "2024-08-08T02:44:29.664785Z",
     "iopub.status.idle": "2024-08-08T02:44:44.981417Z",
     "shell.execute_reply": "2024-08-08T02:44:44.980027Z"
    },
    "papermill": {
     "duration": 15.349683,
     "end_time": "2024-08-08T02:44:44.983658",
     "exception": false,
     "start_time": "2024-08-08T02:44:29.633975",
     "status": "completed"
    },
    "tags": []
   },
   "outputs": [
    {
     "name": "stderr",
     "output_type": "stream",
     "text": [
      "/opt/conda/lib/python3.10/pty.py:89: RuntimeWarning: os.fork() was called. os.fork() is incompatible with multithreaded code, and JAX is multithreaded, so this will likely lead to a deadlock.\n",
      "  pid, fd = os.forkpty()\n"
     ]
    },
    {
     "name": "stdout",
     "output_type": "stream",
     "text": [
      "Collecting kaleido\r\n",
      "  Downloading kaleido-0.2.1-py2.py3-none-manylinux1_x86_64.whl.metadata (15 kB)\r\n",
      "Downloading kaleido-0.2.1-py2.py3-none-manylinux1_x86_64.whl (79.9 MB)\r\n",
      "\u001b[2K   \u001b[90m━━━━━━━━━━━━━━━━━━━━━━━━━━━━━━━━━━━━━━━━\u001b[0m \u001b[32m79.9/79.9 MB\u001b[0m \u001b[31m20.9 MB/s\u001b[0m eta \u001b[36m0:00:00\u001b[0m\r\n",
      "\u001b[?25hInstalling collected packages: kaleido\r\n",
      "Successfully installed kaleido-0.2.1\r\n",
      "Note: you may need to restart the kernel to use updated packages.\n"
     ]
    }
   ],
   "source": [
    "pip install -U kaleido"
   ]
  },
  {
   "cell_type": "code",
   "execution_count": 57,
   "id": "f80fcbb3",
   "metadata": {
    "execution": {
     "iopub.execute_input": "2024-08-08T02:44:45.049048Z",
     "iopub.status.busy": "2024-08-08T02:44:45.048694Z",
     "iopub.status.idle": "2024-08-08T02:44:45.610107Z",
     "shell.execute_reply": "2024-08-08T02:44:45.608901Z"
    },
    "papermill": {
     "duration": 0.597483,
     "end_time": "2024-08-08T02:44:45.613254",
     "exception": false,
     "start_time": "2024-08-08T02:44:45.015771",
     "status": "completed"
    },
    "tags": []
   },
   "outputs": [
    {
     "data": {
      "text/html": [
       "        <script type=\"text/javascript\">\n",
       "        window.PlotlyConfig = {MathJaxConfig: 'local'};\n",
       "        if (window.MathJax && window.MathJax.Hub && window.MathJax.Hub.Config) {window.MathJax.Hub.Config({SVG: {font: \"STIX-Web\"}});}\n",
       "        if (typeof require !== 'undefined') {\n",
       "        require.undef(\"plotly\");\n",
       "        requirejs.config({\n",
       "            paths: {\n",
       "                'plotly': ['https://cdn.plot.ly/plotly-2.27.0.min']\n",
       "            }\n",
       "        });\n",
       "        require(['plotly'], function(Plotly) {\n",
       "            window._Plotly = Plotly;\n",
       "        });\n",
       "        }\n",
       "        </script>\n",
       "        "
      ]
     },
     "metadata": {},
     "output_type": "display_data"
    },
    {
     "data": {
      "text/html": [
       "<div>                            <div id=\"edeb8baf-343b-4f7a-b358-64c43feea2de\" class=\"plotly-graph-div\" style=\"height:800px; width:1000px;\"></div>            <script type=\"text/javascript\">                require([\"plotly\"], function(Plotly) {                    window.PLOTLYENV=window.PLOTLYENV || {};                                    if (document.getElementById(\"edeb8baf-343b-4f7a-b358-64c43feea2de\")) {                    Plotly.newPlot(                        \"edeb8baf-343b-4f7a-b358-64c43feea2de\",                        [{\"hovertemplate\":\"\\u003cb\\u003e%{text}\\u003c\\u002fb\\u003e\\u003cbr\\u003eActual: %{x:.2f}\\u003cbr\\u003ePredicted: %{y:.2f}\\u003cextra\\u003e\\u003c\\u002fextra\\u003e\",\"marker\":{\"color\":[0.0,0.0,0.0,0.0,0.0,0.0,0.0,0.0,0.0,0.0,0.0,0.0,0.0,0.0,0.0,0.0,0.0,0.0,0.0,0.0,0.0,0.0,0.0,0.0,0.0,0.0,0.0,0.0,0.0,0.0,0.0,0.0,0.0,0.0,0.0,0.0,0.0,0.0,0.0,0.0,0.0,0.0,0.0,0.0,0.0,0.0,0.0,0.0,0.0,0.0,0.0,0.0,0.0,0.0,0.0,0.0,0.0,0.0,0.0,0.0,0.0,0.0,0.0,0.0,0.0,0.0,0.0,0.0,0.0,0.0,0.0,0.0,0.0,0.0,0.0,0.0,0.0,0.0,0.0,0.0,0.0,0.0,0.0,0.0,0.0,0.0,0.0,0.0,0.0,0.0,0.0,0.0,0.0,0.0,0.0,0.0,0.0,0.0,0.0,0.0,0.0,0.0,0.0,0.0,0.0,0.0,0.0,0.0,0.0,0.0,0.0,0.0,0.0,0.0,0.0,0.0,0.0,0.0,0.0,0.0,0.0,0.0,0.0,0.0,0.0,0.0,0.0,0.0,0.0,0.0,0.0,0.0,0.0,0.0,0.0,0.0,0.0,0.0,0.0,0.0,0.0,0.0,0.0,0.0,0.0,0.0,0.0,0.0,0.0,0.0,0.0,0.0,0.0,0.0,0.0,0.0,0.0,0.0,0.0,0.0,0.0,0.0,0.0,0.0,0.0,0.0,0.0,0.0,0.0,0.0,0.0,0.0,0.0,0.0,0.0,0.0,0.0,0.0,0.0,0.0,0.0,0.0,0.0,0.0,0.0,0.0,0.0,0.0,0.0,0.0,0.0,0.0,0.0,0.0,0.0,0.0,0.0,0.0,0.0,0.0,0.0,0.0,0.0,0.0,0.0,0.0,0.0,0.0,0.0,0.0,0.0,0.0,0.0,0.0,0.0,0.0,0.0,0.0,0.0,0.0,0.0,0.0,0.0,0.0,0.0,0.0,0.0,0.0,0.0,0.0,0.0,0.0,0.0,0.0,0.0,0.0,0.0,0.0,0.0,0.0,0.0,0.0,0.0,0.0,0.0,0.0,0.0,0.0,0.0,0.0,0.0,0.0,0.0,0.0,0.0,0.0,0.0,0.0,0.0,0.0,0.0,0.0,0.0,0.0,0.0,0.0,0.0,0.0,0.0,0.0,0.0,0.0,0.0,0.0,0.0,0.0,0.0,0.0,0.0,0.0,0.0,0.0,0.0,0.0,0.0,0.0,0.0,0.0,0.0,0.0,0.0,0.0,0.0,0.0,0.0,0.0,0.0,0.0,0.0,0.0,0.0,0.0,0.0,0.0,0.0,0.0,0.0,0.0,0.0,0.0,0.0,0.0,0.0,0.0,0.0,0.0,0.0,0.0,0.0,0.0,0.0,0.0,0.0,0.0,0.0,0.0,0.0,0.0,0.0,0.0,21.0,21.0,21.0,21.0,21.0,21.0,21.0,21.0,21.0,21.0,21.0,21.0,21.0,21.0,21.0,21.0,21.0,21.0,21.0,21.0,21.0,21.0,21.0,21.0,21.0,21.0,21.0,21.0,21.0,21.0,21.0,21.0,21.0,21.0,21.0,21.0,21.0,21.0,21.0,21.0,21.0,21.0,21.0,21.0,21.0,21.0,21.0,21.0,21.0,21.0,21.0,21.0,21.0,21.0,21.0,21.0,21.0,21.0,21.0,21.0,21.0,21.0,21.0,21.0,21.0,0.0,0.0,0.0,0.0,0.0,0.0,0.0,0.0,0.0,0.0,0.0,0.0,0.0,0.0,0.0,0.0,0.0,0.0,0.0,0.0,0.0,0.0,0.0,0.0,0.0,0.0,0.0,0.0,0.0,0.0,0.0,0.0,0.0,0.0,0.0,0.0,0.0,0.0,0.0,0.0,0.0,0.0,0.0,0.0,0.0,0.0,0.0,0.0,0.0,0.0,0.0,0.0,0.0,0.0,0.0,0.0,0.0,0.0,0.0,0.0,0.0,0.0,0.0,0.0,0.0,0.0,0.0,0.0,0.0,0.0,0.0,0.0,0.0,0.0,0.0,0.0,0.0,0.0,0.0,0.0,0.0,0.0,0.0,0.0,0.0,0.0,0.0,0.0,0.0,0.0,0.0,0.0,0.0,0.0,0.0,0.0,0.0,0.0,0.0,0.0,0.0,0.0,0.0,0.0,0.0,0.0,0.0,0.0,0.0,0.0,0.0,0.0,0.0,0.0,0.0,0.0,0.0,0.0,0.0,0.0,0.0,0.0,0.0,0.0,0.0,0.0,0.0,0.0,0.0,0.0,0.0,0.0,7.0,0.0,0.0,0.0,0.0,0.0,0.0,0.0,0.0,0.0,0.0,0.0,0.0,0.0,0.0,0.0,0.0,0.0,0.0,0.0,0.0,0.0,0.0,0.0,0.0,0.0,0.0,0.0,0.0,0.0,0.0,0.0,0.0,0.0,0.0,0.0,0.0,0.0,0.0,0.0,0.0,0.0,0.0,0.0,0.0,0.0,0.0,0.0,0.0,0.0,0.0,0.0,0.0,0.0,0.0,0.0,0.0,0.0,0.0,0.0,0.0,0.0,0.0,0.0,0.0,0.0,0.0,0.0,0.0,0.0,0.0,0.0,0.0,0.0,0.0,0.0,0.0,0.0,0.0,0.0,0.0,0.0,0.0,0.0,0.0,0.0,0.0,0.0,0.0,0.0,0.0,0.0,0.0,0.0,0.0,0.0,0.0,0.0,0.0,0.0,0.0,0.0,0.0,0.0,0.0,0.0,0.0,0.0,0.0,0.0,0.0,0.0,0.0,0.0,0.0,0.0,0.0,0.0,0.0,0.0,0.0,0.0,0.0,0.0,0.0,0.0,0.0,0.0,0.0,0.0,0.0,0.0,0.0,0.0,0.0,0.0,0.0,0.0,0.0,0.0,0.0,0.0,0.0,0.0,0.0,0.0,0.0,0.0,0.0,0.0,0.0,0.0,0.0,0.0,0.0,0.0,0.0,0.0,0.0,0.0,0.0,0.0,0.0,0.0,0.0,0.0,0.0,0.0,0.0,0.0,0.0,0.0,0.0,0.0,0.0,0.0,0.0,0.0,0.0,0.0,0.0,0.0,0.0,0.0,0.0,0.0,0.0,0.0,0.0,0.0,0.0,0.0,0.0,0.0,0.0,0.0,0.0,0.0,0.0,0.0,0.0,0.0,0.0,0.0,0.0,0.0,0.0,0.0,0.0,0.0,0.0,0.0,0.0,0.0,0.0,0.0,0.0,0.0,0.0,0.0,0.0,0.0,0.0,0.0,0.0,0.0,0.0,0.0,0.0,0.0,0.0,0.0,0.0,0.0,0.0,0.0,0.0,0.0,0.0,0.0,0.0,0.0,0.0,0.0,0.0,0.0,0.0,0.0,0.0,0.0,0.0,0.0,0.0,0.0,0.0,0.0,0.0,0.0,0.0,0.0,0.0,0.0,0.0,0.0,0.0,91.0,91.0,91.0,91.0,91.0,91.0,91.0,91.0,91.0,91.0,91.0,91.0,91.0,91.0,91.0,91.0,91.0,91.0,91.0,91.0,91.0,91.0,91.0,91.0,91.0,91.0,91.0,91.0,91.0,91.0,91.0,91.0,91.0,91.0,91.0,91.0,91.0,91.0,91.0,91.0,91.0,91.0,91.0,91.0,91.0,91.0,91.0,91.0,91.0,91.0,91.0,91.0,91.0,91.0,91.0,91.0,91.0,91.0,91.0,91.0,91.0,91.0,91.0,91.0,91.0,0.0,69.0,69.0,69.0,69.0,69.0,69.0,69.0,69.0,69.0,69.0,69.0,69.0,69.0,69.0,69.0,69.0,69.0,69.0,69.0,69.0,69.0,69.0,69.0,69.0,69.0,69.0,69.0,69.0,69.0,69.0,69.0,69.0,69.0,69.0,69.0,69.0,69.0,69.0,69.0,69.0,69.0,69.0,69.0,69.0,69.0,69.0,69.0,69.0,69.0,69.0,69.0,69.0,69.0,69.0,69.0,69.0,69.0,69.0,69.0,69.0,69.0,69.0,69.0,69.0,69.0,0.0,91.0,91.0,91.0,91.0,91.0,91.0,91.0,91.0,91.0,91.0,91.0,91.0,91.0,91.0,91.0,91.0,91.0,91.0,91.0,91.0,91.0,91.0,91.0,91.0,91.0,91.0,91.0,91.0,91.0,91.0,91.0,91.0,91.0,91.0,91.0,91.0,91.0,91.0,91.0,91.0,91.0,91.0,91.0,91.0,91.0,91.0,91.0,91.0,91.0,91.0,91.0,91.0,91.0,91.0,91.0,91.0,91.0,91.0,91.0,91.0,91.0,91.0,91.0,91.0,91.0,0.0,0.0,0.0,0.0,0.0,0.0,0.0,0.0,0.0,0.0,0.0,0.0,0.0,0.0,0.0,0.0,0.0,0.0,0.0,0.0,0.0,0.0,0.0,0.0,0.0,0.0,0.0,0.0,0.0,0.0,0.0,0.0,0.0,0.0,0.0,0.0,0.0,0.0,0.0,0.0,0.0,0.0,0.0,0.0,0.0,0.0,0.0,0.0,0.0,0.0,0.0,0.0,0.0,0.0,0.0,0.0,0.0,0.0,0.0,0.0,0.0,0.0,0.0,0.0,0.0,0.0,1.1818181818181819,83.0,83.0,83.0,83.0,83.0,83.0,83.0,83.0,83.0,83.0,83.0,83.0,83.0,83.0,83.0,83.0,83.0,83.0,83.0,83.0,83.0,83.0,83.0,83.0,83.0,83.0,83.0,83.0,83.0,83.0,83.0,83.0,83.0,83.0,83.0,83.0,83.0,83.0,83.0,83.0,83.0,83.0,83.0,83.0,83.0,83.0,83.0,83.0,83.0,83.0,83.0,83.0,83.0,83.0,83.0,83.0,83.0,83.0,83.0,83.0,83.0,83.0,83.0,83.0,83.0,0.0],\"colorbar\":{\"title\":{\"text\":\"Actual Target Value\"}},\"colorscale\":[[0.0,\"rgb(255,255,204)\"],[0.125,\"rgb(255,237,160)\"],[0.25,\"rgb(254,217,118)\"],[0.375,\"rgb(254,178,76)\"],[0.5,\"rgb(253,141,60)\"],[0.625,\"rgb(252,78,42)\"],[0.75,\"rgb(227,26,28)\"],[0.875,\"rgb(189,0,38)\"],[1.0,\"rgb(128,0,38)\"]],\"showscale\":true,\"size\":10},\"mode\":\"markers\",\"text\":[\"Altona\",\"Altona\",\"Altona\",\"Altona\",\"Altona\",\"Altona\",\"Altona\",\"Altona\",\"Altona\",\"Altona\",\"Altona\",\"Altona\",\"Altona\",\"Altona\",\"Altona\",\"Altona\",\"Altona\",\"Altona\",\"Altona\",\"Altona\",\"Altona\",\"Altona\",\"Altona\",\"Altona\",\"Altona\",\"Altona\",\"Altona\",\"Altona\",\"Altona\",\"Altona\",\"Altona\",\"Altona\",\"Altona\",\"Altona\",\"Altona\",\"Altona\",\"Altona\",\"Altona\",\"Altona\",\"Altona\",\"Altona\",\"Altona\",\"Altona\",\"Altona\",\"Altona\",\"Altona\",\"Altona\",\"Altona\",\"Altona\",\"Altona\",\"Altona\",\"Altona\",\"Altona\",\"Altona\",\"Altona\",\"Altona\",\"Altona\",\"Altona\",\"Altona\",\"Altona\",\"Altona\",\"Altona\",\"Altona\",\"Altona\",\"Altona\",\"Altona\",\"Burns Lake\",\"Burns Lake\",\"Burns Lake\",\"Burns Lake\",\"Burns Lake\",\"Burns Lake\",\"Burns Lake\",\"Burns Lake\",\"Burns Lake\",\"Burns Lake\",\"Burns Lake\",\"Burns Lake\",\"Burns Lake\",\"Burns Lake\",\"Burns Lake\",\"Burns Lake\",\"Burns Lake\",\"Burns Lake\",\"Burns Lake\",\"Burns Lake\",\"Burns Lake\",\"Burns Lake\",\"Burns Lake\",\"Burns Lake\",\"Burns Lake\",\"Burns Lake\",\"Burns Lake\",\"Burns Lake\",\"Burns Lake\",\"Burns Lake\",\"Burns Lake\",\"Burns Lake\",\"Burns Lake\",\"Burns Lake\",\"Burns Lake\",\"Burns Lake\",\"Burns Lake\",\"Burns Lake\",\"Burns Lake\",\"Burns Lake\",\"Burns Lake\",\"Burns Lake\",\"Burns Lake\",\"Burns Lake\",\"Burns Lake\",\"Burns Lake\",\"Burns Lake\",\"Burns Lake\",\"Burns Lake\",\"Burns Lake\",\"Burns Lake\",\"Burns Lake\",\"Burns Lake\",\"Burns Lake\",\"Burns Lake\",\"Burns Lake\",\"Burns Lake\",\"Burns Lake\",\"Burns Lake\",\"Burns Lake\",\"Burns Lake\",\"Burns Lake\",\"Burns Lake\",\"Burns Lake\",\"Burns Lake\",\"Burns Lake\",\"Chateh\",\"Chateh\",\"Chateh\",\"Chateh\",\"Chateh\",\"Chateh\",\"Chateh\",\"Chateh\",\"Chateh\",\"Chateh\",\"Chateh\",\"Chateh\",\"Chateh\",\"Chateh\",\"Chateh\",\"Chateh\",\"Chateh\",\"Chateh\",\"Chateh\",\"Chateh\",\"Chateh\",\"Chateh\",\"Chateh\",\"Chateh\",\"Chateh\",\"Chateh\",\"Chateh\",\"Chateh\",\"Chateh\",\"Chateh\",\"Chateh\",\"Chateh\",\"Chateh\",\"Chateh\",\"Chateh\",\"Chateh\",\"Chateh\",\"Chateh\",\"Chateh\",\"Chateh\",\"Chateh\",\"Chateh\",\"Chateh\",\"Chateh\",\"Chateh\",\"Chateh\",\"Chateh\",\"Chateh\",\"Chateh\",\"Chateh\",\"Chateh\",\"Chateh\",\"Chateh\",\"Chateh\",\"Chateh\",\"Chateh\",\"Chateh\",\"Chateh\",\"Chateh\",\"Chateh\",\"Chateh\",\"Chateh\",\"Chateh\",\"Chateh\",\"Chateh\",\"Chateh\",\"Cleardale\",\"Cleardale\",\"Cleardale\",\"Cleardale\",\"Cleardale\",\"Cleardale\",\"Cleardale\",\"Cleardale\",\"Cleardale\",\"Cleardale\",\"Cleardale\",\"Cleardale\",\"Cleardale\",\"Cleardale\",\"Cleardale\",\"Cleardale\",\"Cleardale\",\"Cleardale\",\"Cleardale\",\"Cleardale\",\"Cleardale\",\"Cleardale\",\"Cleardale\",\"Cleardale\",\"Cleardale\",\"Cleardale\",\"Cleardale\",\"Cleardale\",\"Cleardale\",\"Cleardale\",\"Cleardale\",\"Cleardale\",\"Cleardale\",\"Cleardale\",\"Cleardale\",\"Cleardale\",\"Cleardale\",\"Cleardale\",\"Cleardale\",\"Cleardale\",\"Cleardale\",\"Cleardale\",\"Cleardale\",\"Cleardale\",\"Cleardale\",\"Cleardale\",\"Cleardale\",\"Cleardale\",\"Cleardale\",\"Cleardale\",\"Cleardale\",\"Cleardale\",\"Cleardale\",\"Cleardale\",\"Cleardale\",\"Cleardale\",\"Cleardale\",\"Cleardale\",\"Cleardale\",\"Cleardale\",\"Cleardale\",\"Cleardale\",\"Cleardale\",\"Cleardale\",\"Cleardale\",\"Cleardale\",\"Endako\",\"Endako\",\"Endako\",\"Endako\",\"Endako\",\"Endako\",\"Endako\",\"Endako\",\"Endako\",\"Endako\",\"Endako\",\"Endako\",\"Endako\",\"Endako\",\"Endako\",\"Endako\",\"Endako\",\"Endako\",\"Endako\",\"Endako\",\"Endako\",\"Endako\",\"Endako\",\"Endako\",\"Endako\",\"Endako\",\"Endako\",\"Endako\",\"Endako\",\"Endako\",\"Endako\",\"Endako\",\"Endako\",\"Endako\",\"Endako\",\"Endako\",\"Endako\",\"Endako\",\"Endako\",\"Endako\",\"Endako\",\"Endako\",\"Endako\",\"Endako\",\"Endako\",\"Endako\",\"Endako\",\"Endako\",\"Endako\",\"Endako\",\"Endako\",\"Endako\",\"Endako\",\"Endako\",\"Endako\",\"Endako\",\"Endako\",\"Endako\",\"Endako\",\"Endako\",\"Endako\",\"Endako\",\"Endako\",\"Endako\",\"Endako\",\"Endako\",\"Fort Good Hope\",\"Fort Good Hope\",\"Fort Good Hope\",\"Fort Good Hope\",\"Fort Good Hope\",\"Fort Good Hope\",\"Fort Good Hope\",\"Fort Good Hope\",\"Fort Good Hope\",\"Fort Good Hope\",\"Fort Good Hope\",\"Fort Good Hope\",\"Fort Good Hope\",\"Fort Good Hope\",\"Fort Good Hope\",\"Fort Good Hope\",\"Fort Good Hope\",\"Fort Good Hope\",\"Fort Good Hope\",\"Fort Good Hope\",\"Fort Good Hope\",\"Fort Good Hope\",\"Fort Good Hope\",\"Fort Good Hope\",\"Fort Good Hope\",\"Fort Good Hope\",\"Fort Good Hope\",\"Fort Good Hope\",\"Fort Good Hope\",\"Fort Good Hope\",\"Fort Good Hope\",\"Fort Good Hope\",\"Fort Good Hope\",\"Fort Good Hope\",\"Fort Good Hope\",\"Fort Good Hope\",\"Fort Good Hope\",\"Fort Good Hope\",\"Fort Good Hope\",\"Fort Good Hope\",\"Fort Good Hope\",\"Fort Good Hope\",\"Fort Good Hope\",\"Fort Good Hope\",\"Fort Good Hope\",\"Fort Good Hope\",\"Fort Good Hope\",\"Fort Good Hope\",\"Fort Good Hope\",\"Fort Good Hope\",\"Fort Good Hope\",\"Fort Good Hope\",\"Fort Good Hope\",\"Fort Good Hope\",\"Fort Good Hope\",\"Fort Good Hope\",\"Fort Good Hope\",\"Fort Good Hope\",\"Fort Good Hope\",\"Fort Good Hope\",\"Fort Good Hope\",\"Fort Good Hope\",\"Fort Good Hope\",\"Fort Good Hope\",\"Fort Good Hope\",\"Fort Good Hope\",\"Fort Nelson\",\"Fort Nelson\",\"Fort Nelson\",\"Fort Nelson\",\"Fort Nelson\",\"Fort Nelson\",\"Fort Nelson\",\"Fort Nelson\",\"Fort Nelson\",\"Fort Nelson\",\"Fort Nelson\",\"Fort Nelson\",\"Fort Nelson\",\"Fort Nelson\",\"Fort Nelson\",\"Fort Nelson\",\"Fort Nelson\",\"Fort Nelson\",\"Fort Nelson\",\"Fort Nelson\",\"Fort Nelson\",\"Fort Nelson\",\"Fort Nelson\",\"Fort Nelson\",\"Fort Nelson\",\"Fort Nelson\",\"Fort Nelson\",\"Fort Nelson\",\"Fort Nelson\",\"Fort Nelson\",\"Fort Nelson\",\"Fort Nelson\",\"Fort Nelson\",\"Fort Nelson\",\"Fort Nelson\",\"Fort Nelson\",\"Fort Nelson\",\"Fort Nelson\",\"Fort Nelson\",\"Fort Nelson\",\"Fort Nelson\",\"Fort Nelson\",\"Fort Nelson\",\"Fort Nelson\",\"Fort Nelson\",\"Fort Nelson\",\"Fort Nelson\",\"Fort Nelson\",\"Fort Nelson\",\"Fort Nelson\",\"Fort Nelson\",\"Fort Nelson\",\"Fort Nelson\",\"Fort Nelson\",\"Fort Nelson\",\"Fort Nelson\",\"Fort Nelson\",\"Fort Nelson\",\"Fort Nelson\",\"Fort Nelson\",\"Fort Nelson\",\"Fort Nelson\",\"Fort Nelson\",\"Fort Nelson\",\"Fort Nelson\",\"Fort Nelson\",\"Fort Smith\",\"Fort Smith\",\"Fort Smith\",\"Fort Smith\",\"Fort Smith\",\"Fort Smith\",\"Fort Smith\",\"Fort Smith\",\"Fort Smith\",\"Fort Smith\",\"Fort Smith\",\"Fort Smith\",\"Fort Smith\",\"Fort Smith\",\"Fort Smith\",\"Fort Smith\",\"Fort Smith\",\"Fort Smith\",\"Fort Smith\",\"Fort Smith\",\"Fort Smith\",\"Fort Smith\",\"Fort Smith\",\"Fort Smith\",\"Fort Smith\",\"Fort Smith\",\"Fort Smith\",\"Fort Smith\",\"Fort Smith\",\"Fort Smith\",\"Fort Smith\",\"Fort Smith\",\"Fort Smith\",\"Fort Smith\",\"Fort Smith\",\"Fort Smith\",\"Fort Smith\",\"Fort Smith\",\"Fort Smith\",\"Fort Smith\",\"Fort Smith\",\"Fort Smith\",\"Fort Smith\",\"Fort Smith\",\"Fort Smith\",\"Fort Smith\",\"Fort Smith\",\"Fort Smith\",\"Fort Smith\",\"Fort Smith\",\"Fort Smith\",\"Fort Smith\",\"Fort Smith\",\"Fort Smith\",\"Fort Smith\",\"Fort Smith\",\"Fort Smith\",\"Fort Smith\",\"Fort Smith\",\"Fort Smith\",\"Fort Smith\",\"Fort Smith\",\"Fort Smith\",\"Fort Smith\",\"Fort Smith\",\"Fort Smith\",\"Germansen Landing\",\"Germansen Landing\",\"Germansen Landing\",\"Germansen Landing\",\"Germansen Landing\",\"Germansen Landing\",\"Germansen Landing\",\"Germansen Landing\",\"Germansen Landing\",\"Germansen Landing\",\"Germansen Landing\",\"Germansen Landing\",\"Germansen Landing\",\"Germansen Landing\",\"Germansen Landing\",\"Germansen Landing\",\"Germansen Landing\",\"Germansen Landing\",\"Germansen Landing\",\"Germansen Landing\",\"Germansen Landing\",\"Germansen Landing\",\"Germansen Landing\",\"Germansen Landing\",\"Germansen Landing\",\"Germansen Landing\",\"Germansen Landing\",\"Germansen Landing\",\"Germansen Landing\",\"Germansen Landing\",\"Germansen Landing\",\"Germansen Landing\",\"Germansen Landing\",\"Germansen Landing\",\"Germansen Landing\",\"Germansen Landing\",\"Germansen Landing\",\"Germansen Landing\",\"Germansen Landing\",\"Germansen Landing\",\"Germansen Landing\",\"Germansen Landing\",\"Germansen Landing\",\"Germansen Landing\",\"Germansen Landing\",\"Germansen Landing\",\"Germansen Landing\",\"Germansen Landing\",\"Germansen Landing\",\"Germansen Landing\",\"Germansen Landing\",\"Germansen Landing\",\"Germansen Landing\",\"Germansen Landing\",\"Germansen Landing\",\"Germansen Landing\",\"Germansen Landing\",\"Germansen Landing\",\"Germansen Landing\",\"Germansen Landing\",\"Germansen Landing\",\"Germansen Landing\",\"Germansen Landing\",\"Germansen Landing\",\"Germansen Landing\",\"Germansen Landing\",\"MacKenzie\",\"MacKenzie\",\"MacKenzie\",\"MacKenzie\",\"MacKenzie\",\"MacKenzie\",\"MacKenzie\",\"MacKenzie\",\"MacKenzie\",\"MacKenzie\",\"MacKenzie\",\"MacKenzie\",\"MacKenzie\",\"MacKenzie\",\"MacKenzie\",\"MacKenzie\",\"MacKenzie\",\"MacKenzie\",\"MacKenzie\",\"MacKenzie\",\"MacKenzie\",\"MacKenzie\",\"MacKenzie\",\"MacKenzie\",\"MacKenzie\",\"MacKenzie\",\"MacKenzie\",\"MacKenzie\",\"MacKenzie\",\"MacKenzie\",\"MacKenzie\",\"MacKenzie\",\"MacKenzie\",\"MacKenzie\",\"MacKenzie\",\"MacKenzie\",\"MacKenzie\",\"MacKenzie\",\"MacKenzie\",\"MacKenzie\",\"MacKenzie\",\"MacKenzie\",\"MacKenzie\",\"MacKenzie\",\"MacKenzie\",\"MacKenzie\",\"MacKenzie\",\"MacKenzie\",\"MacKenzie\",\"MacKenzie\",\"MacKenzie\",\"MacKenzie\",\"MacKenzie\",\"MacKenzie\",\"MacKenzie\",\"MacKenzie\",\"MacKenzie\",\"MacKenzie\",\"MacKenzie\",\"MacKenzie\",\"MacKenzie\",\"MacKenzie\",\"MacKenzie\",\"MacKenzie\",\"MacKenzie\",\"MacKenzie\",\"McLeod Lake\",\"McLeod Lake\",\"McLeod Lake\",\"McLeod Lake\",\"McLeod Lake\",\"McLeod Lake\",\"McLeod Lake\",\"McLeod Lake\",\"McLeod Lake\",\"McLeod Lake\",\"McLeod Lake\",\"McLeod Lake\",\"McLeod Lake\",\"McLeod Lake\",\"McLeod Lake\",\"McLeod Lake\",\"McLeod Lake\",\"McLeod Lake\",\"McLeod Lake\",\"McLeod Lake\",\"McLeod Lake\",\"McLeod Lake\",\"McLeod Lake\",\"McLeod Lake\",\"McLeod Lake\",\"McLeod Lake\",\"McLeod Lake\",\"McLeod Lake\",\"McLeod Lake\",\"McLeod Lake\",\"McLeod Lake\",\"McLeod Lake\",\"McLeod Lake\",\"McLeod Lake\",\"McLeod Lake\",\"McLeod Lake\",\"McLeod Lake\",\"McLeod Lake\",\"McLeod Lake\",\"McLeod Lake\",\"McLeod Lake\",\"McLeod Lake\",\"McLeod Lake\",\"McLeod Lake\",\"McLeod Lake\",\"McLeod Lake\",\"McLeod Lake\",\"McLeod Lake\",\"McLeod Lake\",\"McLeod Lake\",\"McLeod Lake\",\"McLeod Lake\",\"McLeod Lake\",\"McLeod Lake\",\"McLeod Lake\",\"McLeod Lake\",\"McLeod Lake\",\"McLeod Lake\",\"McLeod Lake\",\"McLeod Lake\",\"McLeod Lake\",\"McLeod Lake\",\"McLeod Lake\",\"McLeod Lake\",\"McLeod Lake\",\"McLeod Lake\",\"Meander River\",\"Meander River\",\"Meander River\",\"Meander River\",\"Meander River\",\"Meander River\",\"Meander River\",\"Meander River\",\"Meander River\",\"Meander River\",\"Meander River\",\"Meander River\",\"Meander River\",\"Meander River\",\"Meander River\",\"Meander River\",\"Meander River\",\"Meander River\",\"Meander River\",\"Meander River\",\"Meander River\",\"Meander River\",\"Meander River\",\"Meander River\",\"Meander River\",\"Meander River\",\"Meander River\",\"Meander River\",\"Meander River\",\"Meander River\",\"Meander River\",\"Meander River\",\"Meander River\",\"Meander River\",\"Meander River\",\"Meander River\",\"Meander River\",\"Meander River\",\"Meander River\",\"Meander River\",\"Meander River\",\"Meander River\",\"Meander River\",\"Meander River\",\"Meander River\",\"Meander River\",\"Meander River\",\"Meander River\",\"Meander River\",\"Meander River\",\"Meander River\",\"Meander River\",\"Meander River\",\"Meander River\",\"Meander River\",\"Meander River\",\"Meander River\",\"Meander River\",\"Meander River\",\"Meander River\",\"Meander River\",\"Meander River\",\"Meander River\",\"Meander River\",\"Meander River\",\"Meander River\",\"Prespatou\",\"Prespatou\",\"Prespatou\",\"Prespatou\",\"Prespatou\",\"Prespatou\",\"Prespatou\",\"Prespatou\",\"Prespatou\",\"Prespatou\",\"Prespatou\",\"Prespatou\",\"Prespatou\",\"Prespatou\",\"Prespatou\",\"Prespatou\",\"Prespatou\",\"Prespatou\",\"Prespatou\",\"Prespatou\",\"Prespatou\",\"Prespatou\",\"Prespatou\",\"Prespatou\",\"Prespatou\",\"Prespatou\",\"Prespatou\",\"Prespatou\",\"Prespatou\",\"Prespatou\",\"Prespatou\",\"Prespatou\",\"Prespatou\",\"Prespatou\",\"Prespatou\",\"Prespatou\",\"Prespatou\",\"Prespatou\",\"Prespatou\",\"Prespatou\",\"Prespatou\",\"Prespatou\",\"Prespatou\",\"Prespatou\",\"Prespatou\",\"Prespatou\",\"Prespatou\",\"Prespatou\",\"Prespatou\",\"Prespatou\",\"Prespatou\",\"Prespatou\",\"Prespatou\",\"Prespatou\",\"Prespatou\",\"Prespatou\",\"Prespatou\",\"Prespatou\",\"Prespatou\",\"Prespatou\",\"Prespatou\",\"Prespatou\",\"Prespatou\",\"Prespatou\",\"Prespatou\",\"Prespatou\",\"Prophet River\",\"Prophet River\",\"Prophet River\",\"Prophet River\",\"Prophet River\",\"Prophet River\",\"Prophet River\",\"Prophet River\",\"Prophet River\",\"Prophet River\",\"Prophet River\",\"Prophet River\",\"Prophet River\",\"Prophet River\",\"Prophet River\",\"Prophet River\",\"Prophet River\",\"Prophet River\",\"Prophet River\",\"Prophet River\",\"Prophet River\",\"Prophet River\",\"Prophet River\",\"Prophet River\",\"Prophet River\",\"Prophet River\",\"Prophet River\",\"Prophet River\",\"Prophet River\",\"Prophet River\",\"Prophet River\",\"Prophet River\",\"Prophet River\",\"Prophet River\",\"Prophet River\",\"Prophet River\",\"Prophet River\",\"Prophet River\",\"Prophet River\",\"Prophet River\",\"Prophet River\",\"Prophet River\",\"Prophet River\",\"Prophet River\",\"Prophet River\",\"Prophet River\",\"Prophet River\",\"Prophet River\",\"Prophet River\",\"Prophet River\",\"Prophet River\",\"Prophet River\",\"Prophet River\",\"Prophet River\",\"Prophet River\",\"Prophet River\",\"Prophet River\",\"Prophet River\",\"Prophet River\",\"Prophet River\",\"Prophet River\",\"Prophet River\",\"Prophet River\",\"Prophet River\",\"Prophet River\",\"Prophet River\",\"Rainbow Lake\",\"Rainbow Lake\",\"Rainbow Lake\",\"Rainbow Lake\",\"Rainbow Lake\",\"Rainbow Lake\",\"Rainbow Lake\",\"Rainbow Lake\",\"Rainbow Lake\",\"Rainbow Lake\",\"Rainbow Lake\",\"Rainbow Lake\",\"Rainbow Lake\",\"Rainbow Lake\",\"Rainbow Lake\",\"Rainbow Lake\",\"Rainbow Lake\",\"Rainbow Lake\",\"Rainbow Lake\",\"Rainbow Lake\",\"Rainbow Lake\",\"Rainbow Lake\",\"Rainbow Lake\",\"Rainbow Lake\",\"Rainbow Lake\",\"Rainbow Lake\",\"Rainbow Lake\",\"Rainbow Lake\",\"Rainbow Lake\",\"Rainbow Lake\",\"Rainbow Lake\",\"Rainbow Lake\",\"Rainbow Lake\",\"Rainbow Lake\",\"Rainbow Lake\",\"Rainbow Lake\",\"Rainbow Lake\",\"Rainbow Lake\",\"Rainbow Lake\",\"Rainbow Lake\",\"Rainbow Lake\",\"Rainbow Lake\",\"Rainbow Lake\",\"Rainbow Lake\",\"Rainbow Lake\",\"Rainbow Lake\",\"Rainbow Lake\",\"Rainbow Lake\",\"Rainbow Lake\",\"Rainbow Lake\",\"Rainbow Lake\",\"Rainbow Lake\",\"Rainbow Lake\",\"Rainbow Lake\",\"Rainbow Lake\",\"Rainbow Lake\",\"Rainbow Lake\",\"Rainbow Lake\",\"Rainbow Lake\",\"Rainbow Lake\",\"Rainbow Lake\",\"Rainbow Lake\",\"Rainbow Lake\",\"Rainbow Lake\",\"Rainbow Lake\",\"Rainbow Lake\",\"Vanderhoof\",\"Vanderhoof\",\"Vanderhoof\",\"Vanderhoof\",\"Vanderhoof\",\"Vanderhoof\",\"Vanderhoof\",\"Vanderhoof\",\"Vanderhoof\",\"Vanderhoof\",\"Vanderhoof\",\"Vanderhoof\",\"Vanderhoof\",\"Vanderhoof\",\"Vanderhoof\",\"Vanderhoof\",\"Vanderhoof\",\"Vanderhoof\",\"Vanderhoof\",\"Vanderhoof\",\"Vanderhoof\",\"Vanderhoof\",\"Vanderhoof\",\"Vanderhoof\",\"Vanderhoof\",\"Vanderhoof\",\"Vanderhoof\",\"Vanderhoof\",\"Vanderhoof\",\"Vanderhoof\",\"Vanderhoof\",\"Vanderhoof\",\"Vanderhoof\",\"Vanderhoof\",\"Vanderhoof\",\"Vanderhoof\",\"Vanderhoof\",\"Vanderhoof\",\"Vanderhoof\",\"Vanderhoof\",\"Vanderhoof\",\"Vanderhoof\",\"Vanderhoof\",\"Vanderhoof\",\"Vanderhoof\",\"Vanderhoof\",\"Vanderhoof\",\"Vanderhoof\",\"Vanderhoof\",\"Vanderhoof\",\"Vanderhoof\",\"Vanderhoof\",\"Vanderhoof\",\"Vanderhoof\",\"Vanderhoof\",\"Vanderhoof\",\"Vanderhoof\",\"Vanderhoof\",\"Vanderhoof\",\"Vanderhoof\",\"Vanderhoof\",\"Vanderhoof\",\"Vanderhoof\",\"Vanderhoof\",\"Vanderhoof\",\"Vanderhoof\",\"Wonowon\",\"Wonowon\",\"Wonowon\",\"Wonowon\",\"Wonowon\",\"Wonowon\",\"Wonowon\",\"Wonowon\",\"Wonowon\",\"Wonowon\",\"Wonowon\",\"Wonowon\",\"Wonowon\",\"Wonowon\",\"Wonowon\",\"Wonowon\",\"Wonowon\",\"Wonowon\",\"Wonowon\",\"Wonowon\",\"Wonowon\",\"Wonowon\",\"Wonowon\",\"Wonowon\",\"Wonowon\",\"Wonowon\",\"Wonowon\",\"Wonowon\",\"Wonowon\",\"Wonowon\",\"Wonowon\",\"Wonowon\",\"Wonowon\",\"Wonowon\",\"Wonowon\",\"Wonowon\",\"Wonowon\",\"Wonowon\",\"Wonowon\",\"Wonowon\",\"Wonowon\",\"Wonowon\",\"Wonowon\",\"Wonowon\",\"Wonowon\",\"Wonowon\",\"Wonowon\",\"Wonowon\",\"Wonowon\",\"Wonowon\",\"Wonowon\",\"Wonowon\",\"Wonowon\",\"Wonowon\",\"Wonowon\",\"Wonowon\",\"Wonowon\",\"Wonowon\",\"Wonowon\",\"Wonowon\",\"Wonowon\",\"Wonowon\",\"Wonowon\",\"Wonowon\",\"Wonowon\",\"Wonowon\"],\"x\":[0.0,0.0,0.0,0.0,0.0,0.0,0.0,0.0,0.0,0.0,0.0,0.0,0.0,0.0,0.0,0.0,0.0,0.0,0.0,0.0,0.0,0.0,0.0,0.0,0.0,0.0,0.0,0.0,0.0,0.0,0.0,0.0,0.0,0.0,0.0,0.0,0.0,0.0,0.0,0.0,0.0,0.0,0.0,0.0,0.0,0.0,0.0,0.0,0.0,0.0,0.0,0.0,0.0,0.0,0.0,0.0,0.0,0.0,0.0,0.0,0.0,0.0,0.0,0.0,0.0,0.0,0.0,0.0,0.0,0.0,0.0,0.0,0.0,0.0,0.0,0.0,0.0,0.0,0.0,0.0,0.0,0.0,0.0,0.0,0.0,0.0,0.0,0.0,0.0,0.0,0.0,0.0,0.0,0.0,0.0,0.0,0.0,0.0,0.0,0.0,0.0,0.0,0.0,0.0,0.0,0.0,0.0,0.0,0.0,0.0,0.0,0.0,0.0,0.0,0.0,0.0,0.0,0.0,0.0,0.0,0.0,0.0,0.0,0.0,0.0,0.0,0.0,0.0,0.0,0.0,0.0,0.0,0.0,0.0,0.0,0.0,0.0,0.0,0.0,0.0,0.0,0.0,0.0,0.0,0.0,0.0,0.0,0.0,0.0,0.0,0.0,0.0,0.0,0.0,0.0,0.0,0.0,0.0,0.0,0.0,0.0,0.0,0.0,0.0,0.0,0.0,0.0,0.0,0.0,0.0,0.0,0.0,0.0,0.0,0.0,0.0,0.0,0.0,0.0,0.0,0.0,0.0,0.0,0.0,0.0,0.0,0.0,0.0,0.0,0.0,0.0,0.0,0.0,0.0,0.0,0.0,0.0,0.0,0.0,0.0,0.0,0.0,0.0,0.0,0.0,0.0,0.0,0.0,0.0,0.0,0.0,0.0,0.0,0.0,0.0,0.0,0.0,0.0,0.0,0.0,0.0,0.0,0.0,0.0,0.0,0.0,0.0,0.0,0.0,0.0,0.0,0.0,0.0,0.0,0.0,0.0,0.0,0.0,0.0,0.0,0.0,0.0,0.0,0.0,0.0,0.0,0.0,0.0,0.0,0.0,0.0,0.0,0.0,0.0,0.0,0.0,0.0,0.0,0.0,0.0,0.0,0.0,0.0,0.0,0.0,0.0,0.0,0.0,0.0,0.0,0.0,0.0,0.0,0.0,0.0,0.0,0.0,0.0,0.0,0.0,0.0,0.0,0.0,0.0,0.0,0.0,0.0,0.0,0.0,0.0,0.0,0.0,0.0,0.0,0.0,0.0,0.0,0.0,0.0,0.0,0.0,0.0,0.0,0.0,0.0,0.0,0.0,0.0,0.0,0.0,0.0,0.0,0.0,0.0,0.0,0.0,0.0,0.0,0.0,0.0,0.0,0.0,0.0,0.0,0.0,0.0,0.0,0.0,0.0,0.0,21.0,21.0,21.0,21.0,21.0,21.0,21.0,21.0,21.0,21.0,21.0,21.0,21.0,21.0,21.0,21.0,21.0,21.0,21.0,21.0,21.0,21.0,21.0,21.0,21.0,21.0,21.0,21.0,21.0,21.0,21.0,21.0,21.0,21.0,21.0,21.0,21.0,21.0,21.0,21.0,21.0,21.0,21.0,21.0,21.0,21.0,21.0,21.0,21.0,21.0,21.0,21.0,21.0,21.0,21.0,21.0,21.0,21.0,21.0,21.0,21.0,21.0,21.0,21.0,21.0,0.0,0.0,0.0,0.0,0.0,0.0,0.0,0.0,0.0,0.0,0.0,0.0,0.0,0.0,0.0,0.0,0.0,0.0,0.0,0.0,0.0,0.0,0.0,0.0,0.0,0.0,0.0,0.0,0.0,0.0,0.0,0.0,0.0,0.0,0.0,0.0,0.0,0.0,0.0,0.0,0.0,0.0,0.0,0.0,0.0,0.0,0.0,0.0,0.0,0.0,0.0,0.0,0.0,0.0,0.0,0.0,0.0,0.0,0.0,0.0,0.0,0.0,0.0,0.0,0.0,0.0,0.0,0.0,0.0,0.0,0.0,0.0,0.0,0.0,0.0,0.0,0.0,0.0,0.0,0.0,0.0,0.0,0.0,0.0,0.0,0.0,0.0,0.0,0.0,0.0,0.0,0.0,0.0,0.0,0.0,0.0,0.0,0.0,0.0,0.0,0.0,0.0,0.0,0.0,0.0,0.0,0.0,0.0,0.0,0.0,0.0,0.0,0.0,0.0,0.0,0.0,0.0,0.0,0.0,0.0,0.0,0.0,0.0,0.0,0.0,0.0,0.0,0.0,0.0,0.0,0.0,0.0,7.0,0.0,0.0,0.0,0.0,0.0,0.0,0.0,0.0,0.0,0.0,0.0,0.0,0.0,0.0,0.0,0.0,0.0,0.0,0.0,0.0,0.0,0.0,0.0,0.0,0.0,0.0,0.0,0.0,0.0,0.0,0.0,0.0,0.0,0.0,0.0,0.0,0.0,0.0,0.0,0.0,0.0,0.0,0.0,0.0,0.0,0.0,0.0,0.0,0.0,0.0,0.0,0.0,0.0,0.0,0.0,0.0,0.0,0.0,0.0,0.0,0.0,0.0,0.0,0.0,0.0,0.0,0.0,0.0,0.0,0.0,0.0,0.0,0.0,0.0,0.0,0.0,0.0,0.0,0.0,0.0,0.0,0.0,0.0,0.0,0.0,0.0,0.0,0.0,0.0,0.0,0.0,0.0,0.0,0.0,0.0,0.0,0.0,0.0,0.0,0.0,0.0,0.0,0.0,0.0,0.0,0.0,0.0,0.0,0.0,0.0,0.0,0.0,0.0,0.0,0.0,0.0,0.0,0.0,0.0,0.0,0.0,0.0,0.0,0.0,0.0,0.0,0.0,0.0,0.0,0.0,0.0,0.0,0.0,0.0,0.0,0.0,0.0,0.0,0.0,0.0,0.0,0.0,0.0,0.0,0.0,0.0,0.0,0.0,0.0,0.0,0.0,0.0,0.0,0.0,0.0,0.0,0.0,0.0,0.0,0.0,0.0,0.0,0.0,0.0,0.0,0.0,0.0,0.0,0.0,0.0,0.0,0.0,0.0,0.0,0.0,0.0,0.0,0.0,0.0,0.0,0.0,0.0,0.0,0.0,0.0,0.0,0.0,0.0,0.0,0.0,0.0,0.0,0.0,0.0,0.0,0.0,0.0,0.0,0.0,0.0,0.0,0.0,0.0,0.0,0.0,0.0,0.0,0.0,0.0,0.0,0.0,0.0,0.0,0.0,0.0,0.0,0.0,0.0,0.0,0.0,0.0,0.0,0.0,0.0,0.0,0.0,0.0,0.0,0.0,0.0,0.0,0.0,0.0,0.0,0.0,0.0,0.0,0.0,0.0,0.0,0.0,0.0,0.0,0.0,0.0,0.0,0.0,0.0,0.0,0.0,0.0,0.0,0.0,0.0,0.0,0.0,0.0,0.0,0.0,0.0,0.0,0.0,0.0,0.0,91.0,91.0,91.0,91.0,91.0,91.0,91.0,91.0,91.0,91.0,91.0,91.0,91.0,91.0,91.0,91.0,91.0,91.0,91.0,91.0,91.0,91.0,91.0,91.0,91.0,91.0,91.0,91.0,91.0,91.0,91.0,91.0,91.0,91.0,91.0,91.0,91.0,91.0,91.0,91.0,91.0,91.0,91.0,91.0,91.0,91.0,91.0,91.0,91.0,91.0,91.0,91.0,91.0,91.0,91.0,91.0,91.0,91.0,91.0,91.0,91.0,91.0,91.0,91.0,91.0,0.0,69.0,69.0,69.0,69.0,69.0,69.0,69.0,69.0,69.0,69.0,69.0,69.0,69.0,69.0,69.0,69.0,69.0,69.0,69.0,69.0,69.0,69.0,69.0,69.0,69.0,69.0,69.0,69.0,69.0,69.0,69.0,69.0,69.0,69.0,69.0,69.0,69.0,69.0,69.0,69.0,69.0,69.0,69.0,69.0,69.0,69.0,69.0,69.0,69.0,69.0,69.0,69.0,69.0,69.0,69.0,69.0,69.0,69.0,69.0,69.0,69.0,69.0,69.0,69.0,69.0,0.0,91.0,91.0,91.0,91.0,91.0,91.0,91.0,91.0,91.0,91.0,91.0,91.0,91.0,91.0,91.0,91.0,91.0,91.0,91.0,91.0,91.0,91.0,91.0,91.0,91.0,91.0,91.0,91.0,91.0,91.0,91.0,91.0,91.0,91.0,91.0,91.0,91.0,91.0,91.0,91.0,91.0,91.0,91.0,91.0,91.0,91.0,91.0,91.0,91.0,91.0,91.0,91.0,91.0,91.0,91.0,91.0,91.0,91.0,91.0,91.0,91.0,91.0,91.0,91.0,91.0,0.0,0.0,0.0,0.0,0.0,0.0,0.0,0.0,0.0,0.0,0.0,0.0,0.0,0.0,0.0,0.0,0.0,0.0,0.0,0.0,0.0,0.0,0.0,0.0,0.0,0.0,0.0,0.0,0.0,0.0,0.0,0.0,0.0,0.0,0.0,0.0,0.0,0.0,0.0,0.0,0.0,0.0,0.0,0.0,0.0,0.0,0.0,0.0,0.0,0.0,0.0,0.0,0.0,0.0,0.0,0.0,0.0,0.0,0.0,0.0,0.0,0.0,0.0,0.0,0.0,0.0,1.1818181818181819,83.0,83.0,83.0,83.0,83.0,83.0,83.0,83.0,83.0,83.0,83.0,83.0,83.0,83.0,83.0,83.0,83.0,83.0,83.0,83.0,83.0,83.0,83.0,83.0,83.0,83.0,83.0,83.0,83.0,83.0,83.0,83.0,83.0,83.0,83.0,83.0,83.0,83.0,83.0,83.0,83.0,83.0,83.0,83.0,83.0,83.0,83.0,83.0,83.0,83.0,83.0,83.0,83.0,83.0,83.0,83.0,83.0,83.0,83.0,83.0,83.0,83.0,83.0,83.0,83.0,0.0],\"y\":[2.2202298e-16,2.2202298e-16,2.2202298e-16,2.2202298e-16,2.2202298e-16,2.2202298e-16,2.2202298e-16,2.2202298e-16,2.2202298e-16,2.2202298e-16,2.2202298e-16,2.2202298e-16,2.2202298e-16,2.2202298e-16,2.2202298e-16,2.2202298e-16,2.2202298e-16,2.2202298e-16,2.2202298e-16,2.2202298e-16,2.2202298e-16,2.2202298e-16,2.2202298e-16,2.2202298e-16,2.2202298e-16,2.2202298e-16,2.2202298e-16,2.2202298e-16,2.2202298e-16,2.2202298e-16,2.2202298e-16,2.2202298e-16,2.2202298e-16,2.2202298e-16,2.2202298e-16,2.2202298e-16,2.2202298e-16,2.2202298e-16,2.2202298e-16,2.2202298e-16,2.2202298e-16,2.2202298e-16,2.2202298e-16,2.2202298e-16,2.2202298e-16,2.2202298e-16,2.2202298e-16,2.2202298e-16,2.2202298e-16,2.2202298e-16,2.2202298e-16,2.2202298e-16,2.2202298e-16,2.2202298e-16,2.2202298e-16,2.2202298e-16,2.2202298e-16,2.2202298e-16,2.2202298e-16,2.2202298e-16,2.2202298e-16,2.2202298e-16,2.2202298e-16,2.2202298e-16,2.2202298e-16,2.2202298e-16,1.6371573e-16,1.6371573e-16,1.6371573e-16,1.6371573e-16,1.6371573e-16,1.6371573e-16,1.6371573e-16,1.6371573e-16,1.6371573e-16,1.6371573e-16,1.6371573e-16,1.6371573e-16,1.6371573e-16,1.6371573e-16,1.6371573e-16,1.6371573e-16,1.6371573e-16,1.6371573e-16,1.6371573e-16,1.6371573e-16,1.6371573e-16,1.6371573e-16,1.6371573e-16,1.6371573e-16,1.6371573e-16,1.6371573e-16,1.6371573e-16,1.6371573e-16,1.6371573e-16,1.6371573e-16,1.6371573e-16,1.6371573e-16,1.6371573e-16,1.6371573e-16,1.6371573e-16,1.6371573e-16,1.6371573e-16,1.6371573e-16,1.6371573e-16,1.6371573e-16,1.6371573e-16,1.6371573e-16,1.6371573e-16,1.6371573e-16,1.6371573e-16,1.6371573e-16,1.6371573e-16,1.6371573e-16,1.6371573e-16,1.6371573e-16,1.6371573e-16,1.6371573e-16,1.6371573e-16,1.6371573e-16,1.6371573e-16,1.6371573e-16,1.6371573e-16,1.6371573e-16,1.6371573e-16,1.6371573e-16,1.6371573e-16,1.6371573e-16,1.6371573e-16,1.6371573e-16,1.6371573e-16,1.6371573e-16,2.2201874e-16,2.2201874e-16,2.2201874e-16,2.2201874e-16,2.2201874e-16,2.2201874e-16,2.2201874e-16,2.2201874e-16,2.2201874e-16,2.2201874e-16,2.2201874e-16,2.2201874e-16,2.2201874e-16,2.2201874e-16,2.2201874e-16,2.2201874e-16,2.2201874e-16,2.2201874e-16,2.2201874e-16,2.2201874e-16,2.2201874e-16,2.2201874e-16,2.2201874e-16,2.2201874e-16,2.2201874e-16,2.2201874e-16,2.2201874e-16,2.2201874e-16,2.2201874e-16,2.2201874e-16,2.2201874e-16,2.2201874e-16,2.2201874e-16,2.2201874e-16,2.2201874e-16,2.2201874e-16,2.2201874e-16,2.2201874e-16,2.2201874e-16,2.2201874e-16,2.2201874e-16,2.2201874e-16,2.2201874e-16,2.2201874e-16,2.2201874e-16,2.2201874e-16,2.2201874e-16,2.2201874e-16,2.2201874e-16,2.2201874e-16,2.2201874e-16,2.2201874e-16,2.2201874e-16,2.2201874e-16,2.2201874e-16,2.2201874e-16,2.2201874e-16,2.2201874e-16,2.2201874e-16,2.2201874e-16,2.2201874e-16,2.2201874e-16,2.2201874e-16,2.2201874e-16,2.2201874e-16,2.2201874e-16,2.164838e-17,2.164838e-17,2.164838e-17,2.164838e-17,2.164838e-17,2.164838e-17,2.164838e-17,2.164838e-17,2.164838e-17,2.164838e-17,2.164838e-17,2.164838e-17,2.164838e-17,2.164838e-17,2.164838e-17,2.164838e-17,2.164838e-17,2.164838e-17,2.164838e-17,2.164838e-17,2.164838e-17,2.164838e-17,2.164838e-17,2.164838e-17,2.164838e-17,2.164838e-17,2.164838e-17,2.164838e-17,2.164838e-17,2.164838e-17,2.164838e-17,2.164838e-17,2.164838e-17,2.164838e-17,2.164838e-17,2.164838e-17,2.164838e-17,2.164838e-17,2.164838e-17,2.164838e-17,2.164838e-17,2.164838e-17,2.164838e-17,2.164838e-17,2.164838e-17,2.164838e-17,2.164838e-17,2.164838e-17,2.164838e-17,2.164838e-17,2.164838e-17,2.164838e-17,2.164838e-17,2.164838e-17,2.164838e-17,2.164838e-17,2.164838e-17,2.164838e-17,2.164838e-17,2.164838e-17,2.164838e-17,2.164838e-17,2.164838e-17,2.164838e-17,2.164838e-17,2.164838e-17,1.9984174e-16,1.9984174e-16,1.9984174e-16,1.9984174e-16,1.9984174e-16,1.9984174e-16,1.9984174e-16,1.9984174e-16,1.9984174e-16,1.9984174e-16,1.9984174e-16,1.9984174e-16,1.9984174e-16,1.9984174e-16,1.9984174e-16,1.9984174e-16,1.9984174e-16,1.9984174e-16,1.9984174e-16,1.9984174e-16,1.9984174e-16,1.9984174e-16,1.9984174e-16,1.9984174e-16,1.9984174e-16,1.9984174e-16,1.9984174e-16,1.9984174e-16,1.9984174e-16,1.9984174e-16,1.9984174e-16,1.9984174e-16,1.9984174e-16,1.9984174e-16,1.9984174e-16,1.9984174e-16,1.9984174e-16,1.9984174e-16,1.9984174e-16,1.9984174e-16,1.9984174e-16,1.9984174e-16,1.9984174e-16,1.9984174e-16,1.9984174e-16,1.9984174e-16,1.9984174e-16,1.9984174e-16,1.9984174e-16,1.9984174e-16,1.9984174e-16,1.9984174e-16,1.9984174e-16,1.9984174e-16,1.9984174e-16,1.9984174e-16,1.9984174e-16,1.9984174e-16,1.9984174e-16,1.9984174e-16,1.9984174e-16,1.9984174e-16,1.9984174e-16,1.9984174e-16,1.9984174e-16,1.9984174e-16,19.862514,19.862514,19.862514,19.862514,19.862514,19.862514,19.862514,19.862514,19.862514,19.862514,19.862514,19.862514,19.862514,19.862514,19.862514,19.862514,19.862514,19.862514,19.862514,19.862514,19.862514,19.862514,19.862514,19.862514,19.862514,19.862514,19.862514,19.862514,19.862514,19.862514,19.862514,19.862514,19.862514,19.862514,19.862514,19.862514,19.862514,19.862514,19.862514,19.862514,19.862514,19.862514,19.862514,19.862514,19.862514,19.862514,19.862514,19.862514,19.862514,19.862514,19.862514,19.862514,19.862514,19.862514,19.862514,19.862514,19.862514,19.862514,19.862514,19.862514,19.862514,19.862514,19.862514,19.862514,19.862514,19.862514,3.5276027e-18,3.5276027e-18,3.5276027e-18,3.5276027e-18,3.5276027e-18,3.5276027e-18,3.5276027e-18,3.5276027e-18,3.5276027e-18,3.5276027e-18,3.5276027e-18,3.5276027e-18,3.5276027e-18,3.5276027e-18,3.5276027e-18,3.5276027e-18,3.5276027e-18,3.5276027e-18,3.5276027e-18,3.5276027e-18,3.5276027e-18,3.5276027e-18,3.5276027e-18,3.5276027e-18,3.5276027e-18,3.5276027e-18,3.5276027e-18,3.5276027e-18,3.5276027e-18,3.5276027e-18,3.5276027e-18,3.5276027e-18,3.5276027e-18,3.5276027e-18,3.5276027e-18,3.5276027e-18,3.5276027e-18,3.5276027e-18,3.5276027e-18,3.5276027e-18,3.5276027e-18,3.5276027e-18,3.5276027e-18,3.5276027e-18,3.5276027e-18,3.5276027e-18,3.5276027e-18,3.5276027e-18,3.5276027e-18,3.5276027e-18,3.5276027e-18,3.5276027e-18,3.5276027e-18,3.5276027e-18,3.5276027e-18,3.5276027e-18,3.5276027e-18,3.5276027e-18,3.5276027e-18,3.5276027e-18,3.5276027e-18,3.5276027e-18,3.5276027e-18,3.5276027e-18,3.5276027e-18,3.5276027e-18,8.104141e-18,8.104141e-18,8.104141e-18,8.104141e-18,8.104141e-18,8.104141e-18,8.104141e-18,8.104141e-18,8.104141e-18,8.104141e-18,8.104141e-18,8.104141e-18,8.104141e-18,8.104141e-18,8.104141e-18,8.104141e-18,8.104141e-18,8.104141e-18,8.104141e-18,8.104141e-18,8.104141e-18,8.104141e-18,8.104141e-18,8.104141e-18,8.104141e-18,8.104141e-18,8.104141e-18,8.104141e-18,8.104141e-18,8.104141e-18,8.104141e-18,8.104141e-18,8.104141e-18,8.104141e-18,8.104141e-18,8.104141e-18,8.104141e-18,8.104141e-18,8.104141e-18,8.104141e-18,8.104141e-18,8.104141e-18,8.104141e-18,8.104141e-18,8.104141e-18,8.104141e-18,8.104141e-18,8.104141e-18,8.104141e-18,8.104141e-18,8.104141e-18,8.104141e-18,8.104141e-18,8.104141e-18,8.104141e-18,8.104141e-18,8.104141e-18,8.104141e-18,8.104141e-18,8.104141e-18,8.104141e-18,8.104141e-18,8.104141e-18,8.104141e-18,8.104141e-18,8.104141e-18,1.098096e-16,1.098096e-16,1.098096e-16,1.098096e-16,1.098096e-16,1.098096e-16,1.098096e-16,1.098096e-16,1.098096e-16,1.098096e-16,1.098096e-16,1.098096e-16,1.098096e-16,1.098096e-16,1.098096e-16,1.098096e-16,1.098096e-16,1.098096e-16,1.098096e-16,1.098096e-16,1.098096e-16,1.098096e-16,1.098096e-16,1.098096e-16,1.098096e-16,1.098096e-16,1.098096e-16,1.098096e-16,1.098096e-16,1.098096e-16,1.098096e-16,1.098096e-16,1.098096e-16,1.098096e-16,1.098096e-16,1.098096e-16,1.098096e-16,1.098096e-16,1.098096e-16,1.098096e-16,1.098096e-16,1.098096e-16,1.098096e-16,1.098096e-16,1.098096e-16,1.098096e-16,1.098096e-16,1.098096e-16,1.098096e-16,1.098096e-16,1.098096e-16,1.098096e-16,1.098096e-16,1.098096e-16,1.098096e-16,1.098096e-16,1.098096e-16,1.098096e-16,1.098096e-16,1.098096e-16,1.098096e-16,1.098096e-16,1.098096e-16,1.098096e-16,1.098096e-16,1.098096e-16,4.173087e-18,4.173087e-18,4.173087e-18,4.173087e-18,4.173087e-18,4.173087e-18,4.173087e-18,4.173087e-18,4.173087e-18,4.173087e-18,4.173087e-18,4.173087e-18,4.173087e-18,4.173087e-18,4.173087e-18,4.173087e-18,4.173087e-18,4.173087e-18,4.173087e-18,4.173087e-18,4.173087e-18,4.173087e-18,4.173087e-18,4.173087e-18,4.173087e-18,4.173087e-18,4.173087e-18,4.173087e-18,4.173087e-18,4.173087e-18,4.173087e-18,4.173087e-18,4.173087e-18,4.173087e-18,4.173087e-18,4.173087e-18,4.173087e-18,4.173087e-18,4.173087e-18,4.173087e-18,4.173087e-18,4.173087e-18,4.173087e-18,4.173087e-18,4.173087e-18,4.173087e-18,4.173087e-18,4.173087e-18,4.173087e-18,4.173087e-18,4.173087e-18,4.173087e-18,4.173087e-18,4.173087e-18,4.173087e-18,4.173087e-18,4.173087e-18,4.173087e-18,4.173087e-18,4.173087e-18,4.173087e-18,4.173087e-18,4.173087e-18,4.173087e-18,4.173087e-18,4.173087e-18,2.2202638e-16,2.2202638e-16,2.2202638e-16,2.2202638e-16,2.2202638e-16,2.2202638e-16,2.2202638e-16,2.2202638e-16,2.2202638e-16,2.2202638e-16,2.2202638e-16,2.2202638e-16,2.2202638e-16,2.2202638e-16,2.2202638e-16,2.2202638e-16,2.2202638e-16,2.2202638e-16,2.2202638e-16,2.2202638e-16,2.2202638e-16,2.2202638e-16,2.2202638e-16,2.2202638e-16,2.2202638e-16,2.2202638e-16,2.2202638e-16,2.2202638e-16,2.2202638e-16,2.2202638e-16,2.2202638e-16,2.2202638e-16,2.2202638e-16,2.2202638e-16,2.2202638e-16,2.2202638e-16,2.2202638e-16,2.2202638e-16,2.2202638e-16,2.2202638e-16,2.2202638e-16,2.2202638e-16,2.2202638e-16,2.2202638e-16,2.2202638e-16,2.2202638e-16,2.2202638e-16,2.2202638e-16,2.2202638e-16,2.2202638e-16,2.2202638e-16,2.2202638e-16,2.2202638e-16,2.2202638e-16,2.2202638e-16,2.2202638e-16,2.2202638e-16,2.2202638e-16,2.2202638e-16,2.2202638e-16,2.2202638e-16,2.2202638e-16,2.2202638e-16,2.2202638e-16,2.2202638e-16,2.2202638e-16,1.0518904e-18,1.0518904e-18,1.0518904e-18,1.0518904e-18,1.0518904e-18,1.0518904e-18,1.0518904e-18,1.0518904e-18,1.0518904e-18,1.0518904e-18,1.0518904e-18,1.0518904e-18,1.0518904e-18,1.0518904e-18,1.0518904e-18,1.0518904e-18,1.0518904e-18,1.0518904e-18,1.0518904e-18,1.0518904e-18,1.0518904e-18,1.0518904e-18,1.0518904e-18,1.0518904e-18,1.0518904e-18,1.0518904e-18,1.0518904e-18,1.0518904e-18,1.0518904e-18,1.0518904e-18,1.0518904e-18,1.0518904e-18,1.0518904e-18,1.0518904e-18,1.0518904e-18,1.0518904e-18,1.0518904e-18,1.0518904e-18,1.0518904e-18,1.0518904e-18,1.0518904e-18,1.0518904e-18,1.0518904e-18,1.0518904e-18,1.0518904e-18,1.0518904e-18,1.0518904e-18,1.0518904e-18,1.0518904e-18,1.0518904e-18,1.0518904e-18,1.0518904e-18,1.0518904e-18,1.0518904e-18,1.0518904e-18,1.0518904e-18,1.0518904e-18,1.0518904e-18,1.0518904e-18,1.0518904e-18,1.0518904e-18,1.0518904e-18,1.0518904e-18,1.0518904e-18,1.0518904e-18,1.0518904e-18,59.066837,59.066837,59.066837,59.066837,59.066837,59.066837,59.066837,59.066837,59.066837,59.066837,59.066837,59.066837,59.066837,59.066837,59.066837,59.066837,59.066837,59.066837,59.066837,59.066837,59.066837,59.066837,59.066837,59.066837,59.066837,59.066837,59.066837,59.066837,59.066837,59.066837,59.066837,59.066837,59.066837,59.066837,59.066837,59.066837,59.066837,59.066837,59.066837,59.066837,59.066837,59.066837,59.066837,59.066837,59.066837,59.066837,59.066837,59.066837,59.066837,59.066837,59.066837,59.066837,59.066837,59.066837,59.066837,59.066837,59.066837,59.066837,59.066837,59.066837,59.066837,59.066837,59.066837,59.066837,59.066837,59.066837,63.2374,63.2374,63.2374,63.2374,63.2374,63.2374,63.2374,63.2374,63.2374,63.2374,63.2374,63.2374,63.2374,63.2374,63.2374,63.2374,63.2374,63.2374,63.2374,63.2374,63.2374,63.2374,63.2374,63.2374,63.2374,63.2374,63.2374,63.2374,63.2374,63.2374,63.2374,63.2374,63.2374,63.2374,63.2374,63.2374,63.2374,63.2374,63.2374,63.2374,63.2374,63.2374,63.2374,63.2374,63.2374,63.2374,63.2374,63.2374,63.2374,63.2374,63.2374,63.2374,63.2374,63.2374,63.2374,63.2374,63.2374,63.2374,63.2374,63.2374,63.2374,63.2374,63.2374,63.2374,63.2374,63.2374,65.32353,65.32353,65.32353,65.32353,65.32353,65.32353,65.32353,65.32353,65.32353,65.32353,65.32353,65.32353,65.32353,65.32353,65.32353,65.32353,65.32353,65.32353,65.32353,65.32353,65.32353,65.32353,65.32353,65.32353,65.32353,65.32353,65.32353,65.32353,65.32353,65.32353,65.32353,65.32353,65.32353,65.32353,65.32353,65.32353,65.32353,65.32353,65.32353,65.32353,65.32353,65.32353,65.32353,65.32353,65.32353,65.32353,65.32353,65.32353,65.32353,65.32353,65.32353,65.32353,65.32353,65.32353,65.32353,65.32353,65.32353,65.32353,65.32353,65.32353,65.32353,65.32353,65.32353,65.32353,65.32353,65.32353,1.4000784e-16,1.4000784e-16,1.4000784e-16,1.4000784e-16,1.4000784e-16,1.4000784e-16,1.4000784e-16,1.4000784e-16,1.4000784e-16,1.4000784e-16,1.4000784e-16,1.4000784e-16,1.4000784e-16,1.4000784e-16,1.4000784e-16,1.4000784e-16,1.4000784e-16,1.4000784e-16,1.4000784e-16,1.4000784e-16,1.4000784e-16,1.4000784e-16,1.4000784e-16,1.4000784e-16,1.4000784e-16,1.4000784e-16,1.4000784e-16,1.4000784e-16,1.4000784e-16,1.4000784e-16,1.4000784e-16,1.4000784e-16,1.4000784e-16,1.4000784e-16,1.4000784e-16,1.4000784e-16,1.4000784e-16,1.4000784e-16,1.4000784e-16,1.4000784e-16,1.4000784e-16,1.4000784e-16,1.4000784e-16,1.4000784e-16,1.4000784e-16,1.4000784e-16,1.4000784e-16,1.4000784e-16,1.4000784e-16,1.4000784e-16,1.4000784e-16,1.4000784e-16,1.4000784e-16,1.4000784e-16,1.4000784e-16,1.4000784e-16,1.4000784e-16,1.4000784e-16,1.4000784e-16,1.4000784e-16,1.4000784e-16,1.4000784e-16,1.4000784e-16,1.4000784e-16,1.4000784e-16,1.4000784e-16,79.9456,79.9456,79.9456,79.9456,79.9456,79.9456,79.9456,79.9456,79.9456,79.9456,79.9456,79.9456,79.9456,79.9456,79.9456,79.9456,79.9456,79.9456,79.9456,79.9456,79.9456,79.9456,79.9456,79.9456,79.9456,79.9456,79.9456,79.9456,79.9456,79.9456,79.9456,79.9456,79.9456,79.9456,79.9456,79.9456,79.9456,79.9456,79.9456,79.9456,79.9456,79.9456,79.9456,79.9456,79.9456,79.9456,79.9456,79.9456,79.9456,79.9456,79.9456,79.9456,79.9456,79.9456,79.9456,79.9456,79.9456,79.9456,79.9456,79.9456,79.9456,79.9456,79.9456,79.9456,79.9456,79.9456],\"type\":\"scatter\"},{\"line\":{\"color\":\"red\",\"dash\":\"dash\"},\"mode\":\"lines\",\"name\":\"Perfect Prediction\",\"x\":[0,91.0],\"y\":[0,91.0],\"type\":\"scatter\"}],                        {\"template\":{\"data\":{\"histogram2dcontour\":[{\"type\":\"histogram2dcontour\",\"colorbar\":{\"outlinewidth\":0,\"ticks\":\"\"},\"colorscale\":[[0.0,\"#0d0887\"],[0.1111111111111111,\"#46039f\"],[0.2222222222222222,\"#7201a8\"],[0.3333333333333333,\"#9c179e\"],[0.4444444444444444,\"#bd3786\"],[0.5555555555555556,\"#d8576b\"],[0.6666666666666666,\"#ed7953\"],[0.7777777777777778,\"#fb9f3a\"],[0.8888888888888888,\"#fdca26\"],[1.0,\"#f0f921\"]]}],\"choropleth\":[{\"type\":\"choropleth\",\"colorbar\":{\"outlinewidth\":0,\"ticks\":\"\"}}],\"histogram2d\":[{\"type\":\"histogram2d\",\"colorbar\":{\"outlinewidth\":0,\"ticks\":\"\"},\"colorscale\":[[0.0,\"#0d0887\"],[0.1111111111111111,\"#46039f\"],[0.2222222222222222,\"#7201a8\"],[0.3333333333333333,\"#9c179e\"],[0.4444444444444444,\"#bd3786\"],[0.5555555555555556,\"#d8576b\"],[0.6666666666666666,\"#ed7953\"],[0.7777777777777778,\"#fb9f3a\"],[0.8888888888888888,\"#fdca26\"],[1.0,\"#f0f921\"]]}],\"heatmap\":[{\"type\":\"heatmap\",\"colorbar\":{\"outlinewidth\":0,\"ticks\":\"\"},\"colorscale\":[[0.0,\"#0d0887\"],[0.1111111111111111,\"#46039f\"],[0.2222222222222222,\"#7201a8\"],[0.3333333333333333,\"#9c179e\"],[0.4444444444444444,\"#bd3786\"],[0.5555555555555556,\"#d8576b\"],[0.6666666666666666,\"#ed7953\"],[0.7777777777777778,\"#fb9f3a\"],[0.8888888888888888,\"#fdca26\"],[1.0,\"#f0f921\"]]}],\"heatmapgl\":[{\"type\":\"heatmapgl\",\"colorbar\":{\"outlinewidth\":0,\"ticks\":\"\"},\"colorscale\":[[0.0,\"#0d0887\"],[0.1111111111111111,\"#46039f\"],[0.2222222222222222,\"#7201a8\"],[0.3333333333333333,\"#9c179e\"],[0.4444444444444444,\"#bd3786\"],[0.5555555555555556,\"#d8576b\"],[0.6666666666666666,\"#ed7953\"],[0.7777777777777778,\"#fb9f3a\"],[0.8888888888888888,\"#fdca26\"],[1.0,\"#f0f921\"]]}],\"contourcarpet\":[{\"type\":\"contourcarpet\",\"colorbar\":{\"outlinewidth\":0,\"ticks\":\"\"}}],\"contour\":[{\"type\":\"contour\",\"colorbar\":{\"outlinewidth\":0,\"ticks\":\"\"},\"colorscale\":[[0.0,\"#0d0887\"],[0.1111111111111111,\"#46039f\"],[0.2222222222222222,\"#7201a8\"],[0.3333333333333333,\"#9c179e\"],[0.4444444444444444,\"#bd3786\"],[0.5555555555555556,\"#d8576b\"],[0.6666666666666666,\"#ed7953\"],[0.7777777777777778,\"#fb9f3a\"],[0.8888888888888888,\"#fdca26\"],[1.0,\"#f0f921\"]]}],\"surface\":[{\"type\":\"surface\",\"colorbar\":{\"outlinewidth\":0,\"ticks\":\"\"},\"colorscale\":[[0.0,\"#0d0887\"],[0.1111111111111111,\"#46039f\"],[0.2222222222222222,\"#7201a8\"],[0.3333333333333333,\"#9c179e\"],[0.4444444444444444,\"#bd3786\"],[0.5555555555555556,\"#d8576b\"],[0.6666666666666666,\"#ed7953\"],[0.7777777777777778,\"#fb9f3a\"],[0.8888888888888888,\"#fdca26\"],[1.0,\"#f0f921\"]]}],\"mesh3d\":[{\"type\":\"mesh3d\",\"colorbar\":{\"outlinewidth\":0,\"ticks\":\"\"}}],\"scatter\":[{\"fillpattern\":{\"fillmode\":\"overlay\",\"size\":10,\"solidity\":0.2},\"type\":\"scatter\"}],\"parcoords\":[{\"type\":\"parcoords\",\"line\":{\"colorbar\":{\"outlinewidth\":0,\"ticks\":\"\"}}}],\"scatterpolargl\":[{\"type\":\"scatterpolargl\",\"marker\":{\"colorbar\":{\"outlinewidth\":0,\"ticks\":\"\"}}}],\"bar\":[{\"error_x\":{\"color\":\"#2a3f5f\"},\"error_y\":{\"color\":\"#2a3f5f\"},\"marker\":{\"line\":{\"color\":\"#E5ECF6\",\"width\":0.5},\"pattern\":{\"fillmode\":\"overlay\",\"size\":10,\"solidity\":0.2}},\"type\":\"bar\"}],\"scattergeo\":[{\"type\":\"scattergeo\",\"marker\":{\"colorbar\":{\"outlinewidth\":0,\"ticks\":\"\"}}}],\"scatterpolar\":[{\"type\":\"scatterpolar\",\"marker\":{\"colorbar\":{\"outlinewidth\":0,\"ticks\":\"\"}}}],\"histogram\":[{\"marker\":{\"pattern\":{\"fillmode\":\"overlay\",\"size\":10,\"solidity\":0.2}},\"type\":\"histogram\"}],\"scattergl\":[{\"type\":\"scattergl\",\"marker\":{\"colorbar\":{\"outlinewidth\":0,\"ticks\":\"\"}}}],\"scatter3d\":[{\"type\":\"scatter3d\",\"line\":{\"colorbar\":{\"outlinewidth\":0,\"ticks\":\"\"}},\"marker\":{\"colorbar\":{\"outlinewidth\":0,\"ticks\":\"\"}}}],\"scattermapbox\":[{\"type\":\"scattermapbox\",\"marker\":{\"colorbar\":{\"outlinewidth\":0,\"ticks\":\"\"}}}],\"scatterternary\":[{\"type\":\"scatterternary\",\"marker\":{\"colorbar\":{\"outlinewidth\":0,\"ticks\":\"\"}}}],\"scattercarpet\":[{\"type\":\"scattercarpet\",\"marker\":{\"colorbar\":{\"outlinewidth\":0,\"ticks\":\"\"}}}],\"carpet\":[{\"aaxis\":{\"endlinecolor\":\"#2a3f5f\",\"gridcolor\":\"white\",\"linecolor\":\"white\",\"minorgridcolor\":\"white\",\"startlinecolor\":\"#2a3f5f\"},\"baxis\":{\"endlinecolor\":\"#2a3f5f\",\"gridcolor\":\"white\",\"linecolor\":\"white\",\"minorgridcolor\":\"white\",\"startlinecolor\":\"#2a3f5f\"},\"type\":\"carpet\"}],\"table\":[{\"cells\":{\"fill\":{\"color\":\"#EBF0F8\"},\"line\":{\"color\":\"white\"}},\"header\":{\"fill\":{\"color\":\"#C8D4E3\"},\"line\":{\"color\":\"white\"}},\"type\":\"table\"}],\"barpolar\":[{\"marker\":{\"line\":{\"color\":\"#E5ECF6\",\"width\":0.5},\"pattern\":{\"fillmode\":\"overlay\",\"size\":10,\"solidity\":0.2}},\"type\":\"barpolar\"}],\"pie\":[{\"automargin\":true,\"type\":\"pie\"}]},\"layout\":{\"autotypenumbers\":\"strict\",\"colorway\":[\"#636efa\",\"#EF553B\",\"#00cc96\",\"#ab63fa\",\"#FFA15A\",\"#19d3f3\",\"#FF6692\",\"#B6E880\",\"#FF97FF\",\"#FECB52\"],\"font\":{\"color\":\"#2a3f5f\"},\"hovermode\":\"closest\",\"hoverlabel\":{\"align\":\"left\"},\"paper_bgcolor\":\"white\",\"plot_bgcolor\":\"#E5ECF6\",\"polar\":{\"bgcolor\":\"#E5ECF6\",\"angularaxis\":{\"gridcolor\":\"white\",\"linecolor\":\"white\",\"ticks\":\"\"},\"radialaxis\":{\"gridcolor\":\"white\",\"linecolor\":\"white\",\"ticks\":\"\"}},\"ternary\":{\"bgcolor\":\"#E5ECF6\",\"aaxis\":{\"gridcolor\":\"white\",\"linecolor\":\"white\",\"ticks\":\"\"},\"baxis\":{\"gridcolor\":\"white\",\"linecolor\":\"white\",\"ticks\":\"\"},\"caxis\":{\"gridcolor\":\"white\",\"linecolor\":\"white\",\"ticks\":\"\"}},\"coloraxis\":{\"colorbar\":{\"outlinewidth\":0,\"ticks\":\"\"}},\"colorscale\":{\"sequential\":[[0.0,\"#0d0887\"],[0.1111111111111111,\"#46039f\"],[0.2222222222222222,\"#7201a8\"],[0.3333333333333333,\"#9c179e\"],[0.4444444444444444,\"#bd3786\"],[0.5555555555555556,\"#d8576b\"],[0.6666666666666666,\"#ed7953\"],[0.7777777777777778,\"#fb9f3a\"],[0.8888888888888888,\"#fdca26\"],[1.0,\"#f0f921\"]],\"sequentialminus\":[[0.0,\"#0d0887\"],[0.1111111111111111,\"#46039f\"],[0.2222222222222222,\"#7201a8\"],[0.3333333333333333,\"#9c179e\"],[0.4444444444444444,\"#bd3786\"],[0.5555555555555556,\"#d8576b\"],[0.6666666666666666,\"#ed7953\"],[0.7777777777777778,\"#fb9f3a\"],[0.8888888888888888,\"#fdca26\"],[1.0,\"#f0f921\"]],\"diverging\":[[0,\"#8e0152\"],[0.1,\"#c51b7d\"],[0.2,\"#de77ae\"],[0.3,\"#f1b6da\"],[0.4,\"#fde0ef\"],[0.5,\"#f7f7f7\"],[0.6,\"#e6f5d0\"],[0.7,\"#b8e186\"],[0.8,\"#7fbc41\"],[0.9,\"#4d9221\"],[1,\"#276419\"]]},\"xaxis\":{\"gridcolor\":\"white\",\"linecolor\":\"white\",\"ticks\":\"\",\"title\":{\"standoff\":15},\"zerolinecolor\":\"white\",\"automargin\":true,\"zerolinewidth\":2},\"yaxis\":{\"gridcolor\":\"white\",\"linecolor\":\"white\",\"ticks\":\"\",\"title\":{\"standoff\":15},\"zerolinecolor\":\"white\",\"automargin\":true,\"zerolinewidth\":2},\"scene\":{\"xaxis\":{\"backgroundcolor\":\"#E5ECF6\",\"gridcolor\":\"white\",\"linecolor\":\"white\",\"showbackground\":true,\"ticks\":\"\",\"zerolinecolor\":\"white\",\"gridwidth\":2},\"yaxis\":{\"backgroundcolor\":\"#E5ECF6\",\"gridcolor\":\"white\",\"linecolor\":\"white\",\"showbackground\":true,\"ticks\":\"\",\"zerolinecolor\":\"white\",\"gridwidth\":2},\"zaxis\":{\"backgroundcolor\":\"#E5ECF6\",\"gridcolor\":\"white\",\"linecolor\":\"white\",\"showbackground\":true,\"ticks\":\"\",\"zerolinecolor\":\"white\",\"gridwidth\":2}},\"shapedefaults\":{\"line\":{\"color\":\"#2a3f5f\"}},\"annotationdefaults\":{\"arrowcolor\":\"#2a3f5f\",\"arrowhead\":0,\"arrowwidth\":1},\"geo\":{\"bgcolor\":\"white\",\"landcolor\":\"#E5ECF6\",\"subunitcolor\":\"white\",\"showland\":true,\"showlakes\":true,\"lakecolor\":\"white\"},\"title\":{\"x\":0.05},\"mapbox\":{\"style\":\"light\"}}},\"title\":{\"text\":\"Predicted vs Actual Target Values by Location\"},\"xaxis\":{\"title\":{\"text\":\"Actual Target Value\"},\"range\":[0,91.0]},\"yaxis\":{\"title\":{\"text\":\"Predicted Target Value\"},\"range\":[0,91.0]},\"width\":1000,\"height\":800,\"hovermode\":\"closest\",\"annotations\":[{\"bgcolor\":\"white\",\"bordercolor\":\"black\",\"borderwidth\":1,\"showarrow\":false,\"text\":\"MAE = 4.18\\u003cbr\\u003eRMSE = 10.79\\u003cbr\\u003eSMAPE = 147.48%\",\"x\":0.05,\"xref\":\"paper\",\"y\":0.95,\"yref\":\"paper\"}]},                        {\"responsive\": true}                    ).then(function(){\n",
       "                            \n",
       "var gd = document.getElementById('edeb8baf-343b-4f7a-b358-64c43feea2de');\n",
       "var x = new MutationObserver(function (mutations, observer) {{\n",
       "        var display = window.getComputedStyle(gd).display;\n",
       "        if (!display || display === 'none') {{\n",
       "            console.log([gd, 'removed!']);\n",
       "            Plotly.purge(gd);\n",
       "            observer.disconnect();\n",
       "        }}\n",
       "}});\n",
       "\n",
       "// Listen for the removal of the full notebook cells\n",
       "var notebookContainer = gd.closest('#notebook-container');\n",
       "if (notebookContainer) {{\n",
       "    x.observe(notebookContainer, {childList: true});\n",
       "}}\n",
       "\n",
       "// Listen for the clearing of the current output cell\n",
       "var outputEl = gd.closest('.output');\n",
       "if (outputEl) {{\n",
       "    x.observe(outputEl, {childList: true});\n",
       "}}\n",
       "\n",
       "                        })                };                });            </script>        </div>"
      ]
     },
     "metadata": {},
     "output_type": "display_data"
    },
    {
     "name": "stdout",
     "output_type": "stream",
     "text": [
      "Interactive Plotly plot saved as 'interactive_wildfire_target_prediction.html'\n"
     ]
    }
   ],
   "source": [
    "import plotly.graph_objects as go\n",
    "import plotly.io as pio\n",
    "\n",
    "# Create the scatter plot\n",
    "fig = go.Figure()\n",
    "\n",
    "# Add scatter plot\n",
    "fig.add_trace(go.Scatter(\n",
    "    x=predictions_df['cfb'],\n",
    "    y=predictions_df['cfb_pred'],\n",
    "    mode='markers',\n",
    "    marker=dict(\n",
    "        size=10,\n",
    "        color=predictions_df['cfb'],\n",
    "        colorscale='YlOrRd',\n",
    "        showscale=True,\n",
    "        colorbar=dict(title='Actual Target Value')\n",
    "    ),\n",
    "    text=predictions_df['locality'],\n",
    "    hovertemplate='<b>%{text}</b><br>Actual: %{x:.2f}<br>Predicted: %{y:.2f}<extra></extra>'\n",
    "))\n",
    "\n",
    "# Add perfect prediction line\n",
    "max_value = max(predictions_df['cfb'].max(), predictions_df['cfb_pred'].max())\n",
    "fig.add_trace(go.Scatter(\n",
    "    x=[0, max_value],\n",
    "    y=[0, max_value],\n",
    "    mode='lines',\n",
    "    name='Perfect Prediction',\n",
    "    line=dict(color='red', dash='dash')\n",
    "))\n",
    "\n",
    "# Update layout\n",
    "fig.update_layout(\n",
    "    title='Predicted vs Actual Target Values by Location',\n",
    "    xaxis_title='Actual Target Value',\n",
    "    yaxis_title='Predicted Target Value',\n",
    "    width=1000,\n",
    "    height=800,\n",
    "    hovermode='closest',\n",
    "    annotations=[\n",
    "        dict(\n",
    "            x=0.05,\n",
    "            y=0.95,\n",
    "            xref='paper',\n",
    "            yref='paper',\n",
    "            text=f'MAE = {mae:.2f}<br>RMSE = {rmse:.2f}<br>SMAPE = {smape_value:.2f}%',\n",
    "            showarrow=False,\n",
    "            bgcolor='white',\n",
    "            bordercolor='black',\n",
    "            borderwidth=1\n",
    "        )\n",
    "    ]\n",
    ")\n",
    "\n",
    "# Update axes to be equal\n",
    "fig.update_xaxes(range=[0, max_value])\n",
    "fig.update_yaxes(range=[0, max_value])\n",
    "fig.show()\n",
    "# Save the plot as an interactive HTML file\n",
    "pio.write_html(fig, file='interactive_wildfire_target_prediction.html', auto_open=True)\n",
    "\n",
    "print(\"Interactive Plotly plot saved as 'interactive_wildfire_target_prediction.html'\")\n",
    "\n",
    "# # If you want to save as a static image as well\n",
    "# fig.write_image(\"static_wildfire_target_prediction.png\")\n",
    "# print(\"Static image saved as 'static_wildfire_target_prediction.png'\")"
   ]
  },
  {
   "cell_type": "code",
   "execution_count": 58,
   "id": "6c9e51ec",
   "metadata": {
    "execution": {
     "iopub.execute_input": "2024-08-08T02:44:45.684957Z",
     "iopub.status.busy": "2024-08-08T02:44:45.684181Z",
     "iopub.status.idle": "2024-08-08T02:44:45.693745Z",
     "shell.execute_reply": "2024-08-08T02:44:45.692890Z"
    },
    "papermill": {
     "duration": 0.045257,
     "end_time": "2024-08-08T02:44:45.695720",
     "exception": false,
     "start_time": "2024-08-08T02:44:45.650463",
     "status": "completed"
    },
    "tags": []
   },
   "outputs": [
    {
     "data": {
      "text/plain": [
       "0                  Altona\n",
       "66             Burns Lake\n",
       "132                Chateh\n",
       "198             Cleardale\n",
       "264                Endako\n",
       "330        Fort Good Hope\n",
       "396           Fort Nelson\n",
       "462            Fort Smith\n",
       "528     Germansen Landing\n",
       "594             MacKenzie\n",
       "660           McLeod Lake\n",
       "726         Meander River\n",
       "792             Prespatou\n",
       "858         Prophet River\n",
       "924          Rainbow Lake\n",
       "990            Vanderhoof\n",
       "1056              Wonowon\n",
       "Name: locality, dtype: object"
      ]
     },
     "execution_count": 58,
     "metadata": {},
     "output_type": "execute_result"
    }
   ],
   "source": [
    "locations = predictions_df.drop_duplicates(subset=['locality'])['locality']\n",
    "locations"
   ]
  },
  {
   "cell_type": "code",
   "execution_count": 59,
   "id": "3fd35637",
   "metadata": {
    "execution": {
     "iopub.execute_input": "2024-08-08T02:44:45.762764Z",
     "iopub.status.busy": "2024-08-08T02:44:45.762307Z",
     "iopub.status.idle": "2024-08-08T02:44:45.767711Z",
     "shell.execute_reply": "2024-08-08T02:44:45.766776Z"
    },
    "papermill": {
     "duration": 0.041177,
     "end_time": "2024-08-08T02:44:45.769716",
     "exception": false,
     "start_time": "2024-08-08T02:44:45.728539",
     "status": "completed"
    },
    "tags": []
   },
   "outputs": [
    {
     "data": {
      "text/plain": [
       "17"
      ]
     },
     "execution_count": 59,
     "metadata": {},
     "output_type": "execute_result"
    }
   ],
   "source": [
    "len(locations)"
   ]
  },
  {
   "cell_type": "code",
   "execution_count": 60,
   "id": "370b14b6",
   "metadata": {
    "execution": {
     "iopub.execute_input": "2024-08-08T02:44:45.836046Z",
     "iopub.status.busy": "2024-08-08T02:44:45.835737Z",
     "iopub.status.idle": "2024-08-08T02:44:45.846455Z",
     "shell.execute_reply": "2024-08-08T02:44:45.845523Z"
    },
    "papermill": {
     "duration": 0.046099,
     "end_time": "2024-08-08T02:44:45.848474",
     "exception": false,
     "start_time": "2024-08-08T02:44:45.802375",
     "status": "completed"
    },
    "tags": []
   },
   "outputs": [
    {
     "name": "stdout",
     "output_type": "stream",
     "text": [
      "\n",
      "Statistics:\n",
      "Number of locations: 17\n",
      "Mean Absolute Error: 4.18\n",
      "Root Mean Squared Error: 10.79\n",
      "Symmetric Mean Absolute Percentage Error: 147.48\n",
      "\n",
      "Top 5 locations with highest actual target values:\n",
      "     locality   cfb   cfb_pred  time_idx\n",
      "1061  Wonowon  83.0  79.945602         5\n",
      "1062  Wonowon  83.0  79.945602         6\n",
      "1097  Wonowon  83.0  79.945602        41\n",
      "1100  Wonowon  83.0  79.945602        44\n",
      "1101  Wonowon  83.0  79.945602        45\n"
     ]
    }
   ],
   "source": [
    "# Print some statistics\n",
    "print(\"\\nStatistics:\")\n",
    "print(f\"Number of locations: {len(locations)}\")\n",
    "print(f\"Mean Absolute Error: {mae:.2f}\")\n",
    "print(f\"Root Mean Squared Error: {rmse:.2f}\")\n",
    "print(f\"Symmetric Mean Absolute Percentage Error: {smape_value:.2f}\")\n",
    "print(\"\\nTop 5 locations with highest actual target values:\")\n",
    "print(predictions_df.sort_values('cfb_pred', ascending=False)[['locality', 'cfb', 'cfb_pred','time_idx']].head())"
   ]
  }
 ],
 "metadata": {
  "kaggle": {
   "accelerator": "none",
   "dataSources": [
    {
     "datasetId": 5323261,
     "sourceId": 9084203,
     "sourceType": "datasetVersion"
    },
    {
     "datasetId": 5496161,
     "sourceId": 9127496,
     "sourceType": "datasetVersion"
    }
   ],
   "dockerImageVersionId": 30747,
   "isGpuEnabled": false,
   "isInternetEnabled": true,
   "language": "python",
   "sourceType": "notebook"
  },
  "kernelspec": {
   "display_name": "Python 3",
   "language": "python",
   "name": "python3"
  },
  "language_info": {
   "codemirror_mode": {
    "name": "ipython",
    "version": 3
   },
   "file_extension": ".py",
   "mimetype": "text/x-python",
   "name": "python",
   "nbconvert_exporter": "python",
   "pygments_lexer": "ipython3",
   "version": "3.11.3"
  },
  "papermill": {
   "default_parameters": {},
   "duration": 142.262634,
   "end_time": "2024-08-08T02:44:49.515997",
   "environment_variables": {},
   "exception": null,
   "input_path": "__notebook__.ipynb",
   "output_path": "__notebook__.ipynb",
   "parameters": {},
   "start_time": "2024-08-08T02:42:27.253363",
   "version": "2.5.0"
  }
 },
 "nbformat": 4,
 "nbformat_minor": 5
}
