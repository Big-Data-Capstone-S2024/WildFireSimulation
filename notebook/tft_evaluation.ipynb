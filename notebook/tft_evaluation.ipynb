{
 "cells": [
  {
   "cell_type": "code",
   "execution_count": 2,
   "metadata": {},
   "outputs": [
    {
     "ename": "NameError",
     "evalue": "name 'TemporalFusionTransformer' is not defined",
     "output_type": "error",
     "traceback": [
      "\u001b[1;31m---------------------------------------------------------------------------\u001b[0m",
      "\u001b[1;31mNameError\u001b[0m                                 Traceback (most recent call last)",
      "Cell \u001b[1;32mIn[2], line 9\u001b[0m\n\u001b[0;32m      7\u001b[0m \u001b[38;5;66;03m# 1. Load the checkpoint file\u001b[39;00m\n\u001b[0;32m      8\u001b[0m best_model_path \u001b[38;5;241m=\u001b[39m \u001b[38;5;124m\"\u001b[39m\u001b[38;5;124m../models/best-checkpoint.ckpt\u001b[39m\u001b[38;5;124m\"\u001b[39m\n\u001b[1;32m----> 9\u001b[0m best_tft \u001b[38;5;241m=\u001b[39m \u001b[43mTemporalFusionTransformer\u001b[49m\u001b[38;5;241m.\u001b[39mload_from_checkpoint(best_model_path)\n\u001b[0;32m     11\u001b[0m df \u001b[38;5;241m=\u001b[39m pd\u001b[38;5;241m.\u001b[39mread_json(\u001b[38;5;124m'\u001b[39m\u001b[38;5;124m../data/wildfire_collection_feature_engineering_final.json\u001b[39m\u001b[38;5;124m'\u001b[39m)\n\u001b[0;32m     12\u001b[0m df\u001b[38;5;241m.\u001b[39mdrop(columns\u001b[38;5;241m=\u001b[39m\u001b[38;5;124m'\u001b[39m\u001b[38;5;124m_id\u001b[39m\u001b[38;5;124m'\u001b[39m, inplace\u001b[38;5;241m=\u001b[39m\u001b[38;5;28;01mTrue\u001b[39;00m)\n",
      "\u001b[1;31mNameError\u001b[0m: name 'TemporalFusionTransformer' is not defined"
     ]
    }
   ],
   "source": [
    "import torch\n",
    "from pytorch_forecasting import TemporalFusionTransformer, TimeSeriesDataSet\n",
    "from pytorch_forecasting.metrics import MAE, SMAPE\n",
    "from pytorch_forecasting.models.temporal_fusion_transformer.plot import plot_prediction\n",
    "import matplotlib.pyplot as plt\n",
    "import pandas as pd\n",
    "import datetime\n",
    "from datetime import datetime\n",
    "\n",
    "# 1. Load the checkpoint file\n",
    "best_model_path = \"../models/best-checkpoint.ckpt\"\n",
    "best_tft = TemporalFusionTransformer.load_from_checkpoint(best_model_path)\n",
    "\n",
    "df = pd.read_json('../data/wildfire_collection_feature_engineering_final.json')\n",
    "df.drop(columns='_id', inplace=True)\n",
    "\n",
    "def return_date(date_string):\n",
    "    #date_dict = eval(date_string)  # Convert the string to a dictionary\n",
    "    date_value = date_string['$date']  # Get the value of the '$date' key\n",
    "    return datetime.strptime(date_value, \"%Y-%m-%dT%H:%M:%S.%fZ\").date()  # Convert the string to a date object\n",
    "\n",
    "df['rep_date'] = df['rep_date'].apply(return_date)\n",
    "df['cfb'] = df['cfb'].astype(float)"
   ]
  },
  {
   "cell_type": "code",
   "execution_count": null,
   "metadata": {},
   "outputs": [],
   "source": [
    "split_date = datetime.date(2023, 1, 1)\n",
    "train_data = df[df['rep_date'] < split_date]\n",
    "test_data = df[df['rep_date'] >= split_date]"
   ]
  },
  {
   "cell_type": "code",
   "execution_count": null,
   "metadata": {},
   "outputs": [],
   "source": [
    "# 2. Load your test dataset\n",
    "# Assuming you have already created your TimeSeriesDataSet\n",
    "test_dataset = TimeSeriesDataSet.from_dataset(training_dataset,\n",
    "                                        test_data, \n",
    "                                        predict=True, \n",
    "                                        stop_randomization=True)"
   ]
  },
  {
   "cell_type": "code",
   "execution_count": null,
   "metadata": {},
   "outputs": [],
   "source": [
    "# Create DataLoader\n",
    "test_dataloader = test_dataset.to_dataloader(train=False, batch_size=128, num_workers=4)\n",
    "\n",
    "# 3. Evaluate the model\n",
    "device = torch.device(\"cuda\" if torch.cuda.is_available() else \"cpu\")\n",
    "actuals = torch.cat([y for x, (y, weight) in iter(test_dataloader)]).to(device)\n",
    "predictions = best_tft.predict(test_dataloader).to(device)\n",
    "raw_predictions = best_tft.predict(test_dataloader, mode=\"raw\", return_x=True).to(device)\n",
    "\n",
    "# 4. Calculate metrics\n",
    "mae = MAE()(predictions, actuals)\n",
    "smape = SMAPE()(predictions, actuals)\n",
    "print(f\"MAE: {mae}\")\n",
    "print(f\"SMAPE: {smape}\")"
   ]
  },
  {
   "cell_type": "code",
   "execution_count": null,
   "metadata": {},
   "outputs": [],
   "source": [
    "# 5. Plot actual vs predictions\n",
    "plt.figure(figsize=(10, 6))\n",
    "plt.plot(actuals.numpy(), label='Actual')\n",
    "plt.plot(predictions.numpy(), label='Predicted')\n",
    "plt.legend()\n",
    "plt.title('Actual vs Predicted Values')\n",
    "plt.xlabel('Time')\n",
    "plt.ylabel('Value')\n",
    "plt.show()"
   ]
  },
  {
   "cell_type": "code",
   "execution_count": null,
   "metadata": {},
   "outputs": [],
   "source": [
    "# 6. Plot feature importances\n",
    "feature_importances = best_tft.interpret_output(raw_predictions, reduction=\"sum\")\n",
    "plt.figure(figsize=(10, 6))\n",
    "feature_importances.plot(kind='bar')\n",
    "plt.title('Feature Importances')\n",
    "plt.xlabel('Features')\n",
    "plt.ylabel('Importance')\n",
    "plt.xticks(rotation=45, ha='right')\n",
    "plt.tight_layout()\n",
    "plt.show()"
   ]
  },
  {
   "cell_type": "code",
   "execution_count": null,
   "metadata": {},
   "outputs": [],
   "source": [
    "# 7. Interpret the predictions for a specific sample\n",
    "interpretation = best_tft.interpret_output(raw_predictions.iget(0))\n",
    "best_tft.plot_interpretation(interpretation)\n",
    "plt.show()"
   ]
  }
 ],
 "metadata": {
  "kernelspec": {
   "display_name": "Python 3",
   "language": "python",
   "name": "python3"
  },
  "language_info": {
   "codemirror_mode": {
    "name": "ipython",
    "version": 3
   },
   "file_extension": ".py",
   "mimetype": "text/x-python",
   "name": "python",
   "nbconvert_exporter": "python",
   "pygments_lexer": "ipython3",
   "version": "3.11.3"
  }
 },
 "nbformat": 4,
 "nbformat_minor": 2
}
